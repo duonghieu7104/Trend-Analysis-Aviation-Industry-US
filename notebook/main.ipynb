{
 "cells": [
  {
   "cell_type": "code",
   "execution_count": 2,
   "id": "f9100904",
   "metadata": {},
   "outputs": [
    {
     "name": "stdout",
     "output_type": "stream",
     "text": [
      "❌ Not running in Google Colab - please run this notebook in Google Colab\n",
      "Please run this notebook in Google Colab to access free GPU\n"
     ]
    }
   ],
   "source": [
    "# Check if running in Google Colab\n",
    "try:\n",
    "    import google.colab\n",
    "    IN_COLAB = True\n",
    "    print(\"✅ Running in Google Colab\")\n",
    "except ImportError:\n",
    "    IN_COLAB = False\n",
    "    print(\"❌ Not running in Google Colab - please run this notebook in Google Colab\")\n",
    "\n",
    "# Enable GPU in Colab (run this cell first)\n",
    "if IN_COLAB:\n",
    "    # Check GPU availability\n",
    "    import torch\n",
    "    print(f\"CUDA available: {torch.cuda.is_available()}\")\n",
    "    if torch.cuda.is_available():\n",
    "        print(f\"GPU device: {torch.cuda.get_device_name(0)}\")\n",
    "        print(f\"GPU memory: {torch.cuda.get_device_properties(0).total_memory / 1024**3:.1f} GB\")\n",
    "    else:\n",
    "        print(\"⚠️  GPU not available. Go to Runtime > Change runtime type > Hardware accelerator > GPU\")\n",
    "else:\n",
    "    print(\"Please run this notebook in Google Colab to access free GPU\")"
   ]
  },
  {
   "cell_type": "code",
   "execution_count": 4,
   "id": "9d65a2a0",
   "metadata": {},
   "outputs": [
    {
     "name": "stdout",
     "output_type": "stream",
     "text": [
      "Please run this in Google Colab to install packages\n"
     ]
    }
   ],
   "source": [
    "# Install required packages for GPU computing\n",
    "if IN_COLAB:\n",
    "    import subprocess\n",
    "    import sys\n",
    "    \n",
    "    # Install PyTorch with CUDA support\n",
    "    subprocess.check_call([sys.executable, \"-m\", \"pip\", \"install\", \"torch\", \"torchvision\", \"torchaudio\", \"--index-url\", \"https://download.pytorch.org/whl/cu118\"])\n",
    "    \n",
    "    # Install additional ML packages\n",
    "    subprocess.check_call([sys.executable, \"-m\", \"pip\", \"install\", \"transformers\", \"datasets\", \"accelerate\"])\n",
    "    \n",
    "    print(\"✅ GPU packages installed successfully\")\n",
    "else:\n",
    "    print(\"Please run this in Google Colab to install packages\")\n"
   ]
  },
  {
   "cell_type": "code",
   "execution_count": null,
   "id": "d7936611",
   "metadata": {},
   "outputs": [],
   "source": [
    "# Test GPU functionality\n",
    "if IN_COLAB and torch.cuda.is_available():\n",
    "    import torch\n",
    "    import time\n",
    "    \n",
    "    # Create a simple tensor and move it to GPU\n",
    "    device = torch.device('cuda' if torch.cuda.is_available() else 'cpu')\n",
    "    print(f\"Using device: {device}\")\n",
    "    \n",
    "    # Test GPU computation\n",
    "    x = torch.randn(1000, 1000).to(device)\n",
    "    y = torch.randn(1000, 1000).to(device)\n",
    "    \n",
    "    # Time the computation\n",
    "    start_time = time.time()\n",
    "    result = torch.matmul(x, y)\n",
    "    torch.cuda.synchronize()  # Wait for GPU to finish\n",
    "    end_time = time.time()\n",
    "    \n",
    "    print(f\"✅ GPU computation successful!\")\n",
    "    print(f\"Matrix multiplication time: {end_time - start_time:.4f} seconds\")\n",
    "    print(f\"Result shape: {result.shape}\")\n",
    "    print(f\"Result device: {result.device}\")\n",
    "    \n",
    "    # Clear GPU memory\n",
    "    del x, y, result\n",
    "    torch.cuda.empty_cache()\n",
    "    print(\"GPU memory cleared\")\n",
    "else:\n",
    "    print(\"GPU not available or not in Colab environment\")\n"
   ]
  }
 ],
 "metadata": {
  "kernelspec": {
   "display_name": "Python 3",
   "language": "python",
   "name": "python3"
  },
  "language_info": {
   "codemirror_mode": {
    "name": "ipython",
    "version": 3
   },
   "file_extension": ".py",
   "mimetype": "text/x-python",
   "name": "python",
   "nbconvert_exporter": "python",
   "pygments_lexer": "ipython3",
   "version": "3.9.8"
  }
 },
 "nbformat": 4,
 "nbformat_minor": 5
}
