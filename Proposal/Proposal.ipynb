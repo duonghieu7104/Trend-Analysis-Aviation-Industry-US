{
  "cells": [
    {
      "cell_type": "markdown",
      "metadata": {
        "id": "view-in-github",
        "colab_type": "text"
      },
      "source": [
        "<a href=\"https://colab.research.google.com/github/duonghieu7104/Trend-Analysis-Aviation-Industry-US/blob/main/Proposal/Proposal.ipynb\" target=\"_parent\"><img src=\"https://colab.research.google.com/assets/colab-badge.svg\" alt=\"Open In Colab\"/></a>"
      ]
    },
    {
      "cell_type": "markdown",
      "id": "058affe2",
      "metadata": {
        "id": "058affe2"
      },
      "source": [
        "<p align=\"center\">\n",
        "  <b style=\"font-size:30px;\">PHÂN TÍCH XU HƯỚNG NGÀNH HÀNG KHÔNG TẠI MỸ (1993–2024)</b><br>\n",
        "  <b style=\"font-size:18px;\">U.S. Aviation Trend Analysis (1993–2024)</b>\n",
        "</p>\n",
        "<br>\n",
        "\n",
        "**Giảng viên hướng dẫn:** ThS. Quách Đình Hoàng  <br>\n",
        "**Môn học:** Ứng dụng dữ liệu lớn – Học máy ở quy mô lớn  <br>\n",
        "**Năm thực hiện:** 2025  <br>\n",
        "**Nhóm 2:**   <br>\n",
        "&nbsp;&nbsp;&nbsp;&nbsp;&nbsp;&nbsp;&nbsp;&nbsp;&nbsp;&nbsp;&nbsp;&nbsp;&nbsp;&nbsp;&nbsp;&nbsp;&nbsp;Nguyễn Thành An – 22133002  <br>\n",
        "&nbsp;&nbsp;&nbsp;&nbsp;&nbsp;&nbsp;&nbsp;&nbsp;&nbsp;&nbsp;&nbsp;&nbsp;&nbsp;&nbsp;&nbsp;&nbsp;&nbsp;Dương Minh Hiếu – 22133018  <br>\n",
        "&nbsp;&nbsp;&nbsp;&nbsp;&nbsp;&nbsp;&nbsp;&nbsp;&nbsp;&nbsp;&nbsp;&nbsp;&nbsp;&nbsp;&nbsp;&nbsp;&nbsp;Trương Trọng Đại Long – 22133033  <br>\n",
        "&nbsp;&nbsp;&nbsp;&nbsp;&nbsp;&nbsp;&nbsp;&nbsp;&nbsp;&nbsp;&nbsp;&nbsp;&nbsp;&nbsp;&nbsp;&nbsp;&nbsp;Nguyễn Đức Cao Thăng – 22133053\n"
      ]
    },
    {
      "cell_type": "markdown",
      "id": "b8877203",
      "metadata": {
        "id": "b8877203"
      },
      "source": [
        "### **1. Giới thiệu về bài toán và dữ liệu** <br>\n",
        "\n",
        "#### **Nguồn dữ liệu** <br>\n",
        "- **Tên bộ dữ liệu:** [*US Airline Flight Routes and Fares (1993–2024)*](https://www.kaggle.com/datasets/bhavikjikadara/us-airline-flight-routes-and-fares-1993-2024)  \n",
        "- **Nguồn:** Trang web **Kaggle**\n",
        "- **Người thu thập:** *Bhavik Jikadara (2024)*  \n",
        "\n",
        "#### **Mô tả**  \n",
        "Bộ dữ liệu thu thập thông tin chi tiết về **tuyến bay**, **giá vé**, **lượng hành khách**, và **hãng hàng không** hoạt động tại Hoa Kỳ trong suốt **ba thập kỷ (1993–2024)**.  \n",
        "\n",
        "<p><b>Dữ liệu bao gồm các trường quan trọng như:</b></p>\n",
        "\n",
        "<table style=\"width:100%; border-collapse:collapse;\">\n",
        "  <tr>\n",
        "    <td style=\"vertical-align:top; width:50%; padding-right:20px;\">\n",
        "      • tbl: Table identifier <br>\n",
        "      • Year: Year of the data record <br>\n",
        "      • quarter: Quarter of the year (1–4) <br>\n",
        "      • citymarketid_1: Origin city market ID <br>\n",
        "      • citymarketid_2: Destination city market ID <br>\n",
        "      • city1: Origin city name <br>\n",
        "      • city2: Destination city name <br>\n",
        "      • airportid_1: Origin airport ID <br>\n",
        "      • airportid_2: Destination airport ID <br>\n",
        "      • airport_1: Origin airport code <br>\n",
        "      • airport_2: Destination airport code <br>\n",
        "    </td>\n",
        "    <td style=\"vertical-align:top; width:50%;\">\n",
        "      • nsmiles: Distance between airports in miles <br>\n",
        "      • passengers: Number of passengers <br>\n",
        "      • fare: Average fare <br>\n",
        "      • carrier_lg: Code for the largest carrier by passengers <br>\n",
        "      • large_ms: Market share of the largest carrier <br>\n",
        "      • fare_lg: Average fare of the largest carrier <br>\n",
        "      • carrier_low: Code for the lowest fare carrier <br>\n",
        "      • lf_ms: Market share of the lowest fare carrier <br>\n",
        "      • fare_low: Lowest fare <br>\n",
        "      • Geocoded_City1: Coordinates for the origin city <br>\n",
        "      • Geocoded_City2: Coordinates for the destination city <br>\n",
        "      • tbl1apk: Unique identifier for the route\n",
        "    </td>\n",
        "  </tr>\n",
        "</table>\n",
        "\n",
        "#### **Bài toán**\n",
        "\n",
        "**Phạm vi phân tích:** Ngành hàng không Mỹ, giai đoạn **1993–2024**.  \n",
        "\n",
        "- **Mục tiêu 1:** Xây dựng mô hình dự đoán **giá vé** và **lượng hành khách** cho từng chuyến bay.  \n",
        "\n",
        "- **Mục tiêu 2:** Phân tích ảnh hưởng của **khoảng cách bay** đến **giá vé** và **nhu cầu hành khách**. Xây dựng mô hình phát hiện bất thường.  \n",
        "\n",
        "- **Mục tiêu 3:** Xây dựng mô hình dự đoán **thị phần** để hỗ trợ ra quyết định trong ngành.  \n",
        "\n",
        "- **Mục tiêu 4:** Xây dựng mô hình **phân loại tuyến bay** theo **tiềm năng phát triển**.  \n"
      ]
    },
    {
      "cell_type": "markdown",
      "id": "3a0f5c15",
      "metadata": {
        "id": "3a0f5c15"
      },
      "source": [
        "### **2. Kế hoạch phân tích dữ liệu**"
      ]
    },
    {
      "cell_type": "markdown",
      "id": "08e0ebda",
      "metadata": {
        "id": "08e0ebda"
      },
      "source": [
        "#### **2.1 Xây dựng mô hình dự đoán **giá vé** và **lượng hành khách** cho từng chuyến bay**\n",
        "##### **a. Xây dựng mô hình dự đoán **giá vé** cho từng chuyến bay**"
      ]
    },
    {
      "cell_type": "markdown",
      "id": "a01dbf35",
      "metadata": {
        "id": "a01dbf35"
      },
      "source": [
        "**Mục tiêu:**  \n",
        "Xây dựng mô hình **dự đoán giá vé trung bình (`fare`)** cho mỗi tuyến bay trong tập dữ liệu hàng không Mỹ, dựa vào các yếu tố như khoảng cách, thời gian, số lượng hành khách và mức độ cạnh tranh.\n",
        "\n",
        "**Biến đầu vào (Input Features):**\n",
        "\n",
        "| Nhóm đặc trưng | Tên biến | Kiểu dữ liệu PySpark | Mô tả |\n",
        "|----------------|-----------|----------------------|--------|\n",
        "| **Khoảng cách** | `nsmiles` | DoubleType | Khoảng cách giữa hai sân bay (dặm) |\n",
        "| **Hành khách** | `passengers` | DoubleType | Số lượng hành khách trung bình |\n",
        "| **Thời gian** | `Year`, `quarter` | IntegerType | Năm và quý trong năm |\n",
        "| **Giá vé chi tiết** | `fare_diff`, `fare_per_mile` | DoubleType | Độ chênh lệch giá và giá vé trung bình trên mỗi dặm |\n",
        "| **Chỉ số cạnh tranh** | `hhi` | DoubleType | Chỉ số Herfindahl-Hirschman thể hiện mức độ tập trung thị trường |\n",
        "| **Phân loại định danh** | `carrier_lg`, `carrier_low`, `airport_1`, `airport_2` | StringType | Mã hãng hàng không & mã sân bay |\n",
        "\n",
        "**Biến đầu ra (Target Variable):**\n",
        "- `fare` — **Giá vé trung bình (DoubleType)** cần dự đoán.\n",
        "\n",
        "**Mô hình sử dụng:**\n",
        "- `RandomForestRegressor`\n",
        "- `GBTRegressor`  \n",
        "\n",
        "**Độ đo đánh giá (Evaluation Metrics):**\n",
        "\n",
        "| Metric | Ý nghĩa |\n",
        "|--------|----------|\n",
        "| **R²** | Độ phù hợp mô hình (cao → mô hình giải thích tốt biến thiên của dữ liệu) |\n",
        "| **MAE** | Sai số tuyệt đối trung bình |\n",
        "| **RMSE** | Sai số bình phương trung bình, nhạy với ngoại lệ |\n",
        "\n",
        "**Phương pháp đánh giá mô hình:**\n",
        "- **Train/Test Split** (ví dụ: 80/20)\n",
        "- **TrainValidationSplit** để chọn siêu tham số tối ưu\n",
        "\n",
        "**Kết quả mong đợi:**\n",
        "- `R²` > 0.95 cho tập huấn luyện và kiểm thử.  \n",
        "- `MAE` và `RMSE` nhỏ → mô hình có khả năng dự báo chính xác giá vé.\n"
      ]
    },
    {
      "cell_type": "markdown",
      "id": "1d0272f9",
      "metadata": {
        "id": "1d0272f9"
      },
      "source": [
        "##### **b. Mô hình dự đoán _số lượng hành khách_ trên một chuyến bay**\n",
        "\n",
        "**Mục tiêu:**  \n",
        "Xây dựng mô hình **dự đoán số lượng hành khách (`passengers`)** trên mỗi tuyến bay, dựa vào các yếu tố như khoảng cách, giá vé, thời gian, và xu hướng hành khách trong các quý trước.\n",
        "\n",
        "**Biến đầu vào (Input Features):**\n",
        "\n",
        "| Nhóm đặc trưng | Tên biến | Kiểu dữ liệu PySpark | Mô tả |\n",
        "|----------------|-----------|----------------------|--------|\n",
        "| **Khoảng cách** | `nsmiles` | DoubleType | Khoảng cách giữa hai sân bay (dặm) |\n",
        "| **Lịch sử hành khách** | `passengers_lag1`, `passengers_lag4`, `passengers_roll_mean4`, `passengers_roll_median4` | DoubleType | Các đặc trưng thời gian phản ánh số hành khách trong 1–4 quý trước hoặc trung bình trượt |\n",
        "| **Thời gian** | `Year`, `quarter` | IntegerType | Năm và quý trong năm |\n",
        "| **Giá vé & cạnh tranh** | `fare`, `fare_low`, `fare_diff`, `fare_per_mile`, `hhi` | DoubleType | Giá vé trung bình, giá thấp nhất, giá trên mỗi dặm, và chỉ số tập trung thị trường |\n",
        "\n",
        "\n",
        "**Biến đầu ra (Target Variable):**\n",
        "- `passengers` — **Số lượng hành khách trên tuyến bay (DoubleType)** cần dự đoán.\n",
        "\n",
        "\n",
        "**Mô hình sử dụng:**\n",
        "- `RandomForestRegressor`\n",
        "- `GBTRegressor`  \n",
        "\n",
        "**Độ đo đánh giá (Evaluation Metrics):**\n",
        "\n",
        "| Metric | Ý nghĩa |\n",
        "|--------|----------|\n",
        "| **R²** | Độ phù hợp mô hình (cao → mô hình giải thích tốt biến thiên của dữ liệu) |\n",
        "| **MAE** | Sai số tuyệt đối trung bình |\n",
        "| **RMSE** | Sai số bình phương trung bình, nhạy với ngoại lệ |\n",
        "\n",
        "**Phương pháp đánh giá mô hình:**\n",
        "- **Train/Test Split** (ví dụ: 80/20)\n",
        "- **TrainValidationSplit** để chọn siêu tham số tối ưu\n",
        "\n",
        "**Kết quả mong đợi:**\n",
        "- `R²` > 0.95 cho tập huấn luyện và kiểm thử.  \n",
        "- `MAE` và `RMSE` nhỏ → mô hình có khả năng dự báo chính xác số lượng khách.\n"
      ]
    },
    {
      "cell_type": "markdown",
      "id": "4337312c",
      "metadata": {
        "id": "4337312c"
      },
      "source": [
        "#### **2.2 Xây dựng mô hình hồi quy tuyến tính và phi tuyến để đánh giá tác động của khoảng cách bay đến giá vé và lượng hành khách**"
      ]
    },
    {
      "cell_type": "markdown",
      "id": "12f03d66",
      "metadata": {
        "id": "12f03d66"
      },
      "source": [
        "**Mục tiêu chính:**\n",
        "- Định lượng mối quan hệ giữa **khoảng cách (nsmiles)** và **giá vé / số hành khách**  \n",
        "- Xác định **xu hướng biến động giá vé theo độ dài tuyến bay**\n",
        "\n",
        "**Phương pháp & mô hình áp dụng:**\n",
        "- **Correlation**, **Scatter Plot**, **Boxplot (EDA)** → đo mức tương quan giữa khoảng cách và giá vé/hành khách  \n",
        "- **Linear Regression / Polynomial Regression** → mô hình hóa tác động tuyến tính & phi tuyến  \n",
        "\n",
        "**Input:**\n",
        "\n",
        "| Thuộc tính | Kiểu dữ liệu | Mô tả |\n",
        "|-------------|---------------|-------|\n",
        "| `nsmiles` | DoubleType | Khoảng cách bay |\n",
        "| `passengers` | IntegerType | Số lượng hành khách |\n",
        "| `carrier_lg`, `large_ms` | StringType | Hãng hàng không |\n",
        "| `quarter` | IntegerType | Quý trong năm |\n",
        "| `year` | IntegerType | Năm |\n",
        "| `fare`, `fare_lg`, `fare_low` | IntegerType | Các mức giá vé |\n",
        "\n",
        "**Output:**\n",
        "- Thống kê mô tả, biểu đồ phân phối, hệ số tương quan  \n",
        "- Xu hướng quan hệ giữa **khoảng cách – giá vé**  \n",
        "- Mô hình hồi quy: Biểu diễn mối quan hệ **nsmiles → fare**  \n",
        "- Kết luận: “Mỗi 100 dặm tăng → giá vé tăng trung bình **X USD**”\n",
        "\n",
        "**Phương pháp đánh giá:**\n",
        "- **Train/Test Split**  \n",
        "- **Cross-Validation**\n",
        "\n",
        "**Độ đo:**\n",
        "- **R² cao** → mô hình giải thích tốt  \n",
        "- **MAE**, **RMSE nhỏ** → mô hình dự báo chính xác  \n"
      ]
    },
    {
      "cell_type": "markdown",
      "id": "23fb188b",
      "metadata": {
        "id": "23fb188b"
      },
      "source": [
        "**2.3 Xây dựng mô hình dự đoán thị phần (market share)**\n",
        "\n",
        "**Mục tiêu**\n",
        "Phân tích thị phần và mức độ cạnh tranh giữa các hãng; dự đoán `large_ms` — thị phần (%) của hãng có thị phần lớn nhất trên một tuyến bay cụ thể.\n",
        "\n",
        "**Input features**\n",
        "\n",
        "| Nhóm | Tên biến | Kiểu dữ liệu | Mô tả |\n",
        "|------|---------:|--------------|-------|\n",
        "| **Quy mô thị trường** | `passengers` | IntegerType | Tổng số hành khách trên tuyến |\n",
        "|  | `nsmiles` | DoubleType | Khoảng cách giữa 2 sân bay (miles) |\n",
        "|  | `fare` | DoubleType | Giá vé trung bình (tất cả hãng) |\n",
        "| **Thông tin cạnh tranh** | `lf_ms` | DoubleType | Thị phần hãng có giá vé thấp nhất |\n",
        "|  | `fare_low` | DoubleType | Giá vé thấp nhất trên tuyến |\n",
        "|  | `carrier_lg` | StringType → Indexed | Mã hãng có market share lớn nhất |\n",
        "|  | `carrier_low` | StringType → Indexed | Mã hãng có giá vé thấp nhất |\n",
        "| **Thời gian** | `Year` | IntegerType | Năm |\n",
        "|  | `quarter` | StringType | Quý |\n",
        "| **Engineered features** | `revenue` | DoubleType | `passengers * fare` |\n",
        "|  | `fare_per_mile` | DoubleType | `fare / nsmiles` |\n",
        "|  | `fare_difference` | DoubleType | `fare - fare_low` |\n",
        "|  | `is_largest_cheapest` | Binary (0/1) | `1` if `carrier_lg == carrier_low` else `0` |\n",
        "\n",
        "**Output (Target)**\n",
        "- `large_ms` — Thị phần (%) của hãng lớn nhất trên tuyến:  \n",
        "  `large_ms = (số khách hãng lớn nhất / tổng số khách trên tuyến) * 100%`\n",
        "\n",
        "**Các mô hình áp dụng**\n",
        "1. **Linear Regression**  \n",
        "   - Mẫu: `market_share = β0 + β1×passengers + β2×fare + β3×nsmiles + ... + ε`  \n",
        "   - Ý tưởng: tìm siêu phẳng tuyến tính khớp dữ liệu; mỗi feature có hệ số β biểu thị ảnh hưởng.\n",
        "\n",
        "2. **Random Forest**  \n",
        "   - Tạo nhiều Decision Trees (ví dụ 100 cây), mỗi cây dự đoán, kết quả cuối là trung bình.\n",
        "\n",
        "3. **Gradient Boosted Trees (GBT)**  \n",
        "   - Dự đoán theo kiểu cộng dồn nhiều cây, mỗi cây sửa lỗi của cây trước.\n",
        "\n",
        "**Hyperparameter tuning & Validation strategy**\n",
        "- **Linear Regression**\n",
        "  - Cross-Validation (3-fold)\n",
        "  - Grid Search: 75 combinations\n",
        "  - Tuned params: `regParam`, `elasticNetParam`, `maxIter`\n",
        "\n",
        "- **Random Forest**\n",
        "  - Train-Validation Split (80/20)\n",
        "  - Grid Search: 72 combinations\n",
        "  - Tuned params: `numTrees`, `maxDepth`, `minInstancesPerNode`\n",
        "\n",
        "- **Gradient Boosted Trees**\n",
        "  - Train-Validation Split\n",
        "  - Grid Search: 54 combinations\n",
        "  - Tuned params: `maxIter`, `maxDepth`, `stepSize`\n",
        "\n",
        "**Phương pháp đánh giá (Metrics)**\n",
        "- **R² (Coefficient of Determination)**  \n",
        "  `R² = 1 - (SS_residual / SS_total)` — % biến động của target được mô hình giải thích.\n",
        "\n",
        "- **MAE (Mean Absolute Error)**  \n",
        "  `MAE = (1/n) * Σ |actual - predicted|` — sai số tuyệt đối trung bình.\n",
        "\n",
        "- **RMSE (Root Mean Squared Error)**  \n",
        "  `RMSE = sqrt((1/n) * Σ (actual - predicted)^2)` — sai số trung bình theo đơn vị gốc, nhạy với ngoại lệ.\n"
      ]
    },
    {
      "cell_type": "markdown",
      "id": "0bc6f12e",
      "metadata": {
        "id": "0bc6f12e"
      },
      "source": [
        "#### **2.4 Xây dựng mô hình phân loại tuyến bay theo tiềm năng phát triển**\n",
        "\n",
        "**Mục tiêu**\n",
        "Phân loại các **tuyến bay** thành 3 nhóm tiềm năng phát triển:\n",
        "- **Cao**\n",
        "- **Trung bình**\n",
        "- **Thấp**\n",
        "\n",
        "**Input features**\n",
        "\n",
        "| Biến | Kiểu dữ liệu | Mô tả |\n",
        "|------|--------------|-------|\n",
        "| `passengers` | IntegerType | Số lượng hành khách |\n",
        "| `fare` | DoubleType | Giá vé trung bình |\n",
        "| `nsmiles` | IntegerType | Khoảng cách bay |\n",
        "| `large_ms` | DoubleType | Thị phần hãng lớn nhất |\n",
        "| `lf_ms` | DoubleType | Thị phần hãng có giá rẻ nhất |\n",
        "| `fare_lg` | DoubleType | Giá vé của hãng lớn |\n",
        "| `fare_low` |DoubleType | Giá vé của hãng giá rẻ |\n",
        "| `growth_trend` | DoubleType | Xu hướng tăng trưởng |\n",
        "\n",
        "\n",
        "**Output (Target)**\n",
        "- **`potential_level_enhanced`** — Mức tiềm năng phát triển của tuyến bay:\n",
        "  - `Cao`\n",
        "  - `Trung bình`\n",
        "  - `Thấp`\n",
        "\n",
        "**Các mô hình áp dụng**\n",
        "1. **Random Forest Classifier**\n",
        "   - Mạnh với dữ liệu phi tuyến tính, có thể nắm bắt nhiều mối quan hệ phức tạp.\n",
        "   - Tự động xử lý feature importance.\n",
        "\n",
        "2. **Logistic Regression**\n",
        "   - Mô hình tuyến tính cơ bản.\n",
        "   - Giúp diễn giải rõ ràng ảnh hưởng của từng biến đầu vào.\n",
        "\n",
        "**Phương pháp đánh giá**\n",
        "- **Train/Test Split**  \n",
        "- **Cross-Validation**\n",
        "\n",
        "**Độ đo đánh giá**\n",
        "| Chỉ số | Ý nghĩa |\n",
        "|--------|----------|\n",
        "| **Accuracy** | Tỷ lệ dự đoán đúng tổng thể |\n",
        "| **Precision** | Độ chính xác của dự đoán dương tính |\n",
        "| **Recall** | Độ nhạy của mô hình |\n",
        "| **F1-score** | Trung bình điều hòa giữa Precision và Recall |\n",
        "\n"
      ]
    },
    {
      "cell_type": "markdown",
      "source": [
        "### **3. Thời gian thực hiện**\n",
        "- Tuần 1 — 23/9/2025 → 28/09/2025: Tìm hiểu đề tài và tập dữ liệu\n",
        "- Tuần 2 — 03/10/2025 → 09/10/2025:  Làm sạch dữ liệu, EDA ban đầu, Mô hình hoá ban đầu\n",
        "- Tuần 3 — 10/10/2025 → 16/10/2025: Tinh chỉnh mô hình, , đánh giá\n",
        "- Tuần 4 — 17/10/2025 → 23/10/2025: Hoàn thiện"
      ],
      "metadata": {
        "id": "9ynZk7T_q3qv"
      },
      "id": "9ynZk7T_q3qv"
    }
  ],
  "metadata": {
    "kernelspec": {
      "display_name": "Python 3",
      "language": "python",
      "name": "python3"
    },
    "language_info": {
      "name": "python",
      "version": "3.9.8"
    },
    "colab": {
      "provenance": [],
      "include_colab_link": true
    }
  },
  "nbformat": 4,
  "nbformat_minor": 5
}