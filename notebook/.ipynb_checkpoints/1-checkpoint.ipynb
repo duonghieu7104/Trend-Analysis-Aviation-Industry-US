{
 "cells": [
  {
   "cell_type": "code",
   "execution_count": null,
   "id": "b9c41643",
   "metadata": {},
   "outputs": [],
   "source": [
    "# Using PySpark to handle large dataset with multiLine option\n",
    "from pyspark.sql import SparkSession\n",
    "from pyspark.sql.functions import *\n",
    "from pyspark.sql.types import *\n",
    "\n",
    "# Create Spark session\n",
    "spark = SparkSession.builder \\\n",
    "    .appName(\"Aviation_Data_Analysis\") \\\n",
    "    .config(\"spark.sql.adaptive.enabled\", \"true\") \\\n",
    "    .config(\"spark.sql.adaptive.coalescePartitions.enabled\", \"true\") \\\n",
    "    .config(\"spark.sql.execution.arrow.pyspark.enabled\", \"false\") \\\n",
    "    .config(\"spark.driver.memory\", \"2g\") \\\n",
    "    .config(\"spark.executor.memory\", \"2g\") \\\n",
    "    .config(\"spark.sql.warehouse.dir\", \"/tmp/spark-warehouse\") \\\n",
    "    .master(\"local[*]\") \\\n",
    "    .getOrCreate()\n",
    "\n",
    "# Set log level to reduce warnings\n",
    "spark.sparkContext.setLogLevel(\"ERROR\")\n",
    "\n",
    "print(\"Spark session created successfully!\")\n",
    "\n",
    "# Load data with multiLine option to handle data with line breaks\n",
    "file_path = \"/home/jovyan/data/US Airline Flight Routes and Fares 1993-2024.csv\"\n",
    "\n",
    "print(\"Loading data with multiLine option...\")\n",
    "df = spark.read \\\n",
    "    .option(\"header\", \"true\") \\\n",
    "    .option(\"multiLine\", \"true\") \\\n",
    "    .option(\"inferSchema\", \"true\") \\\n",
    "    .option(\"quote\", '\"') \\\n",
    "    .option(\"escape\", '\"') \\\n",
    "    .csv(file_path)\n",
    "\n",
    "print(f\"Data loaded successfully!\")\n",
    "print(f\"Dataset shape: ({df.count():,} rows, {len(df.columns)} columns)\")\n",
    "print(f\"Columns: {df.columns}\")\n",
    "\n",
    "# Show first few rows\n",
    "print(\"\\nFirst 5 rows:\")\n",
    "df.show(5, truncate=False)\n",
    "\n",
    "# Show data types\n",
    "print(\"\\nData types:\")\n",
    "df.printSchema()"
   ]
  }
 ],
 "metadata": {
  "language_info": {
   "name": "python"
  }
 },
 "nbformat": 4,
 "nbformat_minor": 5
}
