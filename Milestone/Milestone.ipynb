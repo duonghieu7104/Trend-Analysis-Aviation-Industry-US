{
  "cells": [
    {
      "cell_type": "markdown",
      "metadata": {
        "id": "view-in-github",
        "colab_type": "text"
      },
      "source": [
        "<a href=\"https://colab.research.google.com/github/duonghieu7104/Trend-Analysis-Aviation-Industry-US/blob/main/Milestone/Milestone.ipynb\" target=\"_parent\"><img src=\"https://colab.research.google.com/assets/colab-badge.svg\" alt=\"Open In Colab\"/></a>"
      ]
    },
    {
      "cell_type": "markdown",
      "id": "62ccf154",
      "metadata": {
        "id": "62ccf154"
      },
      "source": [
        "<a href=\"https://colab.research.google.com/github/duonghieu7104/Trend-Analysis-Aviation-Industry-US/blob/main/notebook/Market_Share.ipynb\" target=\"_parent\"><img src=\"https://colab.research.google.com/assets/colab-badge.svg\" alt=\"Open In Colab\"/></a>"
      ]
    },
    {
      "cell_type": "code",
      "execution_count": null,
      "id": "dcaaa02b",
      "metadata": {
        "id": "dcaaa02b"
      },
      "outputs": [],
      "source": [
        "from pyspark.sql import SparkSession\n",
        "from pyspark.sql.functions import col, when, isnan, count, mean, stddev, sum\n",
        "from pyspark.ml.feature import VectorAssembler, StringIndexer, StandardScaler\n",
        "from pyspark.ml.regression import LinearRegression, RandomForestRegressor, GBTRegressor\n",
        "from pyspark.ml.evaluation import RegressionEvaluator\n",
        "from pyspark.ml import Pipeline\n",
        "import matplotlib.pyplot as plt\n",
        "import seaborn as sns\n",
        "from pyspark.ml.tuning import ParamGridBuilder, CrossValidator, TrainValidationSplit"
      ]
    },
    {
      "cell_type": "code",
      "execution_count": null,
      "id": "3363dee7",
      "metadata": {
        "id": "3363dee7"
      },
      "outputs": [],
      "source": [
        " spark = SparkSession.builder \\\n",
        "    .appName(\"FlightRouteClassification\") \\\n",
        "    .config(\"spark.driver.memory\", \"8g\") \\\n",
        "    .config(\"spark.executor.memory\", \"8g\") \\\n",
        "    .config(\"spark.sql.adaptive.enabled\", \"true\") \\\n",
        "    .config(\"spark.sql.adaptive.coalescePartitions.enabled\", \"true\") \\\n",
        "    .config(\"spark.sql.shuffle.partitions\", \"8\") \\\n",
        "    .getOrCreate()\n"
      ]
    },
    {
      "cell_type": "code",
      "execution_count": null,
      "id": "f264f1c3",
      "metadata": {
        "id": "f264f1c3",
        "outputId": "53a5dcbb-fa1c-42e3-93da-0cfbec8f41eb"
      },
      "outputs": [
        {
          "name": "stdout",
          "output_type": "stream",
          "text": [
            "Dataset downloaded to: C:\\Users\\PC\\.cache\\kagglehub\\datasets\\bhavikjikadara\\us-airline-flight-routes-and-fares-1993-2024\\versions\\1\n"
          ]
        }
      ],
      "source": [
        "import kagglehub\n",
        "path = kagglehub.dataset_download(\"bhavikjikadara/us-airline-flight-routes-and-fares-1993-2024\")\n",
        "print(f\"Dataset downloaded to: {path}\")"
      ]
    },
    {
      "cell_type": "code",
      "execution_count": null,
      "id": "191d5d05",
      "metadata": {
        "id": "191d5d05"
      },
      "outputs": [],
      "source": [
        "df = (\n",
        "    spark.read\n",
        "    .option(\"header\", \"true\")\n",
        "    .option(\"inferSchema\", \"true\")\n",
        "    .option(\"quote\", '\"')           # rất quan trọng: nhận diện text trong ngoặc kép\n",
        "    .option(\"escape\", '\"')          # escape ký tự \"\n",
        "    .option(\"multiLine\", \"true\")    # xử lý text có xuống dòng\n",
        "    .option(\"mode\", \"PERMISSIVE\")   # không drop dòng lỗi\n",
        "    .option(\"nullValue\", \"\")\n",
        "    .option(\"nanValue\", \"NaN\")\n",
        "    .option(\"emptyValue\", \"\")\n",
        "    .csv(f\"{path}/*.csv\")\n",
        ")"
      ]
    },
    {
      "cell_type": "code",
      "execution_count": null,
      "id": "487aec37",
      "metadata": {
        "id": "487aec37",
        "outputId": "da38627d-d254-4894-af07-e5476178d1e1"
      },
      "outputs": [
        {
          "name": "stdout",
          "output_type": "stream",
          "text": [
            "root\n",
            " |-- tbl: string (nullable = true)\n",
            " |-- Year: integer (nullable = true)\n",
            " |-- quarter: integer (nullable = true)\n",
            " |-- citymarketid_1: integer (nullable = true)\n",
            " |-- citymarketid_2: integer (nullable = true)\n",
            " |-- city1: string (nullable = true)\n",
            " |-- city2: string (nullable = true)\n",
            " |-- airportid_1: integer (nullable = true)\n",
            " |-- airportid_2: integer (nullable = true)\n",
            " |-- airport_1: string (nullable = true)\n",
            " |-- airport_2: string (nullable = true)\n",
            " |-- nsmiles: integer (nullable = true)\n",
            " |-- passengers: integer (nullable = true)\n",
            " |-- fare: double (nullable = true)\n",
            " |-- carrier_lg: string (nullable = true)\n",
            " |-- large_ms: double (nullable = true)\n",
            " |-- fare_lg: double (nullable = true)\n",
            " |-- carrier_low: string (nullable = true)\n",
            " |-- lf_ms: double (nullable = true)\n",
            " |-- fare_low: double (nullable = true)\n",
            " |-- Geocoded_City1: string (nullable = true)\n",
            " |-- Geocoded_City2: string (nullable = true)\n",
            " |-- tbl1apk: string (nullable = true)\n",
            "\n",
            "\n",
            "Số dòng: 245955\n",
            "Số cột: 23\n"
          ]
        }
      ],
      "source": [
        "df.printSchema()\n",
        "print(f\"\\nSố dòng: {df.count()}\")\n",
        "print(f\"Số cột: {len(df.columns)}\")"
      ]
    },
    {
      "cell_type": "code",
      "execution_count": null,
      "id": "9e50b36c",
      "metadata": {
        "id": "9e50b36c",
        "outputId": "62cd0efa-5cc0-4acc-9b07-e004e0c69a59"
      },
      "outputs": [
        {
          "name": "stdout",
          "output_type": "stream",
          "text": [
            "+-------+----+-------+--------------+--------------+--------------------+--------------------+-----------+-----------+---------+---------+-------+----------+------+----------+--------+-------+-----------+------+--------+--------------+--------------+--------------------+\n",
            "|    tbl|Year|quarter|citymarketid_1|citymarketid_2|               city1|               city2|airportid_1|airportid_2|airport_1|airport_2|nsmiles|passengers|  fare|carrier_lg|large_ms|fare_lg|carrier_low| lf_ms|fare_low|Geocoded_City1|Geocoded_City2|             tbl1apk|\n",
            "+-------+----+-------+--------------+--------------+--------------------+--------------------+-----------+-----------+---------+---------+-------+----------+------+----------+--------+-------+-----------+------+--------+--------------+--------------+--------------------+\n",
            "|Table1a|2021|      3|         30135|         33195|Allentown/Bethleh...|Tampa, FL (Metrop...|      10135|      14112|      ABE|      PIE|    970|       180| 81.43|        G4|     1.0|  81.43|         G4|   1.0|   81.43|          NULL|          NULL|202131013514112AB...|\n",
            "|Table1a|2021|      3|         30135|         33195|Allentown/Bethleh...|Tampa, FL (Metrop...|      10135|      15304|      ABE|      TPA|    970|        19|208.93|        DL|  0.4659| 219.98|         UA|0.1193|  154.11|          NULL|          NULL|202131013515304AB...|\n",
            "|Table1a|2021|      3|         30140|         30194|     Albuquerque, NM|Dallas/Fort Worth...|      10140|      11259|      ABQ|      DAL|    580|       204|184.56|        WN|  0.9968| 184.44|         WN|0.9968|  184.44|          NULL|          NULL|202131014011259AB...|\n",
            "|Table1a|2021|      3|         30140|         30194|     Albuquerque, NM|Dallas/Fort Worth...|      10140|      11298|      ABQ|      DFW|    580|       264|182.64|        AA|  0.9774| 183.09|         AA|0.9774|  183.09|          NULL|          NULL|202131014011298AB...|\n",
            "|Table1a|2021|      3|         30140|         30466|     Albuquerque, NM|         Phoenix, AZ|      10140|      14107|      ABQ|      PHX|    328|       398|177.11|        WN|  0.6061| 184.49|         AA|0.3939|  165.77|          NULL|          NULL|202131014014107AB...|\n",
            "+-------+----+-------+--------------+--------------+--------------------+--------------------+-----------+-----------+---------+---------+-------+----------+------+----------+--------+-------+-----------+------+--------+--------------+--------------+--------------------+\n",
            "only showing top 5 rows\n",
            "\n"
          ]
        }
      ],
      "source": [
        "df.show(5)\n"
      ]
    },
    {
      "cell_type": "code",
      "execution_count": null,
      "id": "cd6ade17",
      "metadata": {
        "id": "cd6ade17",
        "outputId": "5bbaf117-a752-4250-ac63-6837cbdb286e"
      },
      "outputs": [
        {
          "name": "stdout",
          "output_type": "stream",
          "text": [
            "+---+----+-------+--------------+--------------+-----+-----+-----------+-----------+---------+---------+-------+----------+----+----------+--------+-------+-----------+-----+--------+--------------+--------------+-------+\n",
            "|tbl|Year|quarter|citymarketid_1|citymarketid_2|city1|city2|airportid_1|airportid_2|airport_1|airport_2|nsmiles|passengers|fare|carrier_lg|large_ms|fare_lg|carrier_low|lf_ms|fare_low|Geocoded_City1|Geocoded_City2|tbl1apk|\n",
            "+---+----+-------+--------------+--------------+-----+-----+-----------+-----------+---------+---------+-------+----------+----+----------+--------+-------+-----------+-----+--------+--------------+--------------+-------+\n",
            "|  0|   0|      0|             0|             0|    0|    0|          0|          0|        0|        0|      0|         0|   0|      1540|    1540|   1540|       1612| 1612|    1612|         39206|         39206|      0|\n",
            "+---+----+-------+--------------+--------------+-----+-----+-----------+-----------+---------+---------+-------+----------+----+----------+--------+-------+-----------+-----+--------+--------------+--------------+-------+\n",
            "\n"
          ]
        }
      ],
      "source": [
        "df.select([count(when(col(c).isNull(), c)).alias(c) for c in df.columns]).show()\n"
      ]
    },
    {
      "cell_type": "code",
      "execution_count": null,
      "id": "34e28e2f",
      "metadata": {
        "id": "34e28e2f",
        "outputId": "22c85de3-5c06-4f7f-ec18-1352095c58bb"
      },
      "outputs": [
        {
          "name": "stdout",
          "output_type": "stream",
          "text": [
            "+-------+------------------+-----------------+------------------+-----------------+-------------------+\n",
            "|summary|        passengers|             fare|          large_ms|          nsmiles|              lf_ms|\n",
            "+-------+------------------+-----------------+------------------+-----------------+-------------------+\n",
            "|  count|            245955|           245955|            244415|           245955|             244343|\n",
            "|   mean| 299.4767945355858|218.9795867943276|0.6652516330831235|1189.812319326706|0.45043751243130975|\n",
            "| stddev|511.38948561649295|82.37248581123856|0.2246346557290856|703.1434716080329| 0.3326690289129114|\n",
            "|    min|                 0|             50.0|            0.0038|              109|               0.01|\n",
            "|    max|              8301|           3377.0|               1.0|             2724|                1.0|\n",
            "+-------+------------------+-----------------+------------------+-----------------+-------------------+\n",
            "\n"
          ]
        }
      ],
      "source": [
        "df.select('passengers', 'fare', 'large_ms', 'nsmiles', 'lf_ms').describe().show()"
      ]
    },
    {
      "cell_type": "code",
      "execution_count": null,
      "id": "3b3e8eb8",
      "metadata": {
        "id": "3b3e8eb8",
        "outputId": "77041ffd-cc35-4d4e-a985-29a4c3dec0f5"
      },
      "outputs": [
        {
          "name": "stdout",
          "output_type": "stream",
          "text": [
            "\n",
            "Kích thước dữ liệu sau khi loại bỏ dòng lỗi: 244415 rows, 23 columns\n"
          ]
        }
      ],
      "source": [
        "df_clean = df.filter(col('large_ms').isNotNull())\n",
        "print(f\"\\nKích thước dữ liệu sau khi loại bỏ dòng lỗi: {df_clean.count()} rows, {len(df_clean.columns)} columns\")"
      ]
    },
    {
      "cell_type": "code",
      "execution_count": null,
      "id": "133aa8a1",
      "metadata": {
        "id": "133aa8a1",
        "outputId": "5265c617-bac7-41ff-af84-2d58d01bacc2"
      },
      "outputs": [
        {
          "name": "stdout",
          "output_type": "stream",
          "text": [
            "Số dòng sau khi làm sạch: 244415\n"
          ]
        }
      ],
      "source": [
        "df_clean = df_clean.filter((col('large_ms') >= 0) & (col('large_ms') <= 1))\n",
        "print(f\"Số dòng sau khi làm sạch: {df_clean.count()}\")"
      ]
    },
    {
      "cell_type": "code",
      "execution_count": null,
      "id": "bd9564d6",
      "metadata": {
        "id": "bd9564d6"
      },
      "outputs": [],
      "source": [
        "df_clean = df_clean.filter(\n",
        "    (col('passengers') > 0) &\n",
        "    (col('fare') > 0) &\n",
        "    (col('nsmiles') > 0)\n",
        ")"
      ]
    },
    {
      "cell_type": "code",
      "execution_count": null,
      "id": "86f95396",
      "metadata": {
        "id": "86f95396"
      },
      "outputs": [],
      "source": [
        "df_clean = df_clean.dropna(subset=['carrier_low'])\n"
      ]
    },
    {
      "cell_type": "code",
      "execution_count": null,
      "id": "e528d01f",
      "metadata": {
        "id": "e528d01f",
        "outputId": "d429c0dd-00b4-43da-b63d-5a6cd549e0eb"
      },
      "outputs": [
        {
          "name": "stdout",
          "output_type": "stream",
          "text": [
            "+---------+----------+-------------+--------------------+--------------------+-----------+-----------+-----------------+-----------------+---------------+---------------+-------------+----------------+----------+----------------+--------------+-------------+-----------------+-----------+--------------+--------------------+--------------------+-------------+\n",
            "|tbl_nulls|Year_nulls|quarter_nulls|citymarketid_1_nulls|citymarketid_2_nulls|city1_nulls|city2_nulls|airportid_1_nulls|airportid_2_nulls|airport_1_nulls|airport_2_nulls|nsmiles_nulls|passengers_nulls|fare_nulls|carrier_lg_nulls|large_ms_nulls|fare_lg_nulls|carrier_low_nulls|lf_ms_nulls|fare_low_nulls|Geocoded_City1_nulls|Geocoded_City2_nulls|tbl1apk_nulls|\n",
            "+---------+----------+-------------+--------------------+--------------------+-----------+-----------+-----------------+-----------------+---------------+---------------+-------------+----------------+----------+----------------+--------------+-------------+-----------------+-----------+--------------+--------------------+--------------------+-------------+\n",
            "|        0|         0|            0|                   0|                   0|          0|          0|                0|                0|              0|              0|            0|               0|         0|               0|             0|            0|                0|          0|             0|               38294|               38294|            0|\n",
            "+---------+----------+-------------+--------------------+--------------------+-----------+-----------+-----------------+-----------------+---------------+---------------+-------------+----------------+----------+----------------+--------------+-------------+-----------------+-----------+--------------+--------------------+--------------------+-------------+\n",
            "\n"
          ]
        }
      ],
      "source": [
        "\n",
        "df_clean.select([\n",
        "    sum(col(c).isNull().cast(\"int\")).alias(c + \"_nulls\") for c in df_clean.columns\n",
        "]).show()"
      ]
    },
    {
      "cell_type": "code",
      "execution_count": null,
      "id": "8fde4ce7",
      "metadata": {
        "id": "8fde4ce7",
        "outputId": "286430ad-7895-4d6e-c590-f40e729f2543"
      },
      "outputs": [
        {
          "name": "stdout",
          "output_type": "stream",
          "text": [
            "Số dòng còn lại: 237985\n"
          ]
        }
      ],
      "source": [
        "print(f\"Số dòng còn lại: {df_clean.count()}\")\n"
      ]
    },
    {
      "cell_type": "code",
      "execution_count": null,
      "id": "c6542149",
      "metadata": {
        "id": "c6542149"
      },
      "outputs": [],
      "source": [
        "df_features = df_clean.withColumn(\n",
        "    'revenue', col('passengers') * col('fare')\n",
        ").withColumn(\n",
        "    'fare_per_mile', col('fare') / col('nsmiles')\n",
        ").withColumn(\n",
        "    'fare_difference', col('fare') - col('fare_low')\n",
        ").withColumn(\n",
        "    'is_largest_cheapest',\n",
        "    when(col('carrier_lg') == col('carrier_low'), 1).otherwise(0)\n",
        ")"
      ]
    },
    {
      "cell_type": "code",
      "execution_count": null,
      "id": "8b379f41",
      "metadata": {
        "id": "8b379f41"
      },
      "outputs": [],
      "source": [
        "numeric_features = [\n",
        "    'passengers', 'fare', 'nsmiles', 'lf_ms',\n",
        "    'fare_low', 'revenue', 'fare_per_mile', 'fare_difference',\n",
        "    'Year', 'quarter'\n",
        "]"
      ]
    },
    {
      "cell_type": "code",
      "execution_count": null,
      "id": "6fb512bf",
      "metadata": {
        "id": "6fb512bf"
      },
      "outputs": [],
      "source": [
        "categorical_features = ['carrier_lg', 'carrier_low']"
      ]
    },
    {
      "cell_type": "code",
      "execution_count": null,
      "id": "f00163be",
      "metadata": {
        "id": "f00163be"
      },
      "outputs": [],
      "source": [
        "indexers = [\n",
        "    StringIndexer(inputCol=col, outputCol=col+\"_indexed\", handleInvalid=\"keep\")\n",
        "    for col in categorical_features\n",
        "]"
      ]
    },
    {
      "cell_type": "code",
      "execution_count": null,
      "id": "d727f4a4",
      "metadata": {
        "id": "d727f4a4",
        "outputId": "da37a5d9-027c-4979-d62f-a9cbae7bb558"
      },
      "outputs": [
        {
          "name": "stdout",
          "output_type": "stream",
          "text": [
            "root\n",
            " |-- tbl: string (nullable = true)\n",
            " |-- Year: integer (nullable = true)\n",
            " |-- quarter: integer (nullable = true)\n",
            " |-- citymarketid_1: integer (nullable = true)\n",
            " |-- citymarketid_2: integer (nullable = true)\n",
            " |-- city1: string (nullable = true)\n",
            " |-- city2: string (nullable = true)\n",
            " |-- airportid_1: integer (nullable = true)\n",
            " |-- airportid_2: integer (nullable = true)\n",
            " |-- airport_1: string (nullable = true)\n",
            " |-- airport_2: string (nullable = true)\n",
            " |-- nsmiles: integer (nullable = true)\n",
            " |-- passengers: integer (nullable = true)\n",
            " |-- fare: double (nullable = true)\n",
            " |-- carrier_lg: string (nullable = true)\n",
            " |-- large_ms: double (nullable = true)\n",
            " |-- fare_lg: double (nullable = true)\n",
            " |-- carrier_low: string (nullable = true)\n",
            " |-- lf_ms: double (nullable = true)\n",
            " |-- fare_low: double (nullable = true)\n",
            " |-- Geocoded_City1: string (nullable = true)\n",
            " |-- Geocoded_City2: string (nullable = true)\n",
            " |-- tbl1apk: string (nullable = true)\n",
            " |-- revenue: double (nullable = true)\n",
            " |-- fare_per_mile: double (nullable = true)\n",
            " |-- fare_difference: double (nullable = true)\n",
            " |-- is_largest_cheapest: integer (nullable = false)\n",
            "\n"
          ]
        }
      ],
      "source": [
        "df_features.printSchema()"
      ]
    },
    {
      "cell_type": "markdown",
      "source": [
        "# **1. Xây dựng mô hình dự đoán giá vé và lượng hành khách cho từng chuyến bay**"
      ],
      "metadata": {
        "id": "kNuTjyWnCWTm"
      },
      "id": "kNuTjyWnCWTm"
    },
    {
      "cell_type": "markdown",
      "source": [
        "## 1.1 EDA - Phân tích ảnh hướng của khoảng cách đến giá vé"
      ],
      "metadata": {
        "id": "8cXwBYCOaLRu"
      },
      "id": "8cXwBYCOaLRu"
    },
    {
      "cell_type": "code",
      "source": [
        "# Mục đích: Trực quan hóa mối quan hệ giữa khoảng cách và giá vé\n",
        "\n",
        "# Lấy mẫu dữ liệu\n",
        "scatter_sample = df.select('nsmiles', 'fare').sample(False, sample_size, seed=42).toPandas()\n",
        "\n",
        "# Tạo figure với 2 subplot\n",
        "fig, axes = plt.subplots(1, 2, figsize=(16, 6))\n",
        "\n",
        "# 1. Scatter plot thông thường\n",
        "axes[0].scatter(scatter_sample['nsmiles'], scatter_sample['fare'],\n",
        "                alpha=0.3, s=5, color='steelblue')\n",
        "axes[0].set_xlabel('Khoảng cách (miles)', fontsize=12)\n",
        "axes[0].set_ylabel('Giá vé ($)', fontsize=12)\n",
        "axes[0].set_title('Scatter Plot: Khoảng cách vs Giá vé', fontsize=14, fontweight='bold')\n",
        "axes[0].grid(True, alpha=0.3)\n",
        "\n",
        "# Thêm đường xu hướng (trend line)\n",
        "z = np.polyfit(scatter_sample['nsmiles'], scatter_sample['fare'], 1)\n",
        "p = np.poly1d(z)\n",
        "axes[0].plot(scatter_sample['nsmiles'], p(scatter_sample['nsmiles']),\n",
        "             \"r--\", linewidth=2, label=f'Trend: y={z[0]:.2f}x+{z[1]:.2f}')\n",
        "axes[0].legend(fontsize=10)\n",
        "\n",
        "# 2. Hexbin plot (tốt hơn cho nhiều điểm)\n",
        "hb = axes[1].hexbin(scatter_sample['nsmiles'], scatter_sample['fare'],\n",
        "                     gridsize=50, cmap='YlOrRd', mincnt=1)\n",
        "axes[1].set_xlabel('Khoảng cách (miles)', fontsize=12)\n",
        "axes[1].set_ylabel('Giá vé ($)', fontsize=12)\n",
        "axes[1].set_title('Hexbin Density: Khoảng cách vs Giá vé', fontsize=14, fontweight='bold')\n",
        "cb = plt.colorbar(hb, ax=axes[1])\n",
        "cb.set_label('Số quan sát', fontsize=10)\n",
        "\n",
        "plt.tight_layout()\n",
        "plt.show()\n",
        "\n",
        "# In tương quan\n",
        "corr_distance_fare = df.stat.corr(\"nsmiles\", \"fare\")\n",
        "print(f\"\\nHệ số tương quan Pearson: {corr_distance_fare:.4f}\")"
      ],
      "metadata": {
        "trusted": true,
        "execution": {
          "iopub.status.busy": "2025-10-18T03:20:00.381708Z",
          "iopub.execute_input": "2025-10-18T03:20:00.381976Z",
          "iopub.status.idle": "2025-10-18T03:20:02.786837Z",
          "shell.execute_reply.started": "2025-10-18T03:20:00.381957Z",
          "shell.execute_reply": "2025-10-18T03:20:02.784740Z"
        },
        "colab": {
          "base_uri": "https://localhost:8080/",
          "height": 543
        },
        "id": "HYe5QOC2Vtt1",
        "outputId": "b73d05b1-8d62-4640-f85d-1a8866d62cf3"
      },
      "outputs": [
        {
          "output_type": "display_data",
          "data": {
            "text/plain": [
              "<Figure size 1600x600 with 3 Axes>"
            ],
            "image/png": "[encoded data removed]"
          },
          "metadata": {}
        },
        {
          "output_type": "stream",
          "name": "stdout",
          "text": [
            "\n",
            "Hệ số tương quan Pearson: 0.5122\n"
          ]
        }
      ],
      "execution_count": null,
      "id": "HYe5QOC2Vtt1"
    },
    {
      "cell_type": "code",
      "source": [
        "# Tính trung bình theo năm\n",
        "yearly_stats = df.groupBy('Year').agg(\n",
        "    avg('fare').alias('gia_trung_binh'),\n",
        "    avg('nsmiles').alias('khoang_cach_trung_binh'),\n",
        "    avg('passengers').alias('hanh_khach_trung_binh'),\n",
        "    count('*').alias('so_chuyen')\n",
        ").orderBy('Year').toPandas()\n",
        "\n",
        "# Tạo figure với 4 subplot\n",
        "fig, axes = plt.subplots(2, 2, figsize=(16, 12))\n",
        "\n",
        "# 1. Giá vé trung bình theo năm\n",
        "axes[0, 0].plot(yearly_stats['Year'], yearly_stats['gia_trung_binh'],\n",
        "                marker='o', linewidth=2, markersize=6, color='darkred')\n",
        "axes[0, 0].set_xlabel('Năm', fontsize=11)\n",
        "axes[0, 0].set_ylabel('Giá vé trung bình ($)', fontsize=11)\n",
        "axes[0, 0].set_title('Xu hướng giá vé qua các năm (1993-2024)', fontsize=12, fontweight='bold')\n",
        "axes[0, 0].grid(True, alpha=0.3)\n",
        "axes[0, 0].axhline(y=yearly_stats['gia_trung_binh'].mean(),\n",
        "                    color='r', linestyle='--', alpha=0.5, label='Trung bình')\n",
        "axes[0, 0].legend()\n",
        "\n",
        "# 2. Khoảng cách trung bình theo năm\n",
        "axes[0, 1].plot(yearly_stats['Year'], yearly_stats['khoang_cach_trung_binh'],\n",
        "                marker='s', linewidth=2, markersize=6, color='darkgreen')\n",
        "axes[0, 1].set_xlabel('Năm', fontsize=11)\n",
        "axes[0, 1].set_ylabel('Khoảng cách trung bình (miles)', fontsize=11)\n",
        "axes[0, 1].set_title('Xu hướng khoảng cách qua các năm', fontsize=12, fontweight='bold')\n",
        "axes[0, 1].grid(True, alpha=0.3)\n",
        "\n",
        "# 3. Số chuyến bay theo năm\n",
        "axes[1, 0].bar(yearly_stats['Year'], yearly_stats['so_chuyen'],\n",
        "               color='steelblue', alpha=0.7)\n",
        "axes[1, 0].set_xlabel('Năm', fontsize=11)\n",
        "axes[1, 0].set_ylabel('Số tuyến bay', fontsize=11)\n",
        "axes[1, 0].set_title('Số lượng tuyến bay theo năm', fontsize=12, fontweight='bold')\n",
        "axes[1, 0].tick_params(axis='x', rotation=45)\n",
        "axes[1, 0].grid(True, alpha=0.3, axis='y')\n",
        "\n",
        "# 4. Giá vé trên mỗi mile\n",
        "yearly_stats['gia_per_mile'] = yearly_stats['gia_trung_binh'] / yearly_stats['khoang_cach_trung_binh']\n",
        "axes[1, 1].plot(yearly_stats['Year'], yearly_stats['gia_per_mile'],\n",
        "                marker='D', linewidth=2, markersize=6, color='purple')\n",
        "axes[1, 1].set_xlabel('Năm', fontsize=11)\n",
        "axes[1, 1].set_ylabel('Giá vé / mile ($)', fontsize=11)\n",
        "axes[1, 1].set_title('Xu hướng giá vé trên mỗi mile', fontsize=12, fontweight='bold')\n",
        "axes[1, 1].grid(True, alpha=0.3)\n",
        "\n",
        "plt.tight_layout()\n",
        "plt.show()"
      ],
      "metadata": {
        "colab": {
          "base_uri": "https://localhost:8080/",
          "height": 987
        },
        "id": "ZpYz7QiKWuYS",
        "outputId": "58358976-f923-4516-985e-7284b2cd1317"
      },
      "execution_count": null,
      "outputs": [
        {
          "output_type": "display_data",
          "data": {
            "text/plain": [
              "<Figure size 1600x1200 with 4 Axes>"
            ],
            "image/png": "[encoded data removed]"
          },
          "metadata": {}
        }
      ],
      "id": "ZpYz7QiKWuYS"
    },
    {
      "cell_type": "code",
      "source": [
        "print(\"XỬ LÝ LỖI DỮ LIỆU - LOẠI BỎ VÉ KHÔNG CÓ HÀNH KHÁCH\")\n",
        "\n",
        "# Đếm số vé có passengers = 0\n",
        "zero_pax = df.filter(col('passengers') == 0).count()\n",
        "total = df.count()\n",
        "\n",
        "print(f\"\\n1. PHÂN TÍCH:\")\n",
        "print(f\"  Vé có passengers = 0: {zero_pax:,} ({zero_pax/total*100:.2f}%)\")\n",
        "\n",
        "# Xem phân phối giá của những vé này\n",
        "print(\"\\n2. PHÂN PHỐI GIÁ CỦA VÉ CÓ PASSENGERS = 0:\")\n",
        "df.filter(col('passengers') == 0).select('fare').describe().show()\n",
        "\n",
        "print(\"\\n3. QUYẾT ĐỊNH:\")\n",
        "print(\"  ✅ LOẠI BỎ tất cả vé có passengers = 0\")\n",
        "print(\"  LÝ DO:\")\n",
        "print(\"    • Không logic: vé không thể có giá nếu không có hành khách\")\n",
        "print(\"    • Chứa các outliers giá vé cao bất thường\")\n",
        "print(\"    • Dữ liệu không đáng tin cậy\")\n",
        "\n",
        "# Loại bỏ\n",
        "df = df.filter(col('passengers') > 0)\n",
        "\n",
        "print(f\"\\n4. KẾT QUẢ:\")\n",
        "print(f\"  Đã loại bỏ: {zero_pax:,} dòng\")\n",
        "print(f\"  Còn lại: {df.count():,} dòng\")\n",
        "\n",
        "# Kiểm tra lại giá vé cao nhất\n",
        "max_fare = df.agg(max('fare')).collect()[0][0]\n",
        "print(f\"  Giá vé cao nhất sau xử lý: ${max_fare:,.2f}\")"
      ],
      "metadata": {
        "colab": {
          "base_uri": "https://localhost:8080/"
        },
        "id": "B9PtPjegaEkn",
        "outputId": "a0807612-5271-47a2-96dd-fc3a4fffa399"
      },
      "execution_count": null,
      "outputs": [
        {
          "output_type": "stream",
          "name": "stdout",
          "text": [
            "XỬ LÝ LỖI DỮ LIỆU - LOẠI BỎ VÉ KHÔNG CÓ HÀNH KHÁCH\n",
            "\n",
            "1. PHÂN TÍCH:\n",
            "  Vé có passengers = 0: 0 (0.00%)\n",
            "\n",
            "2. PHÂN PHỐI GIÁ CỦA VÉ CÓ PASSENGERS = 0:\n",
            "+-------+----+\n",
            "|summary|fare|\n",
            "+-------+----+\n",
            "|  count|   0|\n",
            "|   mean|NULL|\n",
            "| stddev|NULL|\n",
            "|    min|NULL|\n",
            "|    max|NULL|\n",
            "+-------+----+\n",
            "\n",
            "\n",
            "3. QUYẾT ĐỊNH:\n",
            "  ✅ LOẠI BỎ tất cả vé có passengers = 0\n",
            "  LÝ DO:\n",
            "    • Không logic: vé không thể có giá nếu không có hành khách\n",
            "    • Chứa các outliers giá vé cao bất thường\n",
            "    • Dữ liệu không đáng tin cậy\n",
            "\n",
            "4. KẾT QUẢ:\n",
            "  Đã loại bỏ: 0 dòng\n",
            "  Còn lại: 237,985 dòng\n",
            "  Giá vé cao nhất sau xử lý: $1,161.22\n"
          ]
        }
      ],
      "id": "B9PtPjegaEkn"
    },
    {
      "cell_type": "markdown",
      "source": [
        "## 1.2 Xây dựng baseline model LINEAR REGRESSION (DISTANCE ONLY) để dự đoán giá vé"
      ],
      "metadata": {
        "id": "wsNGoFkZbq7m"
      },
      "id": "wsNGoFkZbq7m"
    },
    {
      "cell_type": "code",
      "source": [
        "# Mục đích: Tính toán các metrics đánh giá model\n",
        "\n",
        "# Bước 1: Dự đoán trên test set\n",
        "predictions_simple = model_simple.transform(test_data)\n",
        "\n",
        "# Bước 2: Tính các metrics\n",
        "evaluator_r2 = RegressionEvaluator(\n",
        "    labelCol='fare',\n",
        "    predictionCol='fare_pred',\n",
        "    metricName='r2'\n",
        ")\n",
        "\n",
        "evaluator_rmse = RegressionEvaluator(\n",
        "    labelCol='fare',\n",
        "    predictionCol='fare_pred',\n",
        "    metricName='rmse'\n",
        ")\n",
        "\n",
        "evaluator_mae = RegressionEvaluator(\n",
        "    labelCol='fare',\n",
        "    predictionCol='fare_pred',\n",
        "    metricName='mae'\n",
        ")\n",
        "\n",
        "# Tính toán\n",
        "r2_simple = evaluator_r2.evaluate(predictions_simple)\n",
        "rmse_simple = evaluator_rmse.evaluate(predictions_simple)\n",
        "mae_simple = evaluator_mae.evaluate(predictions_simple)\n",
        "\n",
        "# Hiển thị kết quả\n",
        "print(\"=\" * 60)\n",
        "print(\"KẾT QUẢ LINEAR REGRESSION (DISTANCE ONLY)\")\n",
        "print(\"=\" * 60)\n",
        "print(f\"\\nHiệu suất trên Test Set:\")\n",
        "print(f\"  R² (R-squared):     {r2_simple:.4f}  ({r2_simple*100:.2f}%)\")\n",
        "print(f\"  RMSE (Root MSE):    ${rmse_simple:.2f}\")\n",
        "print(f\"  MAE (Mean Abs Err): ${mae_simple:.2f}\")\n",
        "\n",
        "print(f\"\\nGiải thích:\")\n",
        "print(f\"  • R² = {r2_simple:.4f} nghĩa là model giải thích được {r2_simple*100:.1f}% biến thiên của giá vé\")\n",
        "print(f\"  • Sai số trung bình: ±${rmse_simple:.2f}\")\n",
        "print(f\"  • Sai số tuyệt đối trung bình: ${mae_simple:.2f}\")"
      ],
      "metadata": {
        "colab": {
          "base_uri": "https://localhost:8080/"
        },
        "id": "xPfN8ZW2ccOU",
        "outputId": "a3e3ae36-45e1-4288-9a40-89411f95e4f5"
      },
      "execution_count": null,
      "outputs": [
        {
          "output_type": "stream",
          "name": "stdout",
          "text": [
            "============================================================\n",
            "KẾT QUẢ LINEAR REGRESSION (DISTANCE ONLY)\n",
            "============================================================\n",
            "\n",
            "Hiệu suất trên Test Set:\n",
            "  R² (R-squared):     0.3049  (30.49%)\n",
            "  RMSE (Root MSE):    $61.76\n",
            "  MAE (Mean Abs Err): $48.45\n",
            "\n",
            "Giải thích:\n",
            "  • R² = 0.3049 nghĩa là model giải thích được 30.5% biến thiên của giá vé\n",
            "  • Sai số trung bình: ±$61.76\n",
            "  • Sai số tuyệt đối trung bình: $48.45\n"
          ]
        }
      ],
      "id": "xPfN8ZW2ccOU"
    },
    {
      "cell_type": "markdown",
      "source": [
        "## 1.3  LINEAR REGRESSION (Nhiều Feature)"
      ],
      "metadata": {
        "id": "tfZ1xjVwb7E3"
      },
      "id": "tfZ1xjVwb7E3"
    },
    {
      "cell_type": "code",
      "source": [
        "\n",
        "# LINEAR REGRESSION - NHIỀU FEATURE\n",
        "\n",
        "print(\"LINEAR REGRESSION - MULTI FEATURES\")\n",
        "\n",
        "# Chọn features\n",
        "feature_cols = ['nsmiles', 'quarter', 'Year', 'passengers']\n",
        "\n",
        "print(f\"\\n📋 FEATURES SỬ DỤNG:\")\n",
        "for i, feat in enumerate(feature_cols, 1):\n",
        "    print(f\"  {i}. {feat}\")\n",
        "\n",
        "# Bước 1: Tạo feature vector\n",
        "assembler_multi = VectorAssembler(\n",
        "    inputCols=feature_cols,\n",
        "    outputCol='features',\n",
        "    handleInvalid='skip'\n",
        ")\n",
        "\n",
        "# Bước 2: Chuẩn hóa features\n",
        "scaler_multi = StandardScaler(\n",
        "    inputCol='features',\n",
        "    outputCol='scaled_features',\n",
        "    withStd=True,\n",
        "    withMean=True\n",
        ")\n",
        "\n",
        "# Bước 3: Tạo Linear Regression model\n",
        "lr_multi = LinearRegression(\n",
        "    featuresCol='scaled_features',\n",
        "    labelCol='fare',\n",
        "    predictionCol='fare_pred_multi',\n",
        "    maxIter=100,\n",
        "    regParam=0.01,\n",
        "    elasticNetParam=0.0,\n",
        "    tol=1e-6\n",
        ")\n",
        "\n",
        "# Bước 4: Tạo pipeline\n",
        "pipeline_multi = Pipeline(stages=[\n",
        "    assembler_multi,\n",
        "    scaler_multi,\n",
        "    lr_multi\n",
        "])\n",
        "\n",
        "# Bước 5: Train model\n",
        "print(f\"\\nĐang training model với {len(feature_cols)} features...\")\n",
        "model_multi = pipeline_multi.fit(train_data)\n",
        "print(\"✓ Training hoàn thành!\")\n",
        "\n",
        "# Lưu model để dễ truy cập\n",
        "lr_multi_model = model_multi.stages[-1]"
      ],
      "metadata": {
        "colab": {
          "base_uri": "https://localhost:8080/"
        },
        "id": "EKDgD3XpdjIP",
        "outputId": "b6c4846c-8dc2-46f7-f9ec-95c575a86227"
      },
      "execution_count": null,
      "outputs": [
        {
          "output_type": "stream",
          "name": "stdout",
          "text": [
            "LINEAR REGRESSION - MULTI FEATURES\n",
            "\n",
            "📋 FEATURES SỬ DỤNG:\n",
            "  1. nsmiles\n",
            "  2. quarter\n",
            "  3. Year\n",
            "  4. passengers\n",
            "\n",
            "Đang training model với 4 features...\n",
            "✓ Training hoàn thành!\n"
          ]
        }
      ],
      "id": "EKDgD3XpdjIP"
    },
    {
      "cell_type": "markdown",
      "source": [
        "## 1.4 Mô hình phi tuyến"
      ],
      "metadata": {
        "id": "b9XzRpJacCYd"
      },
      "id": "b9XzRpJacCYd"
    },
    {
      "cell_type": "code",
      "source": [
        "# ============================================================\n",
        "# CELL 7C: THỬ NGHIỆM NHIỀU POLYNOMIAL DEGREES\n",
        "# ============================================================\n",
        "# Mục đích: Tìm degree tối ưu, kiểm tra overfitting\n",
        "\n",
        "print(\"=\" * 70)\n",
        "print(\"THỬ NGHIỆM NHIỀU POLYNOMIAL DEGREES\")\n",
        "print(\"=\" * 70)\n",
        "\n",
        "degrees = [1, 2, 3, 4]\n",
        "results = []\n",
        "\n",
        "for degree in degrees:\n",
        "    print(f\"\\nĐang train với degree = {degree}...\")\n",
        "\n",
        "    # Tạo pipeline cho degree này\n",
        "    poly_exp = PolynomialExpansion(\n",
        "        degree=degree,\n",
        "        inputCol='scaled_features',\n",
        "        outputCol='poly_features'\n",
        "    )\n",
        "\n",
        "    lr_temp = LinearRegression(\n",
        "        featuresCol='poly_features',\n",
        "        labelCol='fare',\n",
        "        predictionCol='fare_pred',\n",
        "        maxIter=100,\n",
        "        regParam=0.1,\n",
        "        elasticNetParam=0.0\n",
        "    )\n",
        "\n",
        "    pipeline_temp = Pipeline(stages=[\n",
        "        assembler_poly,\n",
        "        scaler_poly,\n",
        "        poly_exp,\n",
        "        lr_temp\n",
        "    ])\n",
        "\n",
        "    # Train\n",
        "    model_temp = pipeline_temp.fit(train_data)\n",
        "\n",
        "    # Evaluate trên cả train và test\n",
        "    pred_train = model_temp.transform(train_data)\n",
        "    pred_test = model_temp.transform(test_data)\n",
        "\n",
        "    r2_train = RegressionEvaluator(\n",
        "        labelCol='fare', predictionCol='fare_pred', metricName='r2'\n",
        "    ).evaluate(pred_train)\n",
        "\n",
        "    r2_test = RegressionEvaluator(\n",
        "        labelCol='fare', predictionCol='fare_pred', metricName='r2'\n",
        "    ).evaluate(pred_test)\n",
        "\n",
        "    rmse_train = RegressionEvaluator(\n",
        "        labelCol='fare', predictionCol='fare_pred', metricName='rmse'\n",
        "    ).evaluate(pred_train)\n",
        "\n",
        "    rmse_test = RegressionEvaluator(\n",
        "        labelCol='fare', predictionCol='fare_pred', metricName='rmse'\n",
        "    ).evaluate(pred_test)\n",
        "\n",
        "    # Tính số features\n",
        "    num_features = pred_test.select('poly_features').first()[0].size\n",
        "\n",
        "    results.append({\n",
        "        'Degree': degree,\n",
        "        'Num_Features': num_features,\n",
        "        'R2_Train': r2_train,\n",
        "        'R2_Test': r2_test,\n",
        "        'RMSE_Train': rmse_train,\n",
        "        'RMSE_Test': rmse_test,\n",
        "        'Overfit_Gap': r2_train - r2_test\n",
        "    })\n",
        "\n",
        "    print(f\"  ✓ Degree {degree}: R² Train={r2_train:.4f}, Test={r2_test:.4f}, Gap={r2_train-r2_test:.4f}\")\n",
        "\n",
        "# Tạo DataFrame\n",
        "results_df = pd.DataFrame(results)\n",
        "\n",
        "print(f\"\\n\" + \"=\" * 70)\n",
        "print(\"KẾT QUẢ TỔNG HỢP\")\n",
        "print(\"=\" * 70)\n",
        "print(results_df.to_string(index=False))\n",
        "\n",
        "# Tìm degree tốt nhất\n",
        "best_degree_idx = results_df['R2_Test'].idxmax()\n",
        "best_degree = results_df.loc[best_degree_idx, 'Degree']\n",
        "best_r2 = results_df.loc[best_degree_idx, 'R2_Test']\n",
        "\n",
        "print(f\"\\n🏆 DEGREE TỐI ƯU: {int(best_degree)}\")\n",
        "print(f\"  • R² Test: {best_r2:.4f}\")\n",
        "print(f\"  • Overfitting gap: {results_df.loc[best_degree_idx, 'Overfit_Gap']:.4f}\")"
      ],
      "metadata": {
        "colab": {
          "base_uri": "https://localhost:8080/"
        },
        "id": "U6jp8_xse9u6",
        "outputId": "508d8fee-cc42-4c90-aa60-d784f5034b46"
      },
      "execution_count": null,
      "outputs": [
        {
          "output_type": "stream",
          "name": "stdout",
          "text": [
            "======================================================================\n",
            "THỬ NGHIỆM NHIỀU POLYNOMIAL DEGREES\n",
            "======================================================================\n",
            "\n",
            "Đang train với degree = 1...\n",
            "  ✓ Degree 1: R² Train=0.3490, Test=0.3535, Gap=-0.0045\n",
            "\n",
            "Đang train với degree = 2...\n",
            "  ✓ Degree 2: R² Train=0.3702, Test=0.3729, Gap=-0.0028\n",
            "\n",
            "Đang train với degree = 3...\n",
            "  ✓ Degree 3: R² Train=0.3959, Test=0.3957, Gap=0.0002\n",
            "\n",
            "Đang train với degree = 4...\n",
            "  ✓ Degree 4: R² Train=0.4041, Test=0.4042, Gap=-0.0000\n",
            "\n",
            "======================================================================\n",
            "KẾT QUẢ TỔNG HỢP\n",
            "======================================================================\n",
            " Degree  Num_Features  R2_Train  R2_Test  RMSE_Train  RMSE_Test  Overfit_Gap\n",
            "      1             4  0.349008 0.353508   60.001665  59.562801    -0.004499\n",
            "      2            14  0.370176 0.372927   59.018086  58.661429    -0.002750\n",
            "      3            34  0.395862 0.395705   57.802128  57.586128     0.000156\n",
            "      4            69  0.404108 0.404155   57.406281  57.182091    -0.000047\n",
            "\n",
            "🏆 DEGREE TỐI ƯU: 4\n",
            "  • R² Test: 0.4042\n",
            "  • Overfitting gap: -0.0000\n"
          ]
        }
      ],
      "id": "U6jp8_xse9u6"
    },
    {
      "cell_type": "markdown",
      "source": [
        "## 1.5 Xây dựng mô hình dự đoán giá vé cho từng chuyến bay"
      ],
      "metadata": {
        "id": "QXQMJ7FKsjUn"
      },
      "id": "QXQMJ7FKsjUn"
    },
    {
      "cell_type": "code",
      "execution_count": null,
      "metadata": {
        "colab": {
          "base_uri": "https://localhost:8080/"
        },
        "id": "bf3b04ce",
        "outputId": "1f80b52b-b8f1-4c9b-ea7a-bc4d13b2e7aa"
      },
      "outputs": [
        {
          "output_type": "stream",
          "name": "stdout",
          "text": [
            " Tiền xử lý xong: 245955 dòng, 21 cột\n"
          ]
        }
      ],
      "source": [
        "\n",
        "# ---- 1. Chuyển kiểu dữ liệu ----\n",
        "df = df.withColumn(\"Year\", col(\"Year\").cast(IntegerType())) \\\n",
        "       .withColumn(\"quarter\", col(\"quarter\").cast(IntegerType())) \\\n",
        "       .withColumn(\"fare\", col(\"fare\").cast(DoubleType())) \\\n",
        "       .withColumn(\"fare_low\", col(\"fare_low\").cast(DoubleType()))\n",
        "\n",
        "# ---- 2. Loại bỏ các cột không cần thiết ----\n",
        "cols_to_drop = [c for c in [\"Geocoded_City1\", \"Geocoded_City2\", \"tbl1apk\", \"city1\", \"city2\"] if c in df.columns]\n",
        "df = df.drop(*cols_to_drop)\n",
        "\n",
        "# ---- 3. Loại bỏ null trong fare, passengers ----\n",
        "df = df.na.drop(subset=[\"fare\", \"passengers\"])\n",
        "\n",
        "# ---- 4. Tạo các feature mới ----\n",
        "from pyspark.sql.functions import pow\n",
        "\n",
        "if all(c in df.columns for c in [\"fare_lg\", \"fare_low\"]):\n",
        "    df = df.withColumn(\"fare_diff\", col(\"fare_lg\") - col(\"fare_low\"))\n",
        "\n",
        "if all(c in df.columns for c in [\"large_ms\", \"lf_ms\"]):\n",
        "    df = df.withColumn(\n",
        "        \"hhi\",\n",
        "        pow(col(\"large_ms\"), 2)\n",
        "        + pow(col(\"lf_ms\"), 2)\n",
        "        + pow(1 - (col(\"large_ms\") + col(\"lf_ms\")), 2)\n",
        "    )\n",
        "\n",
        "if \"nsmiles\" in df.columns:\n",
        "    df = df.withColumn(\"fare_per_mile\", when(col(\"nsmiles\") != 0, col(\"fare\") / col(\"nsmiles\")).otherwise(None))\n",
        "\n",
        "print(\" Tiền xử lý xong:\", df.count(), \"dòng,\", len(df.columns), \"cột\")\n"
      ],
      "id": "bf3b04ce"
    },
    {
      "cell_type": "code",
      "execution_count": null,
      "metadata": {
        "colab": {
          "base_uri": "https://localhost:8080/"
        },
        "id": "554b2c1b",
        "outputId": "c705e1c1-1a65-449e-fae3-ca00d42176e6"
      },
      "outputs": [
        {
          "output_type": "stream",
          "name": "stdout",
          "text": [
            "Dữ liệu đã chia:\n",
            " - Train: 196552 dòng\n",
            " - Test:  49403 dòng\n"
          ]
        }
      ],
      "source": [
        "\n",
        "# --------------------------\n",
        "# 1️⃣ Chia cột và dữ liệu\n",
        "# --------------------------\n",
        "num_features = [\"Year\", \"quarter\", \"nsmiles\", \"passengers\", \"fare_diff\", \"hhi\", \"fare_per_mile\"]\n",
        "cat_features = [c for c in df.columns if c.startswith((\"airport_\", \"carrier_\"))]\n",
        "target = \"fare\"\n",
        "\n",
        "# --------------------------\n",
        "# 2️⃣ Xử lý cột phân loại và scale\n",
        "# --------------------------\n",
        "indexers = [StringIndexer(inputCol=c, outputCol=c + \"_index\", handleInvalid=\"keep\") for c in cat_features]\n",
        "encoders = [OneHotEncoder(inputCol=c + \"_index\", outputCol=c + \"_vec\") for c in cat_features]\n",
        "\n",
        "assembler_inputs = num_features + [c + \"_vec\" for c in cat_features]\n",
        "assembler = VectorAssembler(inputCols=assembler_inputs, outputCol=\"features\")\n",
        "\n",
        "scaler = StandardScaler(inputCol=\"features\", outputCol=\"scaledFeatures\")\n",
        "\n",
        "# --------------------------\n",
        "# 3️⃣ Chia dữ liệu Train/Test (dùng chung cho tất cả mô hình)\n",
        "# --------------------------\n",
        "train_df, test_df = df.randomSplit([0.8, 0.2], seed=42)\n",
        "\n",
        "print(\"Dữ liệu đã chia:\")\n",
        "print(f\" - Train: {train_df.count()} dòng\")\n",
        "print(f\" - Test:  {test_df.count()} dòng\")\n",
        "\n"
      ],
      "id": "554b2c1b"
    },
    {
      "cell_type": "markdown",
      "source": [
        "### Random Forest"
      ],
      "metadata": {
        "id": "oLx2fxUvtBjw"
      },
      "id": "oLx2fxUvtBjw"
    },
    {
      "cell_type": "code",
      "execution_count": null,
      "metadata": {
        "colab": {
          "base_uri": "https://localhost:8080/"
        },
        "id": "f623450f",
        "outputId": "61142187-8067-4cf3-a829-7e71a1260ab1"
      },
      "outputs": [
        {
          "name": "stdout",
          "output_type": "stream",
          "text": [
            "Best Parameters Found:\n",
            " - numTrees: 200\n",
            " - maxDepth: 15\n"
          ]
        }
      ],
      "source": [
        "\n",
        "# --------------------------\n",
        "# 1️⃣ Tạo Pipeline mô hình Random Forest\n",
        "# --------------------------\n",
        "rf = RandomForestRegressor(labelCol=target, featuresCol=\"scaledFeatures\", seed=42)\n",
        "\n",
        "# Pipeline gồm toàn bộ xử lý\n",
        "rf_model = Pipeline(stages=indexers + encoders + [assembler, scaler, rf])\n",
        "\n",
        "# --------------------------\n",
        "# 2️⃣ Tập siêu tham số cần thử\n",
        "# --------------------------\n",
        "param_grid = (\n",
        "    ParamGridBuilder()\n",
        "    .addGrid(rf.numTrees, [50,100,200])\n",
        "    .addGrid(rf.maxDepth, [10, 15])\n",
        "    .build()\n",
        ")\n",
        "\n",
        "# --------------------------\n",
        "# 3️⃣ TrainValidationSplit (thay vì CrossValidator)\n",
        "# --------------------------\n",
        "evaluator = RegressionEvaluator(labelCol=target, predictionCol=\"prediction\", metricName=\"r2\")\n",
        "\n",
        "tvs = TrainValidationSplit(\n",
        "    estimator=rf_model,\n",
        "    estimatorParamMaps=param_grid,\n",
        "    evaluator=evaluator,\n",
        "    trainRatio=0.8,    # 80% train, 20% validation\n",
        "    parallelism=4      # chạy song song 4 job\n",
        ")\n",
        "\n",
        "# --------------------------\n",
        "# 4️⃣ Huấn luyện\n",
        "# --------------------------\n",
        "rf_tvs_model = tvs.fit(train_df)\n",
        "\n",
        "# --------------------------\n",
        "# 5️⃣ In thông tin mô hình tốt nhất\n",
        "# --------------------------\n",
        "best_rf = rf_tvs_model.bestModel.stages[-1]\n",
        "print(\"Best Parameters Found:\")\n",
        "print(\" - numTrees:\", best_rf._java_obj.getNumTrees())\n",
        "print(\" - maxDepth:\", best_rf._java_obj.getMaxDepth())\n"
      ],
      "id": "f623450f"
    },
    {
      "cell_type": "code",
      "execution_count": null,
      "metadata": {
        "colab": {
          "base_uri": "https://localhost:8080/"
        },
        "id": "p4gkttrD26jT",
        "outputId": "962e44b6-d15b-48a0-9b28-8b2ca892bb13"
      },
      "outputs": [
        {
          "name": "stdout",
          "output_type": "stream",
          "text": [
            "R2 Train: 0.9621\n",
            "R2 Test : 0.9482\n",
            "----------\n",
            "MAE Train: 9.5988\n",
            "MAE Test : 10.4521\n",
            "----------\n",
            "MSE Train: 256.9823\n",
            "MSE Test : 353.3241\n",
            "----------\n"
          ]
        }
      ],
      "source": [
        "\n",
        "# Sử dụng toàn bộ pipeline tốt nhất\n",
        "train_pred = rf_tvs_model.bestModel.transform(train_df)\n",
        "test_pred  = rf_tvs_model.bestModel.transform(test_df)\n",
        "\n",
        "\n",
        "metrics = ['r2', 'mae', 'mse']\n",
        "for metric in metrics:\n",
        "    evaluator = RegressionEvaluator(labelCol=target, predictionCol=\"prediction\", metricName=metric)\n",
        "    print(f\"{metric.upper()} Train:\", round(evaluator.evaluate(train_pred), 4))\n",
        "    print(f\"{metric.upper()} Test :\", round(evaluator.evaluate(test_pred), 4))\n",
        "    print(\"----------\")\n"
      ],
      "id": "p4gkttrD26jT"
    },
    {
      "cell_type": "markdown",
      "source": [
        "### Gradient Boosted Tree"
      ],
      "metadata": {
        "id": "APOJR8QMtUf6"
      },
      "id": "APOJR8QMtUf6"
    },
    {
      "cell_type": "code",
      "execution_count": null,
      "metadata": {
        "id": "1Z5vgAkYIiqU",
        "colab": {
          "base_uri": "https://localhost:8080/"
        },
        "outputId": "aa904002-a270-4760-99ef-ecfbf59c3749"
      },
      "outputs": [
        {
          "output_type": "stream",
          "name": "stdout",
          "text": [
            "Best Parameters Found:\n",
            " - maxDepth: 8\n",
            " - maxIter: 40\n",
            " - stepSize: 0.1\n"
          ]
        }
      ],
      "source": [
        "\n",
        "# 1️⃣ Khai báo mô hình GBT (tương tự XGB)\n",
        "gbt = GBTRegressor(\n",
        "    labelCol=target,\n",
        "    featuresCol=\"scaledFeatures\",\n",
        "    seed=42\n",
        ")\n",
        "\n",
        "# 2️⃣ Xây dựng pipeline (đã có bước xử lý trước: indexers, encoders, assembler, scaler)\n",
        "xgb_pipeline = Pipeline(stages=indexers + encoders + [assembler, scaler, gbt])\n",
        "\n",
        "# 3️⃣ Tạo grid tham số để thử (tương tự param_dist_xgb)\n",
        "paramGrid = (ParamGridBuilder()\n",
        "    .addGrid(gbt.maxDepth, [4, 8])\n",
        "    .addGrid(gbt.maxIter, [20, 40])   # tương đương n_estimators\n",
        "    .addGrid(gbt.stepSize, [0.05, 0.1])  # tương đương learning_rate\n",
        "    .build()\n",
        ")\n",
        "\n",
        "# 4️⃣ Đánh giá bằng R2\n",
        "evaluator = RegressionEvaluator(\n",
        "    labelCol=target,\n",
        "    predictionCol=\"prediction\",\n",
        "    metricName=\"r2\"\n",
        ")\n",
        "\n",
        "# 5️⃣ Chia train/validation (tương tự RandomizedSearchCV)\n",
        "tvs = TrainValidationSplit(\n",
        "    estimator=xgb_pipeline,\n",
        "    estimatorParamMaps=paramGrid,\n",
        "    evaluator=evaluator,\n",
        "    trainRatio=0.8,  # 80% train, 20% validation\n",
        "    parallelism=4,\n",
        "    seed=42\n",
        ")\n",
        "\n",
        "# 6️⃣ Huấn luyện và chọn mô hình tốt nhất\n",
        "xgb_tvs_model = tvs.fit(train_df)\n",
        "\n",
        "# 7️⃣ In kết quả tốt nhất\n",
        "best_gbt = xgb_tvs_model.bestModel.stages[-1]\n",
        "\n",
        "print(\"Best Parameters Found:\")\n",
        "print(\" - maxDepth:\", best_gbt.getOrDefault(\"maxDepth\"))\n",
        "print(\" - maxIter:\", best_gbt.getOrDefault(\"maxIter\"))\n",
        "print(\" - stepSize:\", best_gbt.getOrDefault(\"stepSize\"))\n",
        "\n"
      ],
      "id": "1Z5vgAkYIiqU"
    },
    {
      "cell_type": "code",
      "execution_count": null,
      "metadata": {
        "id": "bY4iB4_Pv-Vj",
        "colab": {
          "base_uri": "https://localhost:8080/"
        },
        "outputId": "b3dbb644-bd04-4508-84c2-f7d1aa2372bb"
      },
      "outputs": [
        {
          "output_type": "stream",
          "name": "stdout",
          "text": [
            "R2 Train: 0.9736\n",
            "R2 Test : 0.9656\n",
            "----------\n",
            "MAE Train: 7.6887\n",
            "MAE Test : 7.9885\n",
            "----------\n",
            "MSE Train: 178.735\n",
            "MSE Test : 234.3938\n",
            "----------\n"
          ]
        }
      ],
      "source": [
        "train_pred = xgb_tvs_model.bestModel.transform(train_df)\n",
        "test_pred  = xgb_tvs_model.bestModel.transform(test_df)\n",
        "\n",
        "metrics = ['r2', 'mae', 'mse']\n",
        "for metric in metrics:\n",
        "    evaluator = RegressionEvaluator(labelCol=target, predictionCol=\"prediction\", metricName=metric)\n",
        "    print(f\"{metric.upper()} Train:\", round(evaluator.evaluate(train_pred), 4))\n",
        "    print(f\"{metric.upper()} Test :\", round(evaluator.evaluate(test_pred), 4))\n",
        "    print(\"----------\")\n"
      ],
      "id": "bY4iB4_Pv-Vj"
    },
    {
      "cell_type": "markdown",
      "source": [
        "#### Nhận xét\n",
        "\n",
        "##### Hiệu suất tổng thể\n",
        "\n",
        "Cả hai mô hình đều có **R² > 0.94**, tức là chúng giải thích được hơn **94% biến thiên của giá vé** → rất mạnh và có khả năng dự báo tốt.\n",
        "\n",
        "Tuy nhiên, **GBT (Gradient Boosted Trees)** vượt trội hơn rõ rệt so với **Random Forest**:\n",
        "\n",
        "| Mô hình | R² Train | R² Test | MAE Train | MAE Test | MSE Train | MSE Test |\n",
        "|----------|-----------|----------|------------|-----------|------------|-----------|\n",
        "| Random Forest | 0.9621 | 0.9482 | 9.5988 | 10.4521 | 256.9823 | 353.3241 |\n",
        "| GBT | 0.9736 | 0.9656 | 7.6887 | 7.9885 | 178.735 | 234.3938 |\n",
        "\n",
        "- GBT có **R² cao hơn** trên cả train và test → mô hình học tốt hơn.  \n",
        "- **Sai số (MAE, MSE)** đều **thấp hơn** → dự đoán sát hơn với giá thực tế.  \n",
        "**GBT Regression** là mô hình **tốt hơn** cho bài toán dự đoán giá vé"
      ],
      "metadata": {
        "id": "v9uRYJM6uf9t"
      },
      "id": "v9uRYJM6uf9t"
    },
    {
      "cell_type": "markdown",
      "source": [
        "## 1.6 Mô hình dự đoán _số lượng hành khách_ trên một chuyến bay"
      ],
      "metadata": {
        "id": "-P1Y-C9yuxLS"
      },
      "id": "-P1Y-C9yuxLS"
    },
    {
      "cell_type": "code",
      "execution_count": null,
      "metadata": {
        "colab": {
          "base_uri": "https://localhost:8080/"
        },
        "id": "m9uJhBM6DhAH",
        "outputId": "02c358d1-8d23-43d4-9f02-159509aad2e2"
      },
      "outputs": [
        {
          "output_type": "stream",
          "name": "stdout",
          "text": [
            "Kích thước dataframe sau feature engineering: 231269 hàng × 25 cột\n",
            "Các cột mới:\n",
            "- passengers_lag1\n",
            "- passengers_lag4\n",
            "- passengers_roll_mean4\n",
            "- passengers_roll_median4\n",
            "- season\n"
          ]
        }
      ],
      "source": [
        "\n",
        "# Xử lý dữ liệu cơ bản\n",
        "# =========================================\n",
        "\n",
        "df = (\n",
        "    df.withColumn(\"Year\", F.col(\"Year\").cast(\"int\"))\n",
        "      .withColumn(\"quarter\", F.col(\"quarter\").cast(\"int\"))\n",
        "      .withColumn(\"fare\", F.col(\"fare\").cast(\"double\"))\n",
        "      .withColumn(\"fare_low\", F.col(\"fare_low\").cast(\"double\"))\n",
        ")\n",
        "\n",
        "# Loại bỏ dòng thiếu fare hoặc passengers\n",
        "df = df.na.drop(subset=[\"fare\", \"passengers\"])\n",
        "\n",
        "# Loại bỏ cột không cần thiết\n",
        "drop_cols = [\"tbl\", \"city1\", \"city2\", \"Geocoded_City1\", \"Geocoded_City2\", \"airport_1\", \"airport_2\"]\n",
        "for c in drop_cols:\n",
        "    if c in df.columns:\n",
        "        df = df.drop(c)\n",
        "\n",
        "# =========================================\n",
        "# Feature Engineering\n",
        "# =========================================\n",
        "\n",
        "# Season theo quarter\n",
        "df = df.withColumn(\n",
        "    \"season\",\n",
        "    F.when(F.col(\"quarter\") == 1, \"Spring\")\n",
        "     .when(F.col(\"quarter\") == 2, \"Summer\")\n",
        "     .when(F.col(\"quarter\") == 3, \"Fall\")\n",
        "     .when(F.col(\"quarter\") == 4, \"Winter\")\n",
        ")\n",
        "\n",
        "# route_id = airportid_1 + \"_\" + airportid_2\n",
        "df = df.withColumn(\"route_id\", F.concat_ws(\"_\", F.col(\"airportid_1\").cast(\"string\"), F.col(\"airportid_2\").cast(\"string\")))\n",
        "\n",
        "# fare_diff\n",
        "if \"fare_lg\" in df.columns and \"fare_low\" in df.columns:\n",
        "    df = df.withColumn(\"fare_diff\", F.col(\"fare_lg\") - F.col(\"fare_low\"))\n",
        "\n",
        "# HHI index\n",
        "if all(col in df.columns for col in [\"large_ms\", \"lf_ms\"]):\n",
        "    df = df.withColumn(\n",
        "        \"hhi\",\n",
        "        F.pow(F.col(\"large_ms\"), 2)\n",
        "        + F.pow(F.col(\"lf_ms\"), 2)\n",
        "        + F.pow(1 - (F.col(\"large_ms\") + F.col(\"lf_ms\")), 2)\n",
        "    )\n",
        "\n",
        "# fare_per_mile\n",
        "df = df.withColumn(\"fare_per_mile\", F.col(\"fare\") / F.col(\"nsmiles\"))\n",
        "\n",
        "# =========================================\n",
        "# Lag Features (theo route_id, Year, quarter)\n",
        "# =========================================\n",
        "\n",
        "window_spec = Window.partitionBy(\"route_id\").orderBy(\"Year\", \"quarter\")\n",
        "\n",
        "df = df.withColumn(\"passengers_lag1\", F.lag(\"passengers\", 1).over(window_spec))\n",
        "df = df.withColumn(\"passengers_lag4\", F.lag(\"passengers\", 4).over(window_spec))\n",
        "\n",
        "# Rolling mean (4 kỳ trước)\n",
        "window_roll = Window.partitionBy(\"route_id\").orderBy(\"Year\", \"quarter\").rowsBetween(-4, -1)\n",
        "df = df.withColumn(\"passengers_roll_mean4\", F.avg(\"passengers\").over(window_roll))\n",
        "df = df.withColumn(\"passengers_roll_median4\", F.expr(\"percentile_approx(passengers, 0.5)\").over(window_roll))\n",
        "df = df.na.drop(subset=[\"passengers_lag1\",\"passengers_lag4\",\"passengers_roll_mean4\",\"passengers_roll_median4\"])\n",
        "\n",
        "# =========================================\n",
        "# Encode categorical (Label Encoding)\n",
        "# =========================================\n",
        "\n",
        "cat_cols = [\"carrier_lg\", \"carrier_low\", \"season\", \"route_id\"]\n",
        "\n",
        "for c in cat_cols:\n",
        "    if c in df.columns:\n",
        "        indexer = StringIndexer(inputCol=c, outputCol=f\"{c}_index\", handleInvalid=\"keep\")\n",
        "        df = indexer.fit(df).transform(df).drop(c).withColumnRenamed(f\"{c}_index\", c)\n",
        "\n",
        "# =========================================\n",
        "# Kết quả\n",
        "# =========================================\n",
        "\n",
        "print(f\"Kích thước dataframe sau feature engineering: {df.count()} hàng × {len(df.columns)} cột\")\n",
        "\n",
        "print(\"Các cột mới:\")\n",
        "for c in df.columns:\n",
        "    if any(k in c for k in [\"lag\", \"roll\", \"season\"]):\n",
        "        print(\"-\", c)"
      ],
      "id": "m9uJhBM6DhAH"
    },
    {
      "cell_type": "code",
      "execution_count": null,
      "metadata": {
        "id": "IJl6y3ONi1KO"
      },
      "outputs": [],
      "source": [
        "\n",
        "# ======================================\n",
        "# Chọn features + target\n",
        "# ======================================\n",
        "\n",
        "target = \"passengers\"\n",
        "\n",
        "# Áp dụng log1p để giảm skew giống sklearn\n",
        "df = df.withColumn(\"log_passengers\", F.log1p(F.col(\"passengers\")))\n",
        "\n",
        "# Các features\n",
        "num_features = [\n",
        "    \"Year\", \"quarter\", \"fare\", \"fare_low\", \"fare_diff\", \"hhi\",\n",
        "    \"fare_per_mile\", \"passengers_lag1\", \"passengers_lag4\",\n",
        "    \"passengers_roll_mean4\", \"passengers_roll_median4\", \"nsmiles\",\"carrier_lg\", \"carrier_low\", \"season\", \"route_id\"\n",
        "]\n",
        "\n",
        "# ======================================\n",
        "# Tách train/test\n",
        "# ======================================\n",
        "train_df, test_df = df.randomSplit([0.8, 0.2], seed=42)\n",
        "\n",
        "# ======================================\n",
        "# Chuẩn hóa dữ liệu (StandardScaler)\n",
        "# ======================================\n",
        "\n",
        "# Gộp feature numeric vào 1 vector\n",
        "assembler = VectorAssembler(inputCols=num_features, outputCol=\"features_vec\")\n",
        "\n",
        "# Chuẩn hóa tương tự StandardScaler\n",
        "scaler = StandardScaler(inputCol=\"features_vec\", outputCol=\"scaledFeatures\")\n"
      ],
      "id": "IJl6y3ONi1KO"
    },
    {
      "cell_type": "markdown",
      "source": [
        "### Random Forest"
      ],
      "metadata": {
        "id": "jS2MCXSEvIjz"
      },
      "id": "jS2MCXSEvIjz"
    },
    {
      "cell_type": "code",
      "execution_count": null,
      "metadata": {
        "colab": {
          "base_uri": "https://localhost:8080/"
        },
        "id": "B0Ka2FQ5jlE2",
        "outputId": "c36b7da5-286a-453c-80b0-3f740236e9f4"
      },
      "outputs": [
        {
          "name": "stdout",
          "output_type": "stream",
          "text": [
            "Best Parameters Found:\n",
            " - numTrees: 50\n",
            " - maxDepth: 10\n"
          ]
        }
      ],
      "source": [
        "rf1 = RandomForestRegressor(\n",
        "    labelCol=\"log_passengers\",\n",
        "    featuresCol=\"scaledFeatures\",\n",
        "    seed=42\n",
        ")\n",
        "\n",
        "pipeline = Pipeline(stages=[assembler, scaler, rf1])\n",
        "\n",
        "# ======================================\n",
        "# Tập siêu tham số (giống param_dist sklearn)\n",
        "# ======================================\n",
        "\n",
        "param_grid = (\n",
        "    ParamGridBuilder()\n",
        "    .addGrid(rf1.numTrees, [50,70,100])\n",
        "    .addGrid(rf1.maxDepth, [5,10])\n",
        "    .build()\n",
        ")\n",
        "\n",
        "# ======================================\n",
        "# Tách train/test\n",
        "# ======================================\n",
        "\n",
        "train_df, test_df = df.randomSplit([0.8, 0.2], seed=42)\n",
        "\n",
        "# ======================================\n",
        "# TrainValidationSplit (thay cho RandomizedSearchCV)\n",
        "# ======================================\n",
        "\n",
        "evaluator = RegressionEvaluator(\n",
        "    labelCol=\"log_passengers\",\n",
        "    predictionCol=\"prediction\",\n",
        "    metricName=\"r2\"\n",
        ")\n",
        "\n",
        "tvs1 = TrainValidationSplit(\n",
        "    estimator=pipeline,\n",
        "    estimatorParamMaps=param_grid,\n",
        "    evaluator=evaluator,\n",
        "    trainRatio=0.8,      # 80% train / 20% validation\n",
        "    parallelism=4,       # chạy song song\n",
        "    seed=42\n",
        ")\n",
        "\n",
        "# ======================================\n",
        "# Huấn luyện mô hình\n",
        "# ======================================\n",
        "\n",
        "tvs_model1 = tvs1.fit(train_df)\n",
        "\n",
        "# In thông tin mô hình tốt nhất\n",
        "# --------------------------\n",
        "best_rf1 = tvs_model1.bestModel.stages[-1]\n",
        "print(\"Best Parameters Found:\")\n",
        "print(\" - numTrees:\", best_rf1._java_obj.getNumTrees())\n",
        "print(\" - maxDepth:\", best_rf1._java_obj.getMaxDepth())\n",
        "\n"
      ],
      "id": "B0Ka2FQ5jlE2"
    },
    {
      "cell_type": "code",
      "execution_count": null,
      "metadata": {
        "colab": {
          "base_uri": "https://localhost:8080/"
        },
        "outputId": "ee77af29-d90a-463f-a7a5-4f0d256ae330",
        "id": "86hXxEP6VhTg"
      },
      "outputs": [
        {
          "output_type": "stream",
          "name": "stdout",
          "text": [
            "=== Kết quả mô hình RandomForest ===\n",
            "R2 Train : 0.9745\n",
            "R2 Test  : 0.9719\n",
            "----------\n",
            "MAE Train: 0.1946\n",
            "MAE Test : 0.1994\n",
            "----------\n",
            "MSE Train: 0.0927\n",
            "MSE Test : 0.1023\n"
          ]
        }
      ],
      "source": [
        "# ======================================\n",
        "# Dự đoán trên tập train và test\n",
        "# ======================================\n",
        "train_pred = tvs_model1.bestModel.transform(train_df)\n",
        "test_pred  = tvs_model1.bestModel.transform(test_df)\n",
        "\n",
        "# ======================================\n",
        "# Định nghĩa evaluator (dùng chung)\n",
        "# ======================================\n",
        "evaluator_r2 = RegressionEvaluator(labelCol=\"log_passengers\", predictionCol=\"prediction\", metricName=\"r2\")\n",
        "evaluator_mae = RegressionEvaluator(labelCol=\"log_passengers\", predictionCol=\"prediction\", metricName=\"mae\")\n",
        "evaluator_mse = RegressionEvaluator(labelCol=\"log_passengers\", predictionCol=\"prediction\", metricName=\"mse\")\n",
        "\n",
        "# ======================================\n",
        "# Tính metric cho TRAIN\n",
        "# ======================================\n",
        "r2_train = evaluator_r2.evaluate(train_pred)\n",
        "mae_train = evaluator_mae.evaluate(train_pred)\n",
        "mse_train = evaluator_mse.evaluate(train_pred)\n",
        "\n",
        "# ======================================\n",
        "# Tính metric cho TEST\n",
        "# ======================================\n",
        "r2_test = evaluator_r2.evaluate(test_pred)\n",
        "mae_test = evaluator_mae.evaluate(test_pred)\n",
        "mse_test = evaluator_mse.evaluate(test_pred)\n",
        "\n",
        "# ======================================\n",
        "# In kết quả\n",
        "# ======================================\n",
        "print(\"=== Kết quả mô hình RandomForest ===\")\n",
        "print(f\"R2 Train : {r2_train:.4f}\")\n",
        "print(f\"R2 Test  : {r2_test:.4f}\")\n",
        "print(\"----------\")\n",
        "print(f\"MAE Train: {mae_train:.4f}\")\n",
        "print(f\"MAE Test : {mae_test:.4f}\")\n",
        "print(\"----------\")\n",
        "print(f\"MSE Train: {mse_train:.4f}\")\n",
        "print(f\"MSE Test : {mse_test:.4f}\")\n"
      ],
      "id": "86hXxEP6VhTg"
    },
    {
      "cell_type": "markdown",
      "source": [
        "### Gradient Boosted Tree"
      ],
      "metadata": {
        "id": "iI8ZpR6yvVL6"
      },
      "id": "iI8ZpR6yvVL6"
    },
    {
      "cell_type": "code",
      "execution_count": null,
      "metadata": {
        "colab": {
          "base_uri": "https://localhost:8080/"
        },
        "id": "izHPB5dVNBFy",
        "outputId": "45e27a67-d527-4dc4-bd03-84a4bd5ba518"
      },
      "outputs": [
        {
          "output_type": "stream",
          "name": "stdout",
          "text": [
            "Best Parameters Found:\n",
            " - maxDepth: 10\n",
            " - maxIter : 30\n",
            " - stepSize: 0.1\n"
          ]
        }
      ],
      "source": [
        "\n",
        "gbt1 = GBTRegressor(\n",
        "    labelCol=\"log_passengers\",\n",
        "    featuresCol=\"scaledFeatures\",\n",
        "    seed=42\n",
        ")\n",
        "\n",
        "pipeline = Pipeline(stages=[assembler, scaler, gbt1])\n",
        "\n",
        "param_grid = (\n",
        "    ParamGridBuilder()\n",
        "    .addGrid(gbt1.maxDepth, [5, 10])\n",
        "    .addGrid(gbt1.maxIter, [10, 30])\n",
        "    .addGrid(gbt1.stepSize, [0.1])\n",
        "    .build()\n",
        ")\n",
        "\n",
        "evaluator = RegressionEvaluator(\n",
        "    labelCol=\"log_passengers\",\n",
        "    predictionCol=\"prediction\",\n",
        "    metricName=\"r2\"\n",
        ")\n",
        "\n",
        "tvs2 = TrainValidationSplit(\n",
        "    estimator=pipeline,\n",
        "    estimatorParamMaps=param_grid,\n",
        "    evaluator=evaluator,\n",
        "    trainRatio=0.8,\n",
        "    parallelism=4,\n",
        "    seed=42\n",
        ")\n",
        "\n",
        "train_df, test_df = df.randomSplit([0.8, 0.2], seed=42)\n",
        "\n",
        "gbt_tvs_model = tvs2.fit(train_df)\n",
        "best_gbt = gbt_tvs_model.bestModel.stages[-1]\n",
        "\n",
        "print(\"Best Parameters Found:\")\n",
        "print(\" - maxDepth:\", best_gbt.getMaxDepth())\n",
        "print(\" - maxIter :\", best_gbt.getMaxIter())\n",
        "print(\" - stepSize:\", best_gbt.getStepSize())\n",
        "\n"
      ],
      "id": "izHPB5dVNBFy"
    },
    {
      "cell_type": "code",
      "execution_count": null,
      "metadata": {
        "colab": {
          "base_uri": "https://localhost:8080/"
        },
        "id": "P8rjx-BTQmBL",
        "outputId": "6b9fdde4-0d87-4199-e705-ad39c3469f77"
      },
      "outputs": [
        {
          "output_type": "stream",
          "name": "stdout",
          "text": [
            "=== Kết quả mô hình GBT ===\n",
            "R2 Train : 0.9859\n",
            "R2 Test  : 0.9762\n",
            "----------\n",
            "MAE Train: 0.1583\n",
            "MAE Test : 0.1847\n",
            "----------\n",
            "MSE Train: 0.0511\n",
            "MSE Test : 0.0864\n"
          ]
        }
      ],
      "source": [
        "train_pred = gbt_tvs_model.bestModel.transform(train_df)\n",
        "test_pred  = gbt_tvs_model.bestModel.transform(test_df)\n",
        "\n",
        "evaluator_r2 = RegressionEvaluator(labelCol=\"log_passengers\", predictionCol=\"prediction\", metricName=\"r2\")\n",
        "evaluator_mae = RegressionEvaluator(labelCol=\"log_passengers\", predictionCol=\"prediction\", metricName=\"mae\")\n",
        "evaluator_mse = RegressionEvaluator(labelCol=\"log_passengers\", predictionCol=\"prediction\", metricName=\"mse\")\n",
        "\n",
        "print(\"=== Kết quả mô hình GBT ===\")\n",
        "print(f\"R2 Train : {evaluator_r2.evaluate(train_pred):.4f}\")\n",
        "print(f\"R2 Test  : {evaluator_r2.evaluate(test_pred):.4f}\")\n",
        "print(\"----------\")\n",
        "print(f\"MAE Train: {evaluator_mae.evaluate(train_pred):.4f}\")\n",
        "print(f\"MAE Test : {evaluator_mae.evaluate(test_pred):.4f}\")\n",
        "print(\"----------\")\n",
        "print(f\"MSE Train: {evaluator_mse.evaluate(train_pred):.4f}\")\n",
        "print(f\"MSE Test : {evaluator_mse.evaluate(test_pred):.4f}\")\n"
      ],
      "id": "P8rjx-BTQmBL"
    },
    {
      "cell_type": "markdown",
      "source": [
        "#### Nhận xét\n",
        "\n",
        "##### Hiệu suất tổng thể\n",
        "\n",
        "Cả hai mô hình đều có **R² > 0.97**, nghĩa là chúng **giải thích được hơn 97% biến thiên của số lượng hành khách** — thể hiện khả năng dự báo **rất mạnh và đáng tin cậy**.\n",
        "\n",
        "Tuy nhiên, **GBT (Gradient Boosted Trees)** cho kết quả **vượt trội hơn** so với **Random Forest**:\n",
        "\n",
        "| Mô hình | R² Train | R² Test | MAE Train | MAE Test | MSE Train | MSE Test |\n",
        "|----------|-----------|----------|------------|-----------|------------|-----------|\n",
        "| Random Forest | 0.9745 | 0.9719 | 0.1946 | 0.1994 | 0.0927 | 0.1023 |\n",
        "| GBT | 0.9859 | 0.9762 | 0.1583 | 0.1847 | 0.0511 | 0.0864 |\n",
        "\n",
        "- **GBT** có R² cao hơn → mô hình nắm bắt được nhiều quan hệ giữa đặc trưng và mục tiêu hơn.  \n",
        "- **MAE và MSE đều nhỏ hơn** → sai số dự đoán thấp hơn.  \n",
        "**GBT Regression** là mô hình **hiệu quả nhất** cho bài toán dự đoán số hành khách."
      ],
      "metadata": {
        "id": "2L8mB71jvgfG"
      },
      "id": "2L8mB71jvgfG"
    },
    {
      "cell_type": "markdown",
      "source": [
        "#2 Mô hình phát hiện bất thường"
      ],
      "metadata": {
        "id": "VtaYjx67CSlH"
      },
      "id": "VtaYjx67CSlH"
    },
    {
      "cell_type": "markdown",
      "source": [
        "## 2.1 Phân tích giai đoạn Covid"
      ],
      "metadata": {
        "id": "ptBuEf8XcY6k"
      },
      "id": "ptBuEf8XcY6k"
    },
    {
      "cell_type": "code",
      "source": [
        "# ============================================================\n",
        "# PHÁT HIỆN BẤT THƯỜNG TRONG GIAI ĐOẠN COVID-19\n",
        "# ============================================================\n",
        "# Mục đích: Phân tích ảnh hưởng của COVID-19 lên ngành hàng không\n",
        "\n",
        "print(\"PHÁT HIỆN BẤT THƯỜNG: ẢNH HƯỞNG COVID-19\")\n",
        "\n",
        "# Định nghĩa các giai đoạn\n",
        "pre_covid = (1993, 2019)\n",
        "covid_period = (2020, 2021)\n",
        "post_covid = (2022, 2024)\n",
        "\n",
        "print(f\"\\n📅 PHÂN CHIA GIAI ĐOẠN:\")\n",
        "print(f\"  • Pre-COVID:  {pre_covid[0]}-{pre_covid[1]} (27 năm)\")\n",
        "print(f\"  • COVID:      {covid_period[0]}-{covid_period[1]} (2 năm)\")\n",
        "print(f\"  • Post-COVID: {post_covid[0]}-{post_covid[1]} (3 năm)\")\n",
        "\n",
        "# Gán nhãn giai đoạn\n",
        "from pyspark.sql.functions import when, col, count, avg, sum\n",
        "\n",
        "df_with_period = df.withColumn('period',\n",
        "    when((col('Year') >= pre_covid[0]) & (col('Year') <= pre_covid[1]), 'Pre-COVID')\n",
        "    .when((col('Year') >= covid_period[0]) & (col('Year') <= covid_period[1]), 'COVID')\n",
        "    .when((col('Year') >= post_covid[0]) & (col('Year') <= post_covid[1]), 'Post-COVID')\n",
        "    .otherwise('Unknown')\n",
        ")\n",
        "\n",
        "# Thống kê theo năm\n",
        "yearly_stats = df.groupBy('Year').agg(\n",
        "    count('*').alias('num_routes'),\n",
        "    avg('fare').alias('avg_fare'),\n",
        "    sum('passengers').alias('total_passengers'),\n",
        "    avg('passengers').alias('avg_passengers'),\n",
        "    avg('nsmiles').alias('avg_distance')\n",
        ").orderBy('Year').toPandas()\n",
        "\n",
        "# Thêm period labels\n",
        "yearly_stats['period'] = yearly_stats['Year'].apply(\n",
        "    lambda x: 'Pre-COVID' if x <= 2019\n",
        "    else ('COVID' if x <= 2021 else 'Post-COVID')\n",
        ")\n",
        "\n",
        "print(\"\\n📊 DỮ LIỆU THEO NĂM:\")\n",
        "print(yearly_stats.tail(10).to_string(index=False))  # 10 năm gần nhất"
      ],
      "metadata": {
        "colab": {
          "base_uri": "https://localhost:8080/"
        },
        "id": "RxZyZjBas-PY",
        "outputId": "16004642-8175-4da1-8458-0f81531c339f"
      },
      "execution_count": null,
      "outputs": [
        {
          "output_type": "stream",
          "name": "stdout",
          "text": [
            "PHÁT HIỆN BẤT THƯỜNG: ẢNH HƯỞNG COVID-19\n",
            "\n",
            "📅 PHÂN CHIA GIAI ĐOẠN:\n",
            "  • Pre-COVID:  1993-2019 (27 năm)\n",
            "  • COVID:      2020-2021 (2 năm)\n",
            "  • Post-COVID: 2022-2024 (3 năm)\n",
            "\n",
            "📊 DỮ LIỆU THEO NĂM:\n",
            " Year  num_routes   avg_fare  total_passengers  avg_passengers  avg_distance     period\n",
            " 2015        8150 247.992015           2845538      349.145767   1200.745767  Pre-COVID\n",
            " 2016        8227 240.550512           2977255      361.888295   1201.169928  Pre-COVID\n",
            " 2017        8232 240.096521           3086637      374.955904   1196.532313  Pre-COVID\n",
            " 2018        8195 239.809121           3203950      390.964002   1197.654790  Pre-COVID\n",
            " 2019        8148 241.179140           3262326      400.383652   1193.206186  Pre-COVID\n",
            " 2020        7520 193.615156           1131511      150.466888   1233.886835      COVID\n",
            " 2021        7758 206.346408           2133402      274.993813   1208.319799      COVID\n",
            " 2022        7809 249.667511           2979369      381.530158   1187.468178 Post-COVID\n",
            " 2023        7788 249.931843           3202075      411.154982   1181.189779 Post-COVID\n",
            " 2024        1905 257.243160            743480      390.278215   1188.721785 Post-COVID\n"
          ]
        }
      ],
      "id": "RxZyZjBas-PY"
    },
    {
      "cell_type": "code",
      "source": [
        "# ============================================================\n",
        "# CELL 9B: TRỰC QUAN HÓA TÁC ĐỘNG COVID-19\n",
        "# ============================================================\n",
        "# Mục đích: Vẽ timeline để thấy rõ sự thay đổi\n",
        "\n",
        "import matplotlib.pyplot as plt\n",
        "import numpy as np\n",
        "from pyspark.sql.functions import when, col, count, avg, sum # This import is likely not needed here as df_with_period is already created\n",
        "\n",
        "fig, axes = plt.subplots(3, 1, figsize=(16, 14))\n",
        "\n",
        "# Colors cho periods\n",
        "colors = yearly_stats['period'].map({\n",
        "    'Pre-COVID': 'lightblue',\n",
        "    'COVID': 'red',\n",
        "    'Post-COVID': 'lightgreen'\n",
        "})\n",
        "\n",
        "# 1. SỐ TUYẾN BAY THEO NĂM\n",
        "axes[0].bar(yearly_stats['Year'], yearly_stats['num_routes'],\n",
        "            color=colors, alpha=0.7, edgecolor='black')\n",
        "axes[0].set_xlabel('Năm', fontsize=12)\n",
        "axes[0].set_ylabel('Số tuyến bay', fontsize=12)\n",
        "axes[0].set_title('Số lượng tuyến bay theo năm (1993-2024)', fontsize=14, fontweight='bold')\n",
        "axes[0].grid(True, alpha=0.3, axis='y')\n",
        "\n",
        "# Highlight COVID period\n",
        "axes[0].axvspan(2020, 2021, alpha=0.2, color='red', label='COVID Period')\n",
        "\n",
        "# Thêm annotation\n",
        "covid_routes = yearly_stats[yearly_stats['Year'] == 2020]['num_routes'].values[0]\n",
        "pre_covid_avg = yearly_stats[yearly_stats['Year'] == 2019]['num_routes'].values[0]\n",
        "drop_pct = ((pre_covid_avg - covid_routes) / pre_covid_avg) * 100\n",
        "\n",
        "axes[0].annotate(f'COVID Impact\\n↓{drop_pct:.1f}%',\n",
        "                 xy=(2020, covid_routes),\n",
        "                 xytext=(2020, covid_routes * 1.3),\n",
        "                 arrowprops=dict(arrowstyle='->', color='red', lw=2),\n",
        "                 fontsize=11, fontweight='bold',\n",
        "                 bbox=dict(boxstyle='round', facecolor='yellow', alpha=0.7))\n",
        "axes[0].legend()\n",
        "\n",
        "# 2. GIÁ VÉ TRUNG BÌNH THEO NĂM\n",
        "axes[1].plot(yearly_stats['Year'], yearly_stats['avg_fare'],\n",
        "             linewidth=3, marker='o', markersize=6, color='darkblue')\n",
        "\n",
        "# Fill areas\n",
        "axes[1].fill_between(yearly_stats['Year'], yearly_stats['avg_fare'],\n",
        "                      alpha=0.3, color=colors)\n",
        "axes[1].set_xlabel('Năm', fontsize=12)\n",
        "axes[1].set_ylabel('Giá vé trung bình ($)', fontsize=12)\n",
        "axes[1].set_title('Xu hướng giá vé qua các năm', fontsize=14, fontweight='bold')\n",
        "axes[1].grid(True, alpha=0.3)\n",
        "axes[1].axvspan(2020, 2021, alpha=0.2, color='red')\n",
        "\n",
        "# Thêm trend line\n",
        "z = np.polyfit(yearly_stats['Year'], yearly_stats['avg_fare'], 1)\n",
        "p = np.poly1d(z)\n",
        "axes[1].plot(yearly_stats['Year'], p(yearly_stats['Year']),\n",
        "             \"r--\", linewidth=2, alpha=0.5, label='Trend (overall)')\n",
        "axes[1].legend()\n",
        "\n",
        "# 3. SỐ HÀNH KHÁCH TRUNG BÌNH\n",
        "axes[2].plot(yearly_stats['Year'], yearly_stats['avg_passengers'],\n",
        "             linewidth=3, marker='s', markersize=6, color='darkgreen')\n",
        "axes[2].fill_between(yearly_stats['Year'], yearly_stats['avg_passengers'],\n",
        "                      alpha=0.3, color=colors)\n",
        "axes[2].set_xlabel('Năm', fontsize=12)\n",
        "axes[2].set_ylabel('Số hành khách TB/tuyến', fontsize=12)\n",
        "axes[2].set_title('Số hành khách trung bình mỗi tuyến bay', fontsize=14, fontweight='bold')\n",
        "axes[2].grid(True, alpha=0.3)\n",
        "axes[2].axvspan(2020, 2021, alpha=0.2, color='red', label='COVID Period')\n",
        "axes[2].legend()\n",
        "\n",
        "plt.tight_layout()\n",
        "plt.savefig('../image/covid_impact_timeline.png', dpi=300, bbox_inches='tight')\n",
        "plt.show()"
      ],
      "metadata": {
        "colab": {
          "base_uri": "https://localhost:8080/",
          "height": 1000
        },
        "id": "5T7r2mdHtr9I",
        "outputId": "33391f68-a6b7-4b49-a2ea-dc2d7d29e540"
      },
      "execution_count": null,
      "outputs": [
        {
          "output_type": "error",
          "ename": "FileNotFoundError",
          "evalue": "[Errno 2] No such file or directory: '../image/covid_impact_timeline.png'",
          "traceback": [
            "\u001b[0;31m---------------------------------------------------------------------------\u001b[0m",
            "\u001b[0;31mFileNotFoundError\u001b[0m                         Traceback (most recent call last)",
            "\u001b[0;32m/tmp/ipython-input-383185343.py\u001b[0m in \u001b[0;36m<cell line: 0>\u001b[0;34m()\u001b[0m\n\u001b[1;32m     74\u001b[0m \u001b[0;34m\u001b[0m\u001b[0m\n\u001b[1;32m     75\u001b[0m \u001b[0mplt\u001b[0m\u001b[0;34m.\u001b[0m\u001b[0mtight_layout\u001b[0m\u001b[0;34m(\u001b[0m\u001b[0;34m)\u001b[0m\u001b[0;34m\u001b[0m\u001b[0;34m\u001b[0m\u001b[0m\n\u001b[0;32m---> 76\u001b[0;31m \u001b[0mplt\u001b[0m\u001b[0;34m.\u001b[0m\u001b[0msavefig\u001b[0m\u001b[0;34m(\u001b[0m\u001b[0;34m'../image/covid_impact_timeline.png'\u001b[0m\u001b[0;34m,\u001b[0m \u001b[0mdpi\u001b[0m\u001b[0;34m=\u001b[0m\u001b[0;36m300\u001b[0m\u001b[0;34m,\u001b[0m \u001b[0mbbox_inches\u001b[0m\u001b[0;34m=\u001b[0m\u001b[0;34m'tight'\u001b[0m\u001b[0;34m)\u001b[0m\u001b[0;34m\u001b[0m\u001b[0;34m\u001b[0m\u001b[0m\n\u001b[0m\u001b[1;32m     77\u001b[0m \u001b[0mplt\u001b[0m\u001b[0;34m.\u001b[0m\u001b[0mshow\u001b[0m\u001b[0;34m(\u001b[0m\u001b[0;34m)\u001b[0m\u001b[0;34m\u001b[0m\u001b[0;34m\u001b[0m\u001b[0m\n",
            "\u001b[0;32m/usr/local/lib/python3.12/dist-packages/matplotlib/pyplot.py\u001b[0m in \u001b[0;36msavefig\u001b[0;34m(*args, **kwargs)\u001b[0m\n\u001b[1;32m   1241\u001b[0m     \u001b[0;31m# savefig default implementation has no return, so mypy is unhappy\u001b[0m\u001b[0;34m\u001b[0m\u001b[0;34m\u001b[0m\u001b[0m\n\u001b[1;32m   1242\u001b[0m     \u001b[0;31m# presumably this is here because subclasses can return?\u001b[0m\u001b[0;34m\u001b[0m\u001b[0;34m\u001b[0m\u001b[0m\n\u001b[0;32m-> 1243\u001b[0;31m     \u001b[0mres\u001b[0m \u001b[0;34m=\u001b[0m \u001b[0mfig\u001b[0m\u001b[0;34m.\u001b[0m\u001b[0msavefig\u001b[0m\u001b[0;34m(\u001b[0m\u001b[0;34m*\u001b[0m\u001b[0margs\u001b[0m\u001b[0;34m,\u001b[0m \u001b[0;34m**\u001b[0m\u001b[0mkwargs\u001b[0m\u001b[0;34m)\u001b[0m  \u001b[0;31m# type: ignore[func-returns-value]\u001b[0m\u001b[0;34m\u001b[0m\u001b[0;34m\u001b[0m\u001b[0m\n\u001b[0m\u001b[1;32m   1244\u001b[0m     \u001b[0mfig\u001b[0m\u001b[0;34m.\u001b[0m\u001b[0mcanvas\u001b[0m\u001b[0;34m.\u001b[0m\u001b[0mdraw_idle\u001b[0m\u001b[0;34m(\u001b[0m\u001b[0;34m)\u001b[0m  \u001b[0;31m# Need this if 'transparent=True', to reset colors.\u001b[0m\u001b[0;34m\u001b[0m\u001b[0;34m\u001b[0m\u001b[0m\n\u001b[1;32m   1245\u001b[0m     \u001b[0;32mreturn\u001b[0m \u001b[0mres\u001b[0m\u001b[0;34m\u001b[0m\u001b[0;34m\u001b[0m\u001b[0m\n",
            "\u001b[0;32m/usr/local/lib/python3.12/dist-packages/matplotlib/figure.py\u001b[0m in \u001b[0;36msavefig\u001b[0;34m(self, fname, transparent, **kwargs)\u001b[0m\n\u001b[1;32m   3488\u001b[0m                 \u001b[0;32mfor\u001b[0m \u001b[0max\u001b[0m \u001b[0;32min\u001b[0m \u001b[0mself\u001b[0m\u001b[0;34m.\u001b[0m\u001b[0maxes\u001b[0m\u001b[0;34m:\u001b[0m\u001b[0;34m\u001b[0m\u001b[0;34m\u001b[0m\u001b[0m\n\u001b[1;32m   3489\u001b[0m                     \u001b[0m_recursively_make_axes_transparent\u001b[0m\u001b[0;34m(\u001b[0m\u001b[0mstack\u001b[0m\u001b[0;34m,\u001b[0m \u001b[0max\u001b[0m\u001b[0;34m)\u001b[0m\u001b[0;34m\u001b[0m\u001b[0;34m\u001b[0m\u001b[0m\n\u001b[0;32m-> 3490\u001b[0;31m             \u001b[0mself\u001b[0m\u001b[0;34m.\u001b[0m\u001b[0mcanvas\u001b[0m\u001b[0;34m.\u001b[0m\u001b[0mprint_figure\u001b[0m\u001b[0;34m(\u001b[0m\u001b[0mfname\u001b[0m\u001b[0;34m,\u001b[0m \u001b[0;34m**\u001b[0m\u001b[0mkwargs\u001b[0m\u001b[0;34m)\u001b[0m\u001b[0;34m\u001b[0m\u001b[0;34m\u001b[0m\u001b[0m\n\u001b[0m\u001b[1;32m   3491\u001b[0m \u001b[0;34m\u001b[0m\u001b[0m\n\u001b[1;32m   3492\u001b[0m     def ginput(self, n=1, timeout=30, show_clicks=True,\n",
            "\u001b[0;32m/usr/local/lib/python3.12/dist-packages/matplotlib/backend_bases.py\u001b[0m in \u001b[0;36mprint_figure\u001b[0;34m(self, filename, dpi, facecolor, edgecolor, orientation, format, bbox_inches, pad_inches, bbox_extra_artists, backend, **kwargs)\u001b[0m\n\u001b[1;32m   2182\u001b[0m                 \u001b[0;31m# force the figure dpi to 72), so we need to set it again here.\u001b[0m\u001b[0;34m\u001b[0m\u001b[0;34m\u001b[0m\u001b[0m\n\u001b[1;32m   2183\u001b[0m                 \u001b[0;32mwith\u001b[0m \u001b[0mcbook\u001b[0m\u001b[0;34m.\u001b[0m\u001b[0m_setattr_cm\u001b[0m\u001b[0;34m(\u001b[0m\u001b[0mself\u001b[0m\u001b[0;34m.\u001b[0m\u001b[0mfigure\u001b[0m\u001b[0;34m,\u001b[0m \u001b[0mdpi\u001b[0m\u001b[0;34m=\u001b[0m\u001b[0mdpi\u001b[0m\u001b[0;34m)\u001b[0m\u001b[0;34m:\u001b[0m\u001b[0;34m\u001b[0m\u001b[0;34m\u001b[0m\u001b[0m\n\u001b[0;32m-> 2184\u001b[0;31m                     result = print_method(\n\u001b[0m\u001b[1;32m   2185\u001b[0m                         \u001b[0mfilename\u001b[0m\u001b[0;34m,\u001b[0m\u001b[0;34m\u001b[0m\u001b[0;34m\u001b[0m\u001b[0m\n\u001b[1;32m   2186\u001b[0m                         \u001b[0mfacecolor\u001b[0m\u001b[0;34m=\u001b[0m\u001b[0mfacecolor\u001b[0m\u001b[0;34m,\u001b[0m\u001b[0;34m\u001b[0m\u001b[0;34m\u001b[0m\u001b[0m\n",
            "\u001b[0;32m/usr/local/lib/python3.12/dist-packages/matplotlib/backend_bases.py\u001b[0m in \u001b[0;36m<lambda>\u001b[0;34m(*args, **kwargs)\u001b[0m\n\u001b[1;32m   2038\u001b[0m                 \"bbox_inches_restore\"}\n\u001b[1;32m   2039\u001b[0m             \u001b[0mskip\u001b[0m \u001b[0;34m=\u001b[0m \u001b[0moptional_kws\u001b[0m \u001b[0;34m-\u001b[0m \u001b[0;34m{\u001b[0m\u001b[0;34m*\u001b[0m\u001b[0minspect\u001b[0m\u001b[0;34m.\u001b[0m\u001b[0msignature\u001b[0m\u001b[0;34m(\u001b[0m\u001b[0mmeth\u001b[0m\u001b[0;34m)\u001b[0m\u001b[0;34m.\u001b[0m\u001b[0mparameters\u001b[0m\u001b[0;34m}\u001b[0m\u001b[0;34m\u001b[0m\u001b[0;34m\u001b[0m\u001b[0m\n\u001b[0;32m-> 2040\u001b[0;31m             print_method = functools.wraps(meth)(lambda *args, **kwargs: meth(\n\u001b[0m\u001b[1;32m   2041\u001b[0m                 *args, **{k: v for k, v in kwargs.items() if k not in skip}))\n\u001b[1;32m   2042\u001b[0m         \u001b[0;32melse\u001b[0m\u001b[0;34m:\u001b[0m  \u001b[0;31m# Let third-parties do as they see fit.\u001b[0m\u001b[0;34m\u001b[0m\u001b[0;34m\u001b[0m\u001b[0m\n",
            "\u001b[0;32m/usr/local/lib/python3.12/dist-packages/matplotlib/backends/backend_agg.py\u001b[0m in \u001b[0;36mprint_png\u001b[0;34m(self, filename_or_obj, metadata, pil_kwargs)\u001b[0m\n\u001b[1;32m    479\u001b[0m             \u001b[0;34m*\u001b[0m\u001b[0mmetadata\u001b[0m\u001b[0;34m*\u001b[0m\u001b[0;34m,\u001b[0m \u001b[0mincluding\u001b[0m \u001b[0mthe\u001b[0m \u001b[0mdefault\u001b[0m \u001b[0;34m'Software'\u001b[0m \u001b[0mkey\u001b[0m\u001b[0;34m.\u001b[0m\u001b[0;34m\u001b[0m\u001b[0;34m\u001b[0m\u001b[0m\n\u001b[1;32m    480\u001b[0m         \"\"\"\n\u001b[0;32m--> 481\u001b[0;31m         \u001b[0mself\u001b[0m\u001b[0;34m.\u001b[0m\u001b[0m_print_pil\u001b[0m\u001b[0;34m(\u001b[0m\u001b[0mfilename_or_obj\u001b[0m\u001b[0;34m,\u001b[0m \u001b[0;34m\"png\"\u001b[0m\u001b[0;34m,\u001b[0m \u001b[0mpil_kwargs\u001b[0m\u001b[0;34m,\u001b[0m \u001b[0mmetadata\u001b[0m\u001b[0;34m)\u001b[0m\u001b[0;34m\u001b[0m\u001b[0;34m\u001b[0m\u001b[0m\n\u001b[0m\u001b[1;32m    482\u001b[0m \u001b[0;34m\u001b[0m\u001b[0m\n\u001b[1;32m    483\u001b[0m     \u001b[0;32mdef\u001b[0m \u001b[0mprint_to_buffer\u001b[0m\u001b[0;34m(\u001b[0m\u001b[0mself\u001b[0m\u001b[0;34m)\u001b[0m\u001b[0;34m:\u001b[0m\u001b[0;34m\u001b[0m\u001b[0;34m\u001b[0m\u001b[0m\n",
            "\u001b[0;32m/usr/local/lib/python3.12/dist-packages/matplotlib/backends/backend_agg.py\u001b[0m in \u001b[0;36m_print_pil\u001b[0;34m(self, filename_or_obj, fmt, pil_kwargs, metadata)\u001b[0m\n\u001b[1;32m    428\u001b[0m         \"\"\"\n\u001b[1;32m    429\u001b[0m         \u001b[0mFigureCanvasAgg\u001b[0m\u001b[0;34m.\u001b[0m\u001b[0mdraw\u001b[0m\u001b[0;34m(\u001b[0m\u001b[0mself\u001b[0m\u001b[0;34m)\u001b[0m\u001b[0;34m\u001b[0m\u001b[0;34m\u001b[0m\u001b[0m\n\u001b[0;32m--> 430\u001b[0;31m         mpl.image.imsave(\n\u001b[0m\u001b[1;32m    431\u001b[0m             \u001b[0mfilename_or_obj\u001b[0m\u001b[0;34m,\u001b[0m \u001b[0mself\u001b[0m\u001b[0;34m.\u001b[0m\u001b[0mbuffer_rgba\u001b[0m\u001b[0;34m(\u001b[0m\u001b[0;34m)\u001b[0m\u001b[0;34m,\u001b[0m \u001b[0mformat\u001b[0m\u001b[0;34m=\u001b[0m\u001b[0mfmt\u001b[0m\u001b[0;34m,\u001b[0m \u001b[0morigin\u001b[0m\u001b[0;34m=\u001b[0m\u001b[0;34m\"upper\"\u001b[0m\u001b[0;34m,\u001b[0m\u001b[0;34m\u001b[0m\u001b[0;34m\u001b[0m\u001b[0m\n\u001b[1;32m    432\u001b[0m             dpi=self.figure.dpi, metadata=metadata, pil_kwargs=pil_kwargs)\n",
            "\u001b[0;32m/usr/local/lib/python3.12/dist-packages/matplotlib/image.py\u001b[0m in \u001b[0;36mimsave\u001b[0;34m(fname, arr, vmin, vmax, cmap, format, origin, dpi, metadata, pil_kwargs)\u001b[0m\n\u001b[1;32m   1632\u001b[0m         \u001b[0mpil_kwargs\u001b[0m\u001b[0;34m.\u001b[0m\u001b[0msetdefault\u001b[0m\u001b[0;34m(\u001b[0m\u001b[0;34m\"format\"\u001b[0m\u001b[0;34m,\u001b[0m \u001b[0mformat\u001b[0m\u001b[0;34m)\u001b[0m\u001b[0;34m\u001b[0m\u001b[0;34m\u001b[0m\u001b[0m\n\u001b[1;32m   1633\u001b[0m         \u001b[0mpil_kwargs\u001b[0m\u001b[0;34m.\u001b[0m\u001b[0msetdefault\u001b[0m\u001b[0;34m(\u001b[0m\u001b[0;34m\"dpi\"\u001b[0m\u001b[0;34m,\u001b[0m \u001b[0;34m(\u001b[0m\u001b[0mdpi\u001b[0m\u001b[0;34m,\u001b[0m \u001b[0mdpi\u001b[0m\u001b[0;34m)\u001b[0m\u001b[0;34m)\u001b[0m\u001b[0;34m\u001b[0m\u001b[0;34m\u001b[0m\u001b[0m\n\u001b[0;32m-> 1634\u001b[0;31m         \u001b[0mimage\u001b[0m\u001b[0;34m.\u001b[0m\u001b[0msave\u001b[0m\u001b[0;34m(\u001b[0m\u001b[0mfname\u001b[0m\u001b[0;34m,\u001b[0m \u001b[0;34m**\u001b[0m\u001b[0mpil_kwargs\u001b[0m\u001b[0;34m)\u001b[0m\u001b[0;34m\u001b[0m\u001b[0;34m\u001b[0m\u001b[0m\n\u001b[0m\u001b[1;32m   1635\u001b[0m \u001b[0;34m\u001b[0m\u001b[0m\n\u001b[1;32m   1636\u001b[0m \u001b[0;34m\u001b[0m\u001b[0m\n",
            "\u001b[0;32m/usr/local/lib/python3.12/dist-packages/PIL/Image.py\u001b[0m in \u001b[0;36msave\u001b[0;34m(self, fp, format, **params)\u001b[0m\n\u001b[1;32m   2581\u001b[0m                 \u001b[0mfp\u001b[0m \u001b[0;34m=\u001b[0m \u001b[0mbuiltins\u001b[0m\u001b[0;34m.\u001b[0m\u001b[0mopen\u001b[0m\u001b[0;34m(\u001b[0m\u001b[0mfilename\u001b[0m\u001b[0;34m,\u001b[0m \u001b[0;34m\"r+b\"\u001b[0m\u001b[0;34m)\u001b[0m\u001b[0;34m\u001b[0m\u001b[0;34m\u001b[0m\u001b[0m\n\u001b[1;32m   2582\u001b[0m             \u001b[0;32melse\u001b[0m\u001b[0;34m:\u001b[0m\u001b[0;34m\u001b[0m\u001b[0;34m\u001b[0m\u001b[0m\n\u001b[0;32m-> 2583\u001b[0;31m                 \u001b[0mfp\u001b[0m \u001b[0;34m=\u001b[0m \u001b[0mbuiltins\u001b[0m\u001b[0;34m.\u001b[0m\u001b[0mopen\u001b[0m\u001b[0;34m(\u001b[0m\u001b[0mfilename\u001b[0m\u001b[0;34m,\u001b[0m \u001b[0;34m\"w+b\"\u001b[0m\u001b[0;34m)\u001b[0m\u001b[0;34m\u001b[0m\u001b[0;34m\u001b[0m\u001b[0m\n\u001b[0m\u001b[1;32m   2584\u001b[0m         \u001b[0;32melse\u001b[0m\u001b[0;34m:\u001b[0m\u001b[0;34m\u001b[0m\u001b[0;34m\u001b[0m\u001b[0m\n\u001b[1;32m   2585\u001b[0m             \u001b[0mfp\u001b[0m \u001b[0;34m=\u001b[0m \u001b[0mcast\u001b[0m\u001b[0;34m(\u001b[0m\u001b[0mIO\u001b[0m\u001b[0;34m[\u001b[0m\u001b[0mbytes\u001b[0m\u001b[0;34m]\u001b[0m\u001b[0;34m,\u001b[0m \u001b[0mfp\u001b[0m\u001b[0;34m)\u001b[0m\u001b[0;34m\u001b[0m\u001b[0;34m\u001b[0m\u001b[0m\n",
            "\u001b[0;31mFileNotFoundError\u001b[0m: [Errno 2] No such file or directory: '../image/covid_impact_timeline.png'"
          ]
        },
        {
          "output_type": "display_data",
          "data": {
            "text/plain": [
              "<Figure size 1600x1400 with 3 Axes>"
            ],
            "image/png": "[encoded data removed]"
          },
          "metadata": {}
        }
      ],
      "id": "5T7r2mdHtr9I"
    },
    {
      "cell_type": "markdown",
      "source": [
        "## 2.2 Xử lý các giá trị để tạp tín hiệu bất thường"
      ],
      "metadata": {
        "id": "xfgc5xhNcwNg"
      },
      "id": "xfgc5xhNcwNg"
    },
    {
      "cell_type": "code",
      "source": [
        "# ============================================================\n",
        "# CELL 11A: XỬ LÝ DỮ LIỆU ĐẦU VÀO - CRISIS DETECTION\n",
        "# ============================================================\n",
        "# Mục đích: Aggregate data theo quarter và tạo features\n",
        "\n",
        "print(\"=\" * 70)\n",
        "print(\"XỬ LÝ DỮ LIỆU ĐẦU VÀO CHO CRISIS DETECTION\")\n",
        "print(\"=\" * 70)\n",
        "\n",
        "from pyspark.sql.functions import *\n",
        "from pyspark.sql import Window\n",
        "\n",
        "# Bước 1: Aggregate data theo Year-Quarter\n",
        "print(\"\\n1. AGGREGATE DATA THEO YEAR-QUARTER...\")\n",
        "\n",
        "df_quarterly = df.groupBy('Year', 'quarter').agg(\n",
        "    # Volume metrics\n",
        "    count('*').alias('num_routes'),\n",
        "    sum('passengers').alias('total_passengers'),\n",
        "    avg('passengers').alias('avg_passengers_per_route'),\n",
        "\n",
        "    # Price metrics\n",
        "    avg('fare').alias('avg_fare'),\n",
        "    stddev('fare').alias('fare_std'),\n",
        "    min('fare').alias('fare_min'),\n",
        "    max('fare').alias('fare_max'),\n",
        "\n",
        "    # Distance metrics\n",
        "    avg('nsmiles').alias('avg_distance'),\n",
        "    stddev('nsmiles').alias('distance_std'),\n",
        "\n",
        "    # Competition metrics\n",
        "    countDistinct('carrier_lg').alias('num_carriers'),\n",
        "    avg('large_ms').alias('avg_market_share_large'),\n",
        "    avg('lf_ms').alias('avg_market_share_lowcost')\n",
        ").orderBy('Year', 'quarter')\n",
        "\n",
        "# Tạo time_period identifier\n",
        "df_quarterly = df_quarterly.withColumn('time_period',\n",
        "    concat(col('Year').cast('string'), lit('-Q'), col('quarter').cast('string'))\n",
        ")\n",
        "\n",
        "print(f\"  ✓ Aggregated to {df_quarterly.count()} quarters\")\n",
        "\n",
        "# Hiển thị sample\n",
        "print(\"\\n  Sample data:\")\n",
        "df_quarterly.select('time_period', 'num_routes', 'total_passengers', 'avg_fare').show(10)\n",
        "\n",
        "# Bước 2: Tạo labels (COVID = crisis)\n",
        "print(\"\\n2. TẠO LABELS (COVID = CRISIS)...\")\n",
        "\n",
        "df_quarterly = df_quarterly.withColumn('is_crisis',\n",
        "    when((col('Year') >= 2020) & (col('Year') <= 2021), 1.0)\n",
        "    .otherwise(0.0)\n",
        ")\n",
        "\n",
        "# Kiểm tra phân bố labels\n",
        "label_distribution = df_quarterly.groupBy('is_crisis').count()\n",
        "print(\"\\n  Phân bố labels:\")\n",
        "label_distribution.show()\n",
        "\n",
        "# Bước 3: Feature Engineering - Rate of Change\n",
        "print(\"\\n3. FEATURE ENGINEERING - RATE OF CHANGE...\")\n",
        "\n",
        "# Window specs\n",
        "window_qoq = Window.orderBy('Year', 'quarter')\n",
        "window_yoy = Window.orderBy('Year', 'quarter').rowsBetween(-4, -4)\n",
        "\n",
        "# QoQ (Quarter-over-Quarter) changes\n",
        "change_cols = ['num_routes', 'total_passengers', 'avg_fare', 'avg_distance']\n",
        "\n",
        "for col_name in change_cols:\n",
        "    # Lấy giá trị quarter trước\n",
        "    df_quarterly = df_quarterly.withColumn(\n",
        "        f'{col_name}_prev_q',\n",
        "        lag(col(col_name), 1).over(window_qoq)\n",
        "    )\n",
        "\n",
        "    # Tính % change\n",
        "    df_quarterly = df_quarterly.withColumn(\n",
        "        f'{col_name}_change_qoq',\n",
        "        when(col(f'{col_name}_prev_q').isNotNull() & (col(f'{col_name}_prev_q') != 0),\n",
        "             (col(col_name) - col(f'{col_name}_prev_q')) / col(f'{col_name}_prev_q'))\n",
        "        .otherwise(0.0)\n",
        "    )\n",
        "\n",
        "    # Drop temp column\n",
        "    df_quarterly = df_quarterly.drop(f'{col_name}_prev_q')\n",
        "\n",
        "print(\"  ✓ QoQ changes calculated\")\n",
        "\n",
        "# YoY (Year-over-Year) changes\n",
        "yoy_cols = ['num_routes', 'total_passengers', 'avg_fare']\n",
        "\n",
        "for col_name in yoy_cols:\n",
        "    df_quarterly = df_quarterly.withColumn(\n",
        "        f'{col_name}_prev_year',\n",
        "        lag(col(col_name), 4).over(window_qoq)\n",
        "    )\n",
        "\n",
        "    df_quarterly = df_quarterly.withColumn(\n",
        "        f'{col_name}_change_yoy',\n",
        "        when(col(f'{col_name}_prev_year').isNotNull() & (col(f'{col_name}_prev_year') != 0),\n",
        "             (col(col_name) - col(f'{col_name}_prev_year')) / col(f'{col_name}_prev_year'))\n",
        "        .otherwise(0.0)\n",
        "    )\n",
        "\n",
        "    df_quarterly = df_quarterly.drop(f'{col_name}_prev_year')\n",
        "\n",
        "print(\"  ✓ YoY changes calculated\")\n",
        "\n",
        "# Bước 4: Derived features\n",
        "print(\"\\n4. CREATING DERIVED FEATURES...\")\n",
        "\n",
        "# Volatility metrics\n",
        "df_quarterly = df_quarterly.withColumn('fare_volatility',\n",
        "    when(col('avg_fare') != 0, col('fare_std') / col('avg_fare')).otherwise(0.0)\n",
        ")\n",
        "\n",
        "df_quarterly = df_quarterly.withColumn('distance_volatility',\n",
        "    when(col('avg_distance') != 0, col('distance_std') / col('avg_distance')).otherwise(0.0)\n",
        ")\n",
        "\n",
        "# Range metrics\n",
        "df_quarterly = df_quarterly.withColumn('fare_range',\n",
        "    col('fare_max') - col('fare_min')\n",
        ")\n",
        "\n",
        "# Passenger efficiency\n",
        "df_quarterly = df_quarterly.withColumn('passenger_efficiency',\n",
        "    when(col('num_routes') != 0, col('total_passengers') / col('num_routes')).otherwise(0.0)\n",
        ")\n",
        "\n",
        "print(\"  ✓ Derived features created\")\n",
        "\n",
        "# Bước 5: Handle missing values\n",
        "print(\"\\n5. HANDLING MISSING VALUES...\")\n",
        "\n",
        "# Fill NaN với 0 (từ lag functions cho first rows)\n",
        "df_quarterly = df_quarterly.fillna(0.0)\n",
        "\n",
        "missing_check = df_quarterly.select([count(when(col(c).isNull(), c)).alias(c)\n",
        "                                      for c in df_quarterly.columns])\n",
        "print(\"\\n  Missing values check:\")\n",
        "missing_check.show()\n",
        "\n",
        "# Bước 6: Select final features\n",
        "print(\"\\n6. SELECTING FEATURES FOR MODEL...\")\n",
        "\n",
        "feature_cols_final = [\n",
        "    # Core volume metrics (3)\n",
        "    'num_routes',\n",
        "    'total_passengers',\n",
        "    'avg_passengers_per_route',\n",
        "\n",
        "    # Core price metrics (2)\n",
        "    'avg_fare',\n",
        "    'avg_distance',\n",
        "\n",
        "    # Volatility metrics (2)\n",
        "    'fare_volatility',\n",
        "    'fare_range',\n",
        "\n",
        "    # QoQ changes - IMPORTANT! (4)\n",
        "    'num_routes_change_qoq',\n",
        "    'total_passengers_change_qoq',\n",
        "    'avg_fare_change_qoq',\n",
        "    'avg_distance_change_qoq',\n",
        "\n",
        "    # YoY changes (3)\n",
        "    'num_routes_change_yoy',\n",
        "    'total_passengers_change_yoy',\n",
        "    'avg_fare_change_yoy',\n",
        "\n",
        "    # Competition (2)\n",
        "    'num_carriers',\n",
        "    'avg_market_share_large',\n",
        "\n",
        "    # Seasonal (1)\n",
        "    'quarter',\n",
        "]\n",
        "\n",
        "print(f\"\\n  Tổng số features: {len(feature_cols_final)}\")\n",
        "print(f\"\\n  Danh sách features:\")\n",
        "for i, feat in enumerate(feature_cols_final, 1):\n",
        "    print(f\"    {i:2}. {feat}\")\n",
        "\n",
        "# Hiển thị final dataset\n",
        "print(\"\\n7. FINAL DATASET:\")\n",
        "df_quarterly.select(['time_period', 'Year', 'quarter', 'is_crisis'] +\n",
        "                    feature_cols_final[:5]).show(15)\n",
        "\n",
        "print(f\"\\n✓ Data preparation completed!\")\n",
        "print(f\"  Total quarters: {df_quarterly.count()}\")\n",
        "print(f\"  Total features: {len(feature_cols_final)}\")\n",
        "print(f\"  Target: is_crisis (0 = Normal, 1 = COVID)\")"
      ],
      "metadata": {
        "colab": {
          "base_uri": "https://localhost:8080/"
        },
        "id": "MBzBqDn51N5l",
        "outputId": "2cbcb452-b1f9-4ff6-c201-fba7c01c7061"
      },
      "execution_count": null,
      "outputs": [
        {
          "output_type": "stream",
          "name": "stdout",
          "text": [
            "======================================================================\n",
            "XỬ LÝ DỮ LIỆU ĐẦU VÀO CHO CRISIS DETECTION\n",
            "======================================================================\n",
            "\n",
            "1. AGGREGATE DATA THEO YEAR-QUARTER...\n",
            "  ✓ Aggregated to 118 quarters\n",
            "\n",
            "  Sample data:\n",
            "+-----------+----------+----------------+------------------+\n",
            "|time_period|num_routes|total_passengers|          avg_fare|\n",
            "+-----------+----------+----------------+------------------+\n",
            "|    1993-Q1|      2395|          345741|236.60088935281794|\n",
            "|    1993-Q2|      2459|          403857|209.41590483936557|\n",
            "|    1993-Q3|      2448|          393045| 198.8709232026143|\n",
            "|    1993-Q4|      2437|          395495|213.50024620434954|\n",
            "|    1994-Q1|      2454|          397667| 217.6119437652813|\n",
            "|    1996-Q1|      2270|          455842|210.39099118942724|\n",
            "|    1996-Q2|      2317|          528950| 202.4628614587828|\n",
            "|    1996-Q3|      2266|          513137|201.06954545454542|\n",
            "|    1996-Q4|      2228|          504663|205.73692998204706|\n",
            "|    1997-Q1|      2243|          498839|211.33452073116342|\n",
            "+-----------+----------+----------------+------------------+\n",
            "only showing top 10 rows\n",
            "\n",
            "\n",
            "2. TẠO LABELS (COVID = CRISIS)...\n",
            "\n",
            "  Phân bố labels:\n",
            "+---------+-----+\n",
            "|is_crisis|count|\n",
            "+---------+-----+\n",
            "|      0.0|  110|\n",
            "|      1.0|    8|\n",
            "+---------+-----+\n",
            "\n",
            "\n",
            "3. FEATURE ENGINEERING - RATE OF CHANGE...\n",
            "  ✓ QoQ changes calculated\n",
            "  ✓ YoY changes calculated\n",
            "\n",
            "4. CREATING DERIVED FEATURES...\n",
            "  ✓ Derived features created\n",
            "\n",
            "5. HANDLING MISSING VALUES...\n",
            "\n",
            "  Missing values check:\n",
            "+----+-------+----------+----------------+------------------------+--------+--------+--------+--------+------------+------------+------------+----------------------+------------------------+-----------+---------+---------------------+---------------------------+-------------------+-----------------------+---------------------+---------------------------+-------------------+---------------+-------------------+----------+--------------------+\n",
            "|Year|quarter|num_routes|total_passengers|avg_passengers_per_route|avg_fare|fare_std|fare_min|fare_max|avg_distance|distance_std|num_carriers|avg_market_share_large|avg_market_share_lowcost|time_period|is_crisis|num_routes_change_qoq|total_passengers_change_qoq|avg_fare_change_qoq|avg_distance_change_qoq|num_routes_change_yoy|total_passengers_change_yoy|avg_fare_change_yoy|fare_volatility|distance_volatility|fare_range|passenger_efficiency|\n",
            "+----+-------+----------+----------------+------------------------+--------+--------+--------+--------+------------+------------+------------+----------------------+------------------------+-----------+---------+---------------------+---------------------------+-------------------+-----------------------+---------------------+---------------------------+-------------------+---------------+-------------------+----------+--------------------+\n",
            "|   0|      0|         0|               0|                       0|       0|       0|       0|       0|           0|           0|           0|                     0|                       0|          0|        0|                    0|                          0|                  0|                      0|                    0|                          0|                  0|              0|                  0|         0|                   0|\n",
            "+----+-------+----------+----------------+------------------------+--------+--------+--------+--------+------------+------------+------------+----------------------+------------------------+-----------+---------+---------------------+---------------------------+-------------------+-----------------------+---------------------+---------------------------+-------------------+---------------+-------------------+----------+--------------------+\n",
            "\n",
            "\n",
            "6. SELECTING FEATURES FOR MODEL...\n",
            "\n",
            "  Tổng số features: 17\n",
            "\n",
            "  Danh sách features:\n",
            "     1. num_routes\n",
            "     2. total_passengers\n",
            "     3. avg_passengers_per_route\n",
            "     4. avg_fare\n",
            "     5. avg_distance\n",
            "     6. fare_volatility\n",
            "     7. fare_range\n",
            "     8. num_routes_change_qoq\n",
            "     9. total_passengers_change_qoq\n",
            "    10. avg_fare_change_qoq\n",
            "    11. avg_distance_change_qoq\n",
            "    12. num_routes_change_yoy\n",
            "    13. total_passengers_change_yoy\n",
            "    14. avg_fare_change_yoy\n",
            "    15. num_carriers\n",
            "    16. avg_market_share_large\n",
            "    17. quarter\n",
            "\n",
            "7. FINAL DATASET:\n",
            "+-----------+----+-------+---------+----------+----------------+------------------------+------------------+------------------+\n",
            "|time_period|Year|quarter|is_crisis|num_routes|total_passengers|avg_passengers_per_route|          avg_fare|      avg_distance|\n",
            "+-----------+----+-------+---------+----------+----------------+------------------------+------------------+------------------+\n",
            "|    1993-Q1|1993|      1|      0.0|      2395|          345741|      144.35949895615866|236.60088935281794|1164.6638830897703|\n",
            "|    1993-Q2|1993|      2|      0.0|      2459|          403857|      164.23627490849938|209.41590483936557|1151.0166734444897|\n",
            "|    1993-Q3|1993|      3|      0.0|      2448|          393045|       160.5575980392157| 198.8709232026143|1158.4959150326797|\n",
            "|    1993-Q4|1993|      4|      0.0|      2437|          395495|      162.28764874846124|213.50024620434954|  1149.05047189167|\n",
            "|    1994-Q1|1994|      1|      0.0|      2454|          397667|      162.04849225753873| 217.6119437652813|1144.8528932355339|\n",
            "|    1996-Q1|1996|      1|      0.0|      2270|          455842|       200.8114537444934|210.39099118942724|1160.5647577092511|\n",
            "|    1996-Q2|1996|      2|      0.0|      2317|          528950|      228.29089339663358| 202.4628614587828| 1152.451014242555|\n",
            "|    1996-Q3|1996|      3|      0.0|      2266|          513137|       226.4505736981465|201.06954545454542| 1175.774051191527|\n",
            "|    1996-Q4|1996|      4|      0.0|      2228|          504663|      226.50942549371635|205.73692998204706|1160.6243267504487|\n",
            "|    1997-Q1|1997|      1|      0.0|      2243|          498839|      222.39812750780206|211.33452073116342| 1163.709763709318|\n",
            "|    1997-Q2|1997|      2|      0.0|      2229|          558781|       250.6868550919695| 207.3102467474207| 1168.926424405563|\n",
            "|    1997-Q3|1997|      3|      0.0|      2252|          543861|      241.50133214920072|203.95285079928937|1167.8889875666075|\n",
            "|    1997-Q4|1997|      4|      0.0|      2225|          541227|      243.24808988764045|209.85151910112356|1151.2440449438202|\n",
            "|    1998-Q1|1998|      1|      0.0|      2091|          490013|      234.34385461501674|222.97164514586302|1156.8641798182687|\n",
            "|    1998-Q2|1998|      2|      0.0|      2180|          576258|      264.33853211009176|212.16647247706413|1177.0403669724772|\n",
            "+-----------+----+-------+---------+----------+----------------+------------------------+------------------+------------------+\n",
            "only showing top 15 rows\n",
            "\n",
            "\n",
            "✓ Data preparation completed!\n",
            "  Total quarters: 118\n",
            "  Total features: 17\n",
            "  Target: is_crisis (0 = Normal, 1 = COVID)\n"
          ]
        }
      ],
      "id": "MBzBqDn51N5l"
    },
    {
      "cell_type": "markdown",
      "source": [
        "## 2.3 Công việc tiếp theo"
      ],
      "metadata": {
        "id": "bggiv9SOc7a1"
      },
      "id": "bggiv9SOc7a1"
    },
    {
      "cell_type": "markdown",
      "source": [
        "Huấn luyện mô hình để dự đoán bất thường, cảnh báo thảm họa hàng không"
      ],
      "metadata": {
        "id": "qPhIIMZkdBhp"
      },
      "id": "qPhIIMZkdBhp"
    },
    {
      "cell_type": "markdown",
      "source": [
        "# 3 Airline market share prediction model"
      ],
      "metadata": {
        "id": "AYfhZv95CK6v"
      },
      "id": "AYfhZv95CK6v"
    },
    {
      "cell_type": "code",
      "execution_count": null,
      "id": "4d8e7195",
      "metadata": {
        "id": "4d8e7195"
      },
      "outputs": [],
      "source": [
        "feature_cols = numeric_features + [col+\"_indexed\" for col in categorical_features]\n",
        "feature_cols.append('is_largest_cheapest')"
      ]
    },
    {
      "cell_type": "code",
      "execution_count": null,
      "id": "41eca034",
      "metadata": {
        "id": "41eca034"
      },
      "outputs": [],
      "source": [
        "assembler = VectorAssembler(\n",
        "    inputCols=feature_cols,\n",
        "    outputCol=\"features_raw\"\n",
        ")"
      ]
    },
    {
      "cell_type": "code",
      "execution_count": null,
      "id": "83389462",
      "metadata": {
        "id": "83389462"
      },
      "outputs": [],
      "source": [
        "scaler = StandardScaler(\n",
        "    inputCol=\"features_raw\",\n",
        "    outputCol=\"features\",\n",
        "    withStd=True,\n",
        "    withMean=True\n",
        ")"
      ]
    },
    {
      "cell_type": "code",
      "execution_count": null,
      "id": "4ca37332",
      "metadata": {
        "id": "4ca37332",
        "outputId": "8f13a5a2-b3e7-48a8-bd4e-11bd3b8ada3c"
      },
      "outputs": [
        {
          "name": "stdout",
          "output_type": "stream",
          "text": [
            "\n",
            "=== CHIA DỮ LIỆU ===\n",
            "Số dòng train: 190123\n",
            "Số dòng test: 47862\n"
          ]
        }
      ],
      "source": [
        "train_data, test_data = df_features.randomSplit([0.8, 0.2], seed=42)\n",
        "\n",
        "print(f\"\\n=== CHIA DỮ LIỆU ===\")\n",
        "print(f\"Số dòng train: {train_data.count()}\")\n",
        "print(f\"Số dòng test: {test_data.count()}\")"
      ]
    },
    {
      "cell_type": "code",
      "execution_count": null,
      "id": "71f950d1",
      "metadata": {
        "id": "71f950d1"
      },
      "outputs": [],
      "source": [
        "lr = LinearRegression(\n",
        "    featuresCol=\"features\",\n",
        "    labelCol=\"large_ms\",\n",
        "    maxIter=100,\n",
        "    regParam=0.1,\n",
        "    elasticNetParam=0.5\n",
        ")"
      ]
    },
    {
      "cell_type": "code",
      "execution_count": null,
      "id": "5e867cb4",
      "metadata": {
        "id": "5e867cb4"
      },
      "outputs": [],
      "source": [
        "pipeline_lr = Pipeline(stages=indexers + [assembler, scaler, lr])\n",
        "model_lr = pipeline_lr.fit(train_data)\n",
        "predictions_lr = model_lr.transform(test_data)"
      ]
    },
    {
      "cell_type": "code",
      "execution_count": null,
      "id": "f5d07a29",
      "metadata": {
        "id": "f5d07a29"
      },
      "outputs": [],
      "source": [
        "rf = RandomForestRegressor(\n",
        "    featuresCol=\"features\",\n",
        "    labelCol=\"large_ms\",\n",
        "    numTrees=100,\n",
        "    maxDepth=10,\n",
        "    seed=42\n",
        ")"
      ]
    },
    {
      "cell_type": "code",
      "execution_count": null,
      "id": "4248db11",
      "metadata": {
        "id": "4248db11"
      },
      "outputs": [],
      "source": [
        "pipeline_rf = Pipeline(stages=indexers + [assembler, scaler, rf])\n",
        "model_rf = pipeline_rf.fit(train_data)\n",
        "predictions_rf = model_rf.transform(test_data)"
      ]
    },
    {
      "cell_type": "code",
      "execution_count": null,
      "id": "79340dd3",
      "metadata": {
        "id": "79340dd3"
      },
      "outputs": [],
      "source": [
        "gbt = GBTRegressor(\n",
        "    featuresCol=\"features\",\n",
        "    labelCol=\"large_ms\",\n",
        "    maxIter=100,\n",
        "    maxDepth=5,\n",
        "    seed=42\n",
        ")"
      ]
    },
    {
      "cell_type": "code",
      "execution_count": null,
      "id": "7fd40436",
      "metadata": {
        "id": "7fd40436"
      },
      "outputs": [],
      "source": [
        "\n",
        "pipeline_gbt = Pipeline(stages=indexers + [assembler, scaler, gbt])\n",
        "model_gbt = pipeline_gbt.fit(train_data)\n",
        "predictions_gbt = model_gbt.transform(test_data)"
      ]
    },
    {
      "cell_type": "code",
      "execution_count": null,
      "id": "80c3af7c",
      "metadata": {
        "id": "80c3af7c"
      },
      "outputs": [],
      "source": [
        "evaluator_rmse = RegressionEvaluator(\n",
        "    labelCol=\"large_ms\",\n",
        "    predictionCol=\"prediction\",\n",
        "    metricName=\"rmse\"\n",
        ")\n",
        "\n",
        "evaluator_r2 = RegressionEvaluator(\n",
        "    labelCol=\"large_ms\",\n",
        "    predictionCol=\"prediction\",\n",
        "    metricName=\"r2\"\n",
        ")\n",
        "\n",
        "evaluator_mae = RegressionEvaluator(\n",
        "    labelCol=\"large_ms\",\n",
        "    predictionCol=\"prediction\",\n",
        "    metricName=\"mae\"\n",
        ")"
      ]
    },
    {
      "cell_type": "code",
      "execution_count": null,
      "id": "8718aeaf",
      "metadata": {
        "id": "8718aeaf",
        "outputId": "946c3620-6a37-4e5b-c276-b612d47a5e9b"
      },
      "outputs": [
        {
          "name": "stdout",
          "output_type": "stream",
          "text": [
            "\n",
            "Linear Regression:\n",
            "  RMSE: 0.1943\n",
            "  R2: 0.2376\n",
            "  MAE: 0.1699\n",
            "\n",
            "Random Forest:\n",
            "  RMSE: 0.0840\n",
            "  R2: 0.8573\n",
            "  MAE: 0.0554\n",
            "\n",
            "Gradient Boosted Trees:\n",
            "  RMSE: 0.0765\n",
            "  R2: 0.8818\n",
            "  MAE: 0.0481\n"
          ]
        }
      ],
      "source": [
        "print(\"\\nLinear Regression:\")\n",
        "print(f\"  RMSE: {evaluator_rmse.evaluate(predictions_lr):.4f}\")\n",
        "print(f\"  R2: {evaluator_r2.evaluate(predictions_lr):.4f}\")\n",
        "print(f\"  MAE: {evaluator_mae.evaluate(predictions_lr):.4f}\")\n",
        "\n",
        "print(\"\\nRandom Forest:\")\n",
        "print(f\"  RMSE: {evaluator_rmse.evaluate(predictions_rf):.4f}\")\n",
        "print(f\"  R2: {evaluator_r2.evaluate(predictions_rf):.4f}\")\n",
        "print(f\"  MAE: {evaluator_mae.evaluate(predictions_rf):.4f}\")\n",
        "\n",
        "print(\"\\nGradient Boosted Trees:\")\n",
        "print(f\"  RMSE: {evaluator_rmse.evaluate(predictions_gbt):.4f}\")\n",
        "print(f\"  R2: {evaluator_r2.evaluate(predictions_gbt):.4f}\")\n",
        "print(f\"  MAE: {evaluator_mae.evaluate(predictions_gbt):.4f}\")"
      ]
    },
    {
      "cell_type": "code",
      "execution_count": null,
      "id": "480a267b",
      "metadata": {
        "id": "480a267b",
        "outputId": "354a7a80-d1e3-47c8-9073-b811fb4dab88"
      },
      "outputs": [
        {
          "name": "stdout",
          "output_type": "stream",
          "text": [
            "+-------------------+--------------------+\n",
            "|            feature|          importance|\n",
            "+-------------------+--------------------+\n",
            "|              lf_ms|  0.6691844630064311|\n",
            "|    fare_difference| 0.13569947965126553|\n",
            "|            nsmiles| 0.06421050930453445|\n",
            "|      fare_per_mile| 0.03515753599119153|\n",
            "|is_largest_cheapest|0.034181782479342816|\n",
            "|            revenue| 0.01794006182416434|\n",
            "|         passengers|0.016684549979397834|\n",
            "| carrier_lg_indexed|0.010819914920363834|\n",
            "|               Year|0.006604698071603944|\n",
            "|carrier_low_indexed|0.004857337121019847|\n",
            "|               fare|0.002854490995978...|\n",
            "|           fare_low|0.001720933992446...|\n",
            "|            quarter|8.424266225933034E-5|\n",
            "+-------------------+--------------------+\n",
            "\n"
          ]
        }
      ],
      "source": [
        "rf_model = model_rf.stages[-1]\n",
        "feature_importance = rf_model.featureImportances.toArray()\n",
        "\n",
        "feature_names = feature_cols\n",
        "importance_df = spark.createDataFrame(\n",
        "    [(name, float(imp)) for name, imp in zip(feature_names, feature_importance)],\n",
        "    ['feature', 'importance']\n",
        ").orderBy(col('importance').desc())\n",
        "\n",
        "importance_df.show(20)"
      ]
    },
    {
      "cell_type": "code",
      "execution_count": null,
      "id": "73cb55b1",
      "metadata": {
        "id": "73cb55b1",
        "outputId": "d26d0e13-e5bc-486e-9ca6-da298897b6d3"
      },
      "outputs": [
        {
          "name": "stdout",
          "output_type": "stream",
          "text": [
            "+--------+------------------+----------+------+-------+----------+\n",
            "|large_ms|        prediction|passengers|  fare|nsmiles|carrier_lg|\n",
            "+--------+------------------+----------+------+-------+----------+\n",
            "|    0.85|0.8534900135796164|       133|275.63|    654|        UA|\n",
            "|    0.37|0.5309484391287608|         4|267.08|   1974|        US|\n",
            "|    0.26|0.4312600977159158|        68|258.75|   1670|        DL|\n",
            "|    0.83|0.8495292097959413|        57|139.36|   1123|        WN|\n",
            "|    0.66| 0.646960262991727|         4|223.75|   1861|        NW|\n",
            "|     0.8|0.7667079022924445|         7| 326.4|   1861|        DL|\n",
            "|    0.94|0.9354262355257376|       888| 86.67|    677|        WN|\n",
            "|    0.53|0.4827445549495522|        23|289.51|   1504|        UA|\n",
            "|     0.5|0.4973493884381909|        26|222.54|    963|        UA|\n",
            "|    0.44|0.5055744906018458|        71|204.62|    963|        UA|\n",
            "+--------+------------------+----------+------+-------+----------+\n",
            "only showing top 10 rows\n",
            "\n"
          ]
        }
      ],
      "source": [
        "predictions_rf.select(\n",
        "    'large_ms', 'prediction',\n",
        "    'passengers', 'fare', 'nsmiles', 'carrier_lg'\n",
        ").show(10)"
      ]
    },
    {
      "cell_type": "code",
      "execution_count": null,
      "id": "353b6692",
      "metadata": {
        "id": "353b6692"
      },
      "outputs": [],
      "source": [
        "lr = LinearRegression(featuresCol=\"features\", labelCol=\"large_ms\", maxIter=100)"
      ]
    },
    {
      "cell_type": "code",
      "execution_count": null,
      "id": "b917b667",
      "metadata": {
        "id": "b917b667"
      },
      "outputs": [],
      "source": [
        "paramGrid_lr = ParamGridBuilder() \\\n",
        "    .addGrid(lr.regParam, [0.0, 0.01, 0.1, 0.5, 1.0]) \\\n",
        "    .addGrid(lr.elasticNetParam, [0.0, 0.25, 0.5, 0.75, 1.0]) \\\n",
        "    .addGrid(lr.maxIter, [50, 100, 200]) \\\n",
        "    .build()"
      ]
    },
    {
      "cell_type": "code",
      "execution_count": null,
      "id": "9d1265fd",
      "metadata": {
        "id": "9d1265fd"
      },
      "outputs": [],
      "source": [
        "# Cross-validator\n",
        "cv_lr = CrossValidator(\n",
        "    estimator=Pipeline(stages=indexers + [assembler, scaler, lr]),\n",
        "    estimatorParamMaps=paramGrid_lr,\n",
        "    evaluator=evaluator_rmse,\n",
        "    numFolds=3,  # 3-fold cross-validation\n",
        "    parallelism=2,\n",
        "    seed=42\n",
        ")"
      ]
    },
    {
      "cell_type": "code",
      "execution_count": null,
      "id": "785b7fbd",
      "metadata": {
        "id": "785b7fbd"
      },
      "outputs": [],
      "source": [
        "cv_model_lr = cv_lr.fit(train_data)"
      ]
    },
    {
      "cell_type": "code",
      "execution_count": null,
      "id": "78110811",
      "metadata": {
        "id": "78110811",
        "outputId": "bf89f644-a609-485a-b2a2-2eb94becacb1"
      },
      "outputs": [
        {
          "name": "stdout",
          "output_type": "stream",
          "text": [
            "Best parameters cho Linear Regression:\n",
            "  regParam: 0.0\n",
            "  elasticNetParam: 0.0\n",
            "  maxIter: 50\n",
            "\n"
          ]
        }
      ],
      "source": [
        "best_lr_model = cv_model_lr.bestModel.stages[-1]\n",
        "print(\"Best parameters cho Linear Regression:\")\n",
        "print(f\"  regParam: {best_lr_model.getRegParam()}\")\n",
        "print(f\"  elasticNetParam: {best_lr_model.getElasticNetParam()}\")\n",
        "print(f\"  maxIter: {best_lr_model.getMaxIter()}\\n\")"
      ]
    },
    {
      "cell_type": "code",
      "execution_count": null,
      "id": "92c4947d",
      "metadata": {
        "id": "92c4947d",
        "outputId": "d30056c1-3342-40c6-edcf-8344f3e90402"
      },
      "outputs": [
        {
          "name": "stdout",
          "output_type": "stream",
          "text": [
            "Kết quả trên Test Set:\n",
            "  RMSE: 0.1721\n",
            "  R²: 0.4013\n",
            "  MAE: 0.1381\n",
            "\n"
          ]
        }
      ],
      "source": [
        "predictions_lr = cv_model_lr.transform(test_data)\n",
        "print(\"Kết quả trên Test Set:\")\n",
        "print(f\"  RMSE: {evaluator_rmse.evaluate(predictions_lr):.4f}\")\n",
        "print(f\"  R²: {evaluator_r2.evaluate(predictions_lr):.4f}\")\n",
        "print(f\"  MAE: {evaluator_mae.evaluate(predictions_lr):.4f}\\n\")"
      ]
    },
    {
      "cell_type": "code",
      "execution_count": null,
      "id": "7b0d5317",
      "metadata": {
        "id": "7b0d5317",
        "outputId": "24a0a300-5b6f-48a1-a09b-fa445c50f72c"
      },
      "outputs": [
        {
          "name": "stdout",
          "output_type": "stream",
          "text": [
            "Cross-Validation Scores (RMSE):\n",
            "  Config 1: 0.1725\n",
            "  Config 2: 0.1725\n",
            "  Config 3: 0.1725\n",
            "  Config 4: 0.1725\n",
            "  Config 5: 0.1725\n"
          ]
        }
      ],
      "source": [
        "# Cross-validation scores\n",
        "cv_scores_lr = cv_model_lr.avgMetrics\n",
        "print(\"Cross-Validation Scores (RMSE):\")\n",
        "for idx, score in enumerate(cv_scores_lr[:5]):  # Top 5\n",
        "    print(f\"  Config {idx+1}: {score:.4f}\")\n"
      ]
    },
    {
      "cell_type": "code",
      "execution_count": null,
      "id": "733811d0",
      "metadata": {
        "id": "733811d0"
      },
      "outputs": [],
      "source": [
        "rf = RandomForestRegressor(featuresCol=\"features\", labelCol=\"large_ms\", seed=42)\n",
        "paramGrid_rf = ParamGridBuilder() \\\n",
        "    .addGrid(rf.numTrees, [50, 100, 150]) \\\n",
        "    .addGrid(rf.maxDepth, [5, 10, 15, 20]) \\\n",
        "    .addGrid(rf.minInstancesPerNode, [1, 5, 10]) \\\n",
        "    .addGrid(rf.maxBins, [32, 64]) \\\n",
        "    .build()"
      ]
    },
    {
      "cell_type": "code",
      "execution_count": null,
      "id": "02a8f09e",
      "metadata": {
        "id": "02a8f09e"
      },
      "outputs": [],
      "source": [
        "# TrainValidationSplit (nhanh hơn CrossValidator cho RF)\n",
        "tvs_rf = TrainValidationSplit(\n",
        "    estimator=Pipeline(stages=indexers + [assembler, scaler, rf]),\n",
        "    estimatorParamMaps=paramGrid_rf,\n",
        "    evaluator=evaluator_rmse,\n",
        "    trainRatio=0.8,  # 80% train, 20% validation\n",
        "    parallelism=2,\n",
        "    seed=42\n",
        ")"
      ]
    },
    {
      "cell_type": "code",
      "execution_count": null,
      "id": "b572f0fd",
      "metadata": {
        "id": "b572f0fd"
      },
      "outputs": [],
      "source": [
        "tvs_model_rf = tvs_rf.fit(train_data)"
      ]
    },
    {
      "cell_type": "code",
      "execution_count": null,
      "id": "fcd4b5b0",
      "metadata": {
        "id": "fcd4b5b0",
        "outputId": "85619bff-b777-4188-c0b8-c4b344a4d134"
      },
      "outputs": [
        {
          "name": "stdout",
          "output_type": "stream",
          "text": [
            "Best parameters cho Random Forest:\n",
            "  numTrees: 150\n",
            "  maxDepth: 20\n",
            "  minInstancesPerNode: 1\n",
            "  maxBins: 64\n",
            "\n"
          ]
        }
      ],
      "source": [
        "# Best parameters\n",
        "best_rf_model = tvs_model_rf.bestModel.stages[-1]\n",
        "print(\"Best parameters cho Random Forest:\")\n",
        "print(f\"  numTrees: {best_rf_model.getNumTrees}\")\n",
        "print(f\"  maxDepth: {best_rf_model.getMaxDepth()}\")\n",
        "print(f\"  minInstancesPerNode: {best_rf_model.getMinInstancesPerNode()}\")\n",
        "print(f\"  maxBins: {best_rf_model.getMaxBins()}\\n\")"
      ]
    },
    {
      "cell_type": "code",
      "execution_count": null,
      "id": "10a8063f",
      "metadata": {
        "id": "10a8063f",
        "outputId": "df1ce003-5dde-4599-cba4-cb53058c7322"
      },
      "outputs": [
        {
          "name": "stdout",
          "output_type": "stream",
          "text": [
            "Kết quả trên Test Set:\n",
            "  RMSE: 0.0670\n",
            "  R²: 0.9092\n",
            "  MAE: 0.0394\n",
            "\n"
          ]
        }
      ],
      "source": [
        "# Đánh giá trên test set\n",
        "predictions_rf = tvs_model_rf.transform(test_data)\n",
        "print(\"Kết quả trên Test Set:\")\n",
        "print(f\"  RMSE: {evaluator_rmse.evaluate(predictions_rf):.4f}\")\n",
        "print(f\"  R²: {evaluator_r2.evaluate(predictions_rf):.4f}\")\n",
        "print(f\"  MAE: {evaluator_mae.evaluate(predictions_rf):.4f}\\n\")"
      ]
    },
    {
      "cell_type": "code",
      "execution_count": null,
      "id": "fb852620",
      "metadata": {
        "id": "fb852620"
      },
      "outputs": [],
      "source": [
        "# GBT với hyperparameter tuning\n",
        "gbt = GBTRegressor(featuresCol=\"features\", labelCol=\"large_ms\", seed=42)\n",
        "\n",
        "# Param grid cho GBT\n",
        "paramGrid_gbt = ParamGridBuilder() \\\n",
        "    .addGrid(gbt.maxIter, [50, 100, 150]) \\\n",
        "    .addGrid(gbt.maxDepth, [3, 5, 7]) \\\n",
        "    .addGrid(gbt.stepSize, [0.01, 0.1, 0.2]) \\\n",
        "    .addGrid(gbt.subsamplingRate, [0.8, 1.0]) \\\n",
        "    .build()"
      ]
    },
    {
      "cell_type": "code",
      "execution_count": null,
      "id": "0842316f",
      "metadata": {
        "id": "0842316f"
      },
      "outputs": [],
      "source": [
        "# TrainValidationSplit cho GBT\n",
        "tvs_gbt = TrainValidationSplit(\n",
        "    estimator=Pipeline(stages=indexers + [assembler, scaler, gbt]),\n",
        "    estimatorParamMaps=paramGrid_gbt,\n",
        "    evaluator=evaluator_rmse,\n",
        "    trainRatio=0.8,\n",
        "    parallelism=2,\n",
        "    seed=42\n",
        ")"
      ]
    },
    {
      "cell_type": "code",
      "execution_count": null,
      "id": "a879228e",
      "metadata": {
        "id": "a879228e"
      },
      "outputs": [],
      "source": [
        "tvs_model_gbt = tvs_gbt.fit(train_data)"
      ]
    },
    {
      "cell_type": "code",
      "execution_count": null,
      "id": "f651118e",
      "metadata": {
        "id": "f651118e",
        "outputId": "d4276e32-e4b7-4d1e-b872-0691e5971cce"
      },
      "outputs": [
        {
          "name": "stdout",
          "output_type": "stream",
          "text": [
            "Best parameters cho GBT:\n",
            "  maxIter: 150\n",
            "  maxDepth: 7\n",
            "  stepSize: 0.1\n",
            "  subsamplingRate: 1.0\n",
            "\n"
          ]
        }
      ],
      "source": [
        "# Best parameters\n",
        "best_gbt_model = tvs_model_gbt.bestModel.stages[-1]\n",
        "print(\"Best parameters cho GBT:\")\n",
        "print(f\"  maxIter: {best_gbt_model.getMaxIter()}\")\n",
        "print(f\"  maxDepth: {best_gbt_model.getMaxDepth()}\")\n",
        "print(f\"  stepSize: {best_gbt_model.getStepSize()}\")\n",
        "print(f\"  subsamplingRate: {best_gbt_model.getSubsamplingRate()}\\n\")"
      ]
    },
    {
      "cell_type": "code",
      "execution_count": null,
      "id": "bd6065ed",
      "metadata": {
        "id": "bd6065ed",
        "outputId": "c1683230-7984-4960-fa39-333d4581757c"
      },
      "outputs": [
        {
          "name": "stdout",
          "output_type": "stream",
          "text": [
            "Kết quả trên Test Set:\n",
            "  RMSE: 0.0695\n",
            "  R²: 0.9024\n",
            "  MAE: 0.0429\n",
            "\n"
          ]
        }
      ],
      "source": [
        "# Đánh giá trên test set\n",
        "predictions_gbt = tvs_model_gbt.transform(test_data)\n",
        "print(\"Kết quả trên Test Set:\")\n",
        "print(f\"  RMSE: {evaluator_rmse.evaluate(predictions_gbt):.4f}\")\n",
        "print(f\"  R²: {evaluator_r2.evaluate(predictions_gbt):.4f}\")\n",
        "print(f\"  MAE: {evaluator_mae.evaluate(predictions_gbt):.4f}\\n\")"
      ]
    },
    {
      "cell_type": "markdown",
      "source": [
        "# 4 Building a potential classification model"
      ],
      "metadata": {
        "id": "PijT8sD_CgQ5"
      },
      "id": "PijT8sD_CgQ5"
    },
    {
      "cell_type": "markdown",
      "source": [
        "## Prepare for model training"
      ],
      "metadata": {
        "id": "twmdjGtH8JZd"
      },
      "id": "twmdjGtH8JZd"
    },
    {
      "cell_type": "code",
      "execution_count": null,
      "metadata": {
        "id": "b794c780",
        "outputId": "cae1669b-f550-4212-dc35-debe7116b73d"
      },
      "outputs": [
        {
          "name": "stdout",
          "output_type": "stream",
          "text": [
            "BƯỚC 1: TÍNH TOÁN ĐIỂM SỐ TIỀM NĂNG\n",
            "==================================================\n",
            "\n",
            "Phân bố tiềm năng tuyến bay:\n",
            "+---------------+------+\n",
            "|potential_level| count|\n",
            "+---------------+------+\n",
            "|            Cao| 27047|\n",
            "|           Thấp|120694|\n",
            "|     Trung bình| 90244|\n",
            "+---------------+------+\n",
            "\n",
            "\n",
            "Tỷ lệ phần trăm:\n",
            "+---------------+------+----------+\n",
            "|potential_level| count|percentage|\n",
            "+---------------+------+----------+\n",
            "|            Cao| 27047|    11.365|\n",
            "|           Thấp|120694|    50.715|\n",
            "|     Trung bình| 90244|     37.92|\n",
            "+---------------+------+----------+\n",
            "\n"
          ]
        }
      ],
      "source": [
        "from pyspark.sql import functions as F\n",
        "from pyspark.sql.functions import col, lit, when, round\n",
        "\n",
        "# STEP 1: CALCULATE POTENTIAL SCORE (POTENTIAL SCORE)\n",
        "print(\"BƯỚC 1: TÍNH TOÁN ĐIỂM SỐ TIỀM NĂNG\")\n",
        "print(\"=\"*50)\n",
        "\n",
        "# Make a copy of the data for processing\n",
        "df_potential = df_clean\n",
        "\n",
        "# Normalize metrics to [0,1] scale\n",
        "metrics = ['passengers', 'fare', 'nsmiles', 'large_ms', 'lf_ms']\n",
        "\n",
        "# Calculate min and max for normalization\n",
        "min_max_stats = {}\n",
        "for metric in metrics:\n",
        "    if metric in df_potential.columns:\n",
        "        stats = df_potential.select(\n",
        "            F.min(col(metric)).alias(\"min_val\"),\n",
        "            F.max(col(metric)).alias(\"max_val\")\n",
        "        ).collect()[0]\n",
        "        min_max_stats[metric] = {\n",
        "            'min': stats['min_val'],\n",
        "            'max': stats['max_val']\n",
        "        }\n",
        "\n",
        "# Normalization each metrics\n",
        "for metric in metrics:\n",
        "    if metric in df_potential.columns and metric in min_max_stats:\n",
        "        min_val = min_max_stats[metric]['min']\n",
        "        max_val = min_max_stats[metric]['max']\n",
        "        if max_val != min_val:\n",
        "            df_potential = df_potential.withColumn(\n",
        "                f'{metric}_normalized',\n",
        "                (col(metric) - lit(min_val)) / (lit(max_val) - lit(min_val))\n",
        "            )\n",
        "        else:\n",
        "            df_potential = df_potential.withColumn(f'{metric}_normalized', lit(0.0))\n",
        "\n",
        "# Calculate potential score based on weight\n",
        "weights = {\n",
        "    'passengers_normalized': 0.25,\n",
        "    'fare_normalized': 0.2,\n",
        "    'nsmiles_normalized': 0.25,\n",
        "    'large_ms_normalized': 0.15,\n",
        "    'lf_ms_normalized': 0.15\n",
        "}\n",
        "\n",
        "potential_score_expr = lit(0.0)\n",
        "for metric, weight in weights.items():\n",
        "    if metric in df_potential.columns:\n",
        "        potential_score_expr = potential_score_expr + (col(metric) * weight)\n",
        "\n",
        "df_potential = df_potential.withColumn('potential_score', potential_score_expr)\n",
        "\n",
        "# Classify based on potential score\n",
        "df_potential = df_potential.withColumn(\n",
        "    'potential_level',\n",
        "    when(col('potential_score') > 0.4, 'Cao')\n",
        "    .when(col('potential_score') >= 0.3, 'Trung bình')\n",
        "    .otherwise('Thấp')\n",
        ")\n",
        "\n",
        "# Distribution statistics\n",
        "print(\"\\nPhân bố tiềm năng tuyến bay:\")\n",
        "potential_dist = df_potential.groupBy('potential_level').count().orderBy('potential_level')\n",
        "potential_dist.show()\n",
        "\n",
        "# Calculate percentage\n",
        "total_count = df_potential.count()\n",
        "potential_percentages = df_potential.groupBy('potential_level').count() \\\n",
        "    .withColumn('percentage', round(col('count') / lit(total_count) * 100, 3)) \\\n",
        "    .orderBy('potential_level')\n",
        "\n",
        "print(\"\\nTỷ lệ phần trăm:\")\n",
        "potential_percentages.show()\n"
      ],
      "id": "b794c780"
    },
    {
      "cell_type": "code",
      "execution_count": null,
      "metadata": {
        "id": "5b6509ce",
        "outputId": "9f2e4c87-13b1-49f0-fc79-5f46e969304f"
      },
      "outputs": [
        {
          "name": "stdout",
          "output_type": "stream",
          "text": [
            "\n",
            "BƯỚC 2: PHÂN TÍCH XU HƯỚNG TĂNG TRƯỞNG\n",
            "==================================================\n",
            "\n",
            "Phân bố tiềm năng sau khi cải tiến:\n",
            "+------------------------+------+\n",
            "|potential_level_enhanced| count|\n",
            "+------------------------+------+\n",
            "|                     Cao| 12437|\n",
            "|                    Thấp|151411|\n",
            "|              Trung bình| 74137|\n",
            "+------------------------+------+\n",
            "\n"
          ]
        }
      ],
      "source": [
        "from pyspark.sql import functions as F\n",
        "from pyspark.sql.window import Window\n",
        "from pyspark.sql.functions import first, last, col, lit, when\n",
        "\n",
        "# STEP 2: ADDITIONAL GROWTH TREND ANALYSISA\n",
        "print(\"\\nBƯỚC 2: PHÂN TÍCH XU HƯỚNG TĂNG TRƯỞNG\")\n",
        "print(\"=\" * 50)\n",
        "\n",
        "# Create window partitioned by route (city1, city2) ordered by Year\n",
        "window_spec = Window.partitionBy('city1', 'city2').orderBy('Year') \\\n",
        "                   .rowsBetween(Window.unboundedPreceding, Window.unboundedFollowing)\n",
        "\n",
        "# Calculate first and last values for each route\n",
        "df_with_growth = df_potential.withColumn(\n",
        "    'first_passengers', first('passengers').over(window_spec)\n",
        ").withColumn(\n",
        "    'last_passengers', last('passengers').over(window_spec)\n",
        ").withColumn(\n",
        "    'first_fare', first('fare').over(window_spec)\n",
        ").withColumn(\n",
        "    'last_fare', last('fare').over(window_spec)\n",
        ")\n",
        "\n",
        "# Calculate growth rates\n",
        "df_with_growth = df_with_growth.withColumn(\n",
        "    'passenger_growth',\n",
        "    when(col('first_passengers') > 0,\n",
        "         (col('last_passengers') - col('first_passengers')) / col('first_passengers'))\n",
        "    .otherwise(0)\n",
        ").withColumn(\n",
        "    'fare_growth',\n",
        "    when(col('first_fare') > 0,\n",
        "         (col('last_fare') - col('first_fare')) / col('first_fare'))\n",
        "    .otherwise(0)\n",
        ")\n",
        "\n",
        "# Calculate growth trends score (70% passengers, 30% fare)\n",
        "df_with_growth = df_with_growth.withColumn(\n",
        "    'growth_trend',\n",
        "    0.7 * col('passenger_growth') + 0.3 * col('fare_growth')\n",
        ")\n",
        "\n",
        "# Normalize growth trends to [0,1]\n",
        "growth_stats = df_with_growth.select(\n",
        "    F.min('growth_trend').alias('min_growth'),\n",
        "    F.max('growth_trend').alias('max_growth')\n",
        ").collect()[0]\n",
        "\n",
        "min_growth = growth_stats['min_growth']\n",
        "max_growth = growth_stats['max_growth']\n",
        "\n",
        "if max_growth != min_growth:\n",
        "    df_with_growth = df_with_growth.withColumn(\n",
        "        'growth_trend_normalized',\n",
        "        (col('growth_trend') - lit(min_growth)) / (lit(max_growth) - lit(min_growth))\n",
        "    )\n",
        "else:\n",
        "    df_with_growth = df_with_growth.withColumn('growth_trend_normalized', lit(0.0))\n",
        "\n",
        "# Update potential score with growth trend (10% weight)\n",
        "df_potential = df_with_growth.withColumn(\n",
        "    'potential_score_enhanced',\n",
        "    col('potential_score') * 0.9 + col('growth_trend_normalized') * 0.1\n",
        ")\n",
        "\n",
        "# Reclassify based on enhanced potential score\n",
        "df_potential = df_potential.withColumn(\n",
        "    'potential_level_enhanced',\n",
        "    when(col('potential_score_enhanced') > 0.4, 'Cao')\n",
        "    .when(col('potential_score_enhanced') >= 0.3, 'Trung bình')\n",
        "    .otherwise('Thấp')\n",
        ")\n",
        "\n",
        "# Display distribution results\n",
        "print(\"\\nPhân bố tiềm năng sau khi cải tiến:\")\n",
        "enhanced_dist = df_potential.groupBy('potential_level_enhanced').count().orderBy('potential_level_enhanced')\n",
        "enhanced_dist.show()\n"
      ],
      "id": "5b6509ce"
    },
    {
      "cell_type": "code",
      "execution_count": null,
      "metadata": {
        "id": "aead1ea6",
        "outputId": "9636c95b-962d-461a-d563-88062a2d2750"
      },
      "outputs": [
        {
          "name": "stdout",
          "output_type": "stream",
          "text": [
            "\n",
            "BƯỚC 3: HUẤN LUYỆN MÔ HÌNH MACHINE LEARNING\n",
            "==================================================\n",
            "Kích thước dữ liệu:\n",
            "  - Train: 190573 mẫu\n",
            "  - Test: 47412 mẫu\n",
            "  - Số đặc trưng: 8\n"
          ]
        }
      ],
      "source": [
        "# STEP 3: TRAIN MACHINE LEARNING MODEL\n",
        "\n",
        "print(\"\\nBƯỚC 3: HUẤN LUYỆN MÔ HÌNH MACHINE LEARNING\")\n",
        "print(\"=\"*50)\n",
        "\n",
        "# # Prepare features\n",
        "features_ml = ['passengers', 'fare', 'nsmiles', 'large_ms', 'lf_ms', 'fare_lg', 'fare_low', 'growth_trend']\n",
        "\n",
        "# Create feature vector\n",
        "assembler = VectorAssembler(\n",
        "    inputCols=features_ml,\n",
        "    outputCol=\"features\"\n",
        ")\n",
        "\n",
        "# String indexer for target variable\n",
        "label_indexer = StringIndexer(\n",
        "    inputCol=\"potential_level_enhanced\",\n",
        "    outputCol=\"label\"\n",
        ")\n",
        "# Create pipeline for feature preparation\n",
        "feature_pipeline = Pipeline(stages=[assembler, label_indexer])\n",
        "df_ml = feature_pipeline.fit(df_potential).transform(df_potential)\n",
        "\n",
        "# Split data (80% train , 20% test)\n",
        "train_data, test_data = df_ml.randomSplit([0.8, 0.2], seed=42)\n",
        "\n",
        "print(f\"Kích thước dữ liệu:\")\n",
        "print(f\"  - Train: {train_data.count()} mẫu\")\n",
        "print(f\"  - Test: {test_data.count()} mẫu\")\n",
        "print(f\"  - Số đặc trưng: {len(features_ml)}\")"
      ],
      "id": "aead1ea6"
    },
    {
      "cell_type": "code",
      "source": [
        "# Function to evaluate model\n",
        "def evaluate_model(predictions):\n",
        "    evaluator_acc = MulticlassClassificationEvaluator(labelCol=\"label\", predictionCol=\"prediction\", metricName=\"accuracy\")\n",
        "    evaluator_pre = MulticlassClassificationEvaluator(labelCol=\"label\", predictionCol=\"prediction\", metricName=\"weightedPrecision\")\n",
        "    evaluator_rec = MulticlassClassificationEvaluator(labelCol=\"label\", predictionCol=\"prediction\", metricName=\"weightedRecall\")\n",
        "    evaluator_f1 = MulticlassClassificationEvaluator(labelCol=\"label\", predictionCol=\"prediction\", metricName=\"f1\")\n",
        "\n",
        "    accuracy = evaluator_acc.evaluate(predictions)\n",
        "    precision = evaluator_pre.evaluate(predictions)\n",
        "    recall = evaluator_rec.evaluate(predictions)\n",
        "    f1 = evaluator_f1.evaluate(predictions)\n",
        "\n",
        "    print(f\"  - Accuracy : {accuracy:.4f}\")\n",
        "    print(f\"  - Precision: {precision:.4f}\")\n",
        "    print(f\"  - Recall   : {recall:.4f}\")\n",
        "    print(f\"  - F1-Score : {f1:.4f}\")\n",
        "\n",
        "    return accuracy"
      ],
      "metadata": {
        "id": "SaGwh_7r1TSe"
      },
      "execution_count": null,
      "outputs": [],
      "id": "SaGwh_7r1TSe"
    },
    {
      "cell_type": "markdown",
      "source": [
        "## `Random Forest`"
      ],
      "metadata": {
        "id": "lkVpqiyU2_Yl"
      },
      "id": "lkVpqiyU2_Yl"
    },
    {
      "cell_type": "markdown",
      "source": [
        "###  `Random Forest` Training"
      ],
      "metadata": {
        "id": "NYsJw5lj7bKs"
      },
      "id": "NYsJw5lj7bKs"
    },
    {
      "cell_type": "code",
      "execution_count": null,
      "metadata": {
        "id": "58d74ccd",
        "outputId": "7603203b-1246-4261-9f47-8c38c472ce23"
      },
      "outputs": [
        {
          "name": "stdout",
          "output_type": "stream",
          "text": [
            "\n",
            " HUẤN LUYỆN MÔ HÌNH: Random Forest\n",
            "------------------------------------------------------------\n",
            "Kết quả đánh giá Random Forest:\n",
            "  - Accuracy : 0.8924\n",
            "  - Precision: 0.8946\n",
            "  - Recall   : 0.8924\n",
            "  - F1-Score : 0.8925\n"
          ]
        }
      ],
      "source": [
        "# RANDOM FOREST\n",
        "from pyspark.ml.classification import RandomForestClassifier\n",
        "\n",
        "print(\"\\n HUẤN LUYỆN MÔ HÌNH: Random Forest\")\n",
        "print(\"-\" * 60)\n",
        "\n",
        "rf = RandomForestClassifier(\n",
        "    featuresCol=\"features\",\n",
        "    labelCol=\"label\",\n",
        "    numTrees=20,\n",
        "    maxDepth=5,\n",
        "    seed=42)\n",
        "rf_model = rf.fit(train_data)\n",
        "rf_predictions = rf_model.transform(test_data)\n",
        "\n",
        "print(\"Kết quả đánh giá Random Forest:\")\n",
        "rf_accuracy = evaluate_model(rf_predictions)"
      ],
      "id": "58d74ccd"
    },
    {
      "cell_type": "markdown",
      "source": [
        "###  `Random Forest` – Find optimal hyperparameters - numTrees, maxDepth, maxBins"
      ],
      "metadata": {
        "id": "N25Xi8Zx1tN1"
      },
      "id": "N25Xi8Zx1tN1"
    },
    {
      "cell_type": "code",
      "execution_count": null,
      "metadata": {
        "outputId": "4c3fbf6d-4ebf-4ed3-82ee-4df6d8f9c931",
        "id": "zmFoOKYPCMIz"
      },
      "outputs": [
        {
          "name": "stdout",
          "output_type": "stream",
          "text": [
            " Best Random Forest parameters:\n",
            "  numTrees = 100\n",
            "  maxDepth = 15\n",
            "  maxBins  = 64\n",
            " Accuracy (Random Forest): 0.9794\n"
          ]
        }
      ],
      "source": [
        "from pyspark.ml.tuning import ParamGridBuilder, CrossValidator, TrainValidationSplit\n",
        "from pyspark.ml.classification import RandomForestClassifier\n",
        "\n",
        "rf = RandomForestClassifier(featuresCol=\"features\", labelCol=\"label\", seed=42)\n",
        "\n",
        "paramGrid_rf = (\n",
        "    ParamGridBuilder()\n",
        "    .addGrid(rf.numTrees, [35, 50, 75, 100])\n",
        "    .addGrid(rf.maxDepth, [5, 10, 15])\n",
        "    .addGrid(rf.maxBins, [32, 64])\n",
        "    .build()\n",
        ")\n",
        "\n",
        "evaluator = MulticlassClassificationEvaluator(labelCol=\"label\", predictionCol=\"prediction\", metricName=\"accuracy\")\n",
        "\n",
        "cv_rf = CrossValidator(\n",
        "    estimator=rf,\n",
        "    estimatorParamMaps=paramGrid_rf,\n",
        "    evaluator=evaluator,\n",
        "    numFolds=3,\n",
        "    parallelism=1,\n",
        "    seed=42\n",
        ")\n",
        "\n",
        "cvModel_rf = cv_rf.fit(train_data)\n",
        "best_rf_model = cvModel_rf.bestModel\n",
        "rf_predictions = best_rf_model.transform(test_data)\n",
        "\n",
        "print(\" Best Random Forest parameters:\")\n",
        "print(f\"  numTrees = {best_rf_model.getNumTrees}\")\n",
        "print(f\"  maxDepth = {best_rf_model.getOrDefault('maxDepth')}\")\n",
        "print(f\"  maxBins  = {best_rf_model.getOrDefault('maxBins')}\")\n",
        "\n",
        "rf_accuracy = evaluator.evaluate(rf_predictions)\n",
        "print(f\" Accuracy (Random Forest): {rf_accuracy:.4f}\")\n"
      ],
      "id": "zmFoOKYPCMIz"
    },
    {
      "cell_type": "markdown",
      "source": [
        "## `Logistic Regression`"
      ],
      "metadata": {
        "id": "FA6nkBOW3K1s"
      },
      "id": "FA6nkBOW3K1s"
    },
    {
      "cell_type": "markdown",
      "source": [
        "### `Logistic Regression` Training\n",
        "\n"
      ],
      "metadata": {
        "id": "kJTWbM8f2h9D"
      },
      "id": "kJTWbM8f2h9D"
    },
    {
      "cell_type": "code",
      "execution_count": null,
      "metadata": {
        "id": "215b8143",
        "outputId": "6256cf57-264b-4428-b69b-76afca60ce1c"
      },
      "outputs": [
        {
          "name": "stdout",
          "output_type": "stream",
          "text": [
            "\n",
            " HUẤN LUYỆN MÔ HÌNH: Logistic Regression\n",
            "------------------------------------------------------------\n",
            "Kết quả đánh giá Logistic Regression:\n",
            "  - Accuracy : 0.9421\n",
            "  - Precision: 0.9451\n",
            "  - Recall   : 0.9421\n",
            "  - F1-Score : 0.9365\n"
          ]
        }
      ],
      "source": [
        "# LOGISTIC REGRESSION\n",
        "from pyspark.ml.classification import LogisticRegression\n",
        "\n",
        "print(\"\\n HUẤN LUYỆN MÔ HÌNH: Logistic Regression\")\n",
        "print(\"-\" * 60)\n",
        "\n",
        "# Chỉ có L2 regularization\n",
        "lr = LogisticRegression(\n",
        "    featuresCol=\"features\",\n",
        "    labelCol=\"label\",\n",
        "    maxIter=100,\n",
        "    regParam=0.01)\n",
        "lr_model = lr.fit(train_data)\n",
        "lr_predictions = lr_model.transform(test_data)\n",
        "\n",
        "print(\"Kết quả đánh giá Logistic Regression:\")\n",
        "lr_accuracy = evaluate_model(lr_predictions)\n"
      ],
      "id": "215b8143"
    },
    {
      "cell_type": "markdown",
      "source": [
        "### `Logistic Regression` – Find optimal hyperparameters - regParam, elasticNetParam"
      ],
      "metadata": {
        "id": "2PHBFgt2112P"
      },
      "id": "2PHBFgt2112P"
    },
    {
      "cell_type": "code",
      "execution_count": null,
      "metadata": {
        "id": "a24e2c34",
        "outputId": "108a2cbc-893f-4250-fec2-da1a5cd6d9aa"
      },
      "outputs": [
        {
          "name": "stdout",
          "output_type": "stream",
          "text": [
            " Best Logistic Regression parameters:\n",
            "  regParam = 0.001\n",
            "  elasticNetParam = 1.0\n",
            " Accuracy (Logistic Regression): 0.9950\n"
          ]
        }
      ],
      "source": [
        "from pyspark.ml.classification import LogisticRegression\n",
        "\n",
        "lr = LogisticRegression(featuresCol=\"features\", labelCol=\"label\", maxIter=1000)\n",
        "\n",
        "paramGrid_lr = (\n",
        "    ParamGridBuilder()\n",
        "    .addGrid(lr.regParam, [0.001, 0.1, 0.3, 0.5, 1.0])\n",
        "    .addGrid(lr.elasticNetParam, [0.0, 0.25, 0.5, 0.75, 1.0])  # 0=L2, 1=L1\n",
        "    .build()\n",
        ")\n",
        "\n",
        "cv_lr = CrossValidator(\n",
        "    estimator=lr,\n",
        "    estimatorParamMaps=paramGrid_lr,\n",
        "    evaluator=evaluator,\n",
        "    numFolds=3,\n",
        "    parallelism=1,\n",
        "    seed=42\n",
        ")\n",
        "\n",
        "cvModel_lr = cv_lr.fit(train_data)\n",
        "best_lr_model = cvModel_lr.bestModel\n",
        "lr_predictions = best_lr_model.transform(test_data)\n",
        "\n",
        "print(\" Best Logistic Regression parameters:\")\n",
        "print(f\"  regParam = {best_lr_model.getRegParam()}\")\n",
        "print(f\"  elasticNetParam = {best_lr_model.getElasticNetParam()}\")\n",
        "\n",
        "lr_accuracy = evaluator.evaluate(lr_predictions)\n",
        "print(f\" Accuracy (Logistic Regression): {lr_accuracy:.4f}\")\n"
      ],
      "id": "a24e2c34"
    },
    {
      "cell_type": "markdown",
      "source": [
        "## Find the best model"
      ],
      "metadata": {
        "id": "BKpuTuPyIjox"
      },
      "id": "BKpuTuPyIjox"
    },
    {
      "cell_type": "code",
      "execution_count": null,
      "metadata": {
        "id": "99d873d6",
        "outputId": "e6904673-4d87-434d-be81-eb086a7b291a"
      },
      "outputs": [
        {
          "name": "stdout",
          "output_type": "stream",
          "text": [
            "\n",
            " So sánh mô hình:\n",
            "   Random Forest: Accuracy = 0.9794\n",
            "     numTrees: 100\n",
            "     maxDepth: 15\n",
            "     maxBins: 64\n",
            "--------------------------------------------------\n",
            " Logistic Regression: Accuracy = 0.9950\n",
            "     regParam: 0.001\n",
            "     elasticNetParam: 1.0\n",
            "--------------------------------------------------\n",
            "\n",
            " Mô hình tốt nhất: Logistic Regression (Độ chính xác = 0.9950)\n",
            "  Siêu tham số tối ưu:\n",
            "   regParam: 0.001\n",
            "   elasticNetParam: 1.0\n"
          ]
        }
      ],
      "source": [
        "import builtins  # dùng max gốc của Python\n",
        "\n",
        "models_info = [\n",
        "    {\n",
        "        \"name\": \"Random Forest\",\n",
        "        \"accuracy\": rf_accuracy,\n",
        "        \"params\": {\n",
        "            \"numTrees\": best_rf_model.getNumTrees,\n",
        "            \"maxDepth\": best_rf_model.getOrDefault(\"maxDepth\"),\n",
        "            \"maxBins\": best_rf_model.getOrDefault(\"maxBins\")\n",
        "        }\n",
        "    },\n",
        "    {\n",
        "        \"name\": \"Logistic Regression\",\n",
        "        \"accuracy\": lr_accuracy,\n",
        "        \"params\": {\n",
        "            \"regParam\": best_lr_model.getRegParam(),\n",
        "            \"elasticNetParam\": best_lr_model.getElasticNetParam()\n",
        "        }\n",
        "    }\n",
        "]\n",
        "\n",
        "# Dùng builtins.max\n",
        "best_model = builtins.max(models_info, key=lambda m: m[\"accuracy\"])\n",
        "\n",
        "print(\"\\n So sánh mô hình:\")\n",
        "for m in models_info:\n",
        "    marker = \"\" if m[\"name\"] == best_model[\"name\"] else \"  \"\n",
        "    print(f\"{marker} {m['name']}: Accuracy = {m['accuracy']:.4f}\")\n",
        "    for k, v in m[\"params\"].items():\n",
        "        print(f\"     {k}: {v}\")\n",
        "    print(\"-\" * 50)\n",
        "\n",
        "print(f\"\\n Mô hình tốt nhất: {best_model['name']} (Độ chính xác = {best_model['accuracy']:.4f})\")\n",
        "print(\"  Siêu tham số tối ưu:\")\n",
        "for k, v in best_model[\"params\"].items():\n",
        "    print(f\"   {k}: {v}\")\n"
      ],
      "id": "99d873d6"
    },
    {
      "cell_type": "markdown",
      "source": [
        "## Test"
      ],
      "metadata": {
        "id": "aP_gm4wk7nYM"
      },
      "id": "aP_gm4wk7nYM"
    },
    {
      "cell_type": "code",
      "execution_count": null,
      "metadata": {
        "id": "38653a7b",
        "outputId": "ed685786-768d-4326-b134-52c39a49a4c2"
      },
      "outputs": [
        {
          "name": "stdout",
          "output_type": "stream",
          "text": [
            "\n",
            " Dự đoán 10 mẫu ngẫu nhiên bằng mô hình tốt nhất: Logistic Regression\n",
            "+-------------------------------------+-------------------------------------+----------+------+-------+--------+------+-------+--------+----------+----------+\n",
            "|city1                                |city2                                |passengers|fare  |nsmiles|large_ms|lf_ms |fare_lg|fare_low|Label_thật|Dự_đoán   |\n",
            "+-------------------------------------+-------------------------------------+----------+------+-------+--------+------+-------+--------+----------+----------+\n",
            "|Chicago, IL                          |Tulsa, OK                            |219       |159.12|585    |0.68    |0.28  |158.78 |157.54  |Cao       |Cao       |\n",
            "|Miami, FL (Metropolitan Area)        |Pittsburgh, PA                       |218       |168.14|1013   |0.77    |0.04  |171.81 |109.38  |Cao       |Cao       |\n",
            "|Indianapolis, IN                     |New York City, NY (Metropolitan Area)|447       |240.15|700    |0.77    |0.11  |250.35 |200.6   |Cao       |Cao       |\n",
            "|New York City, NY (Metropolitan Area)|Phoenix, AZ                          |1         |119.2 |2189   |1.0     |1.0   |119.2  |119.2   |Thấp      |Thấp      |\n",
            "|Hartford, CT                         |Miami, FL (Metropolitan Area)        |149       |149.31|1194   |0.56    |0.56  |146.85 |146.85  |Cao       |Cao       |\n",
            "|Nashville, TN                        |Washington, DC (Metropolitan Area)   |641       |216.03|587    |0.9327  |0.9327|214.57 |214.57  |Trung bình|Trung bình|\n",
            "|Dallas/Fort Worth, TX                |Miami, FL (Metropolitan Area)        |541       |220.13|1121   |0.84    |0.03  |227.52 |143.8   |Cao       |Cao       |\n",
            "|Boston, MA (Metropolitan Area)       |Charleston, SC                       |21        |209.21|836    |0.5213  |0.5213|194.64 |194.64  |Cao       |Cao       |\n",
            "|Boston, MA (Metropolitan Area)       |Richmond, VA                         |428       |137.86|487    |0.6393  |0.6393|134.02 |134.02  |Cao       |Cao       |\n",
            "|New York City, NY (Metropolitan Area)|Reno, NV                             |186       |226.06|2443   |0.7715  |0.7715|192.7  |192.7   |Thấp      |Thấp      |\n",
            "+-------------------------------------+-------------------------------------+----------+------+-------+--------+------+-------+--------+----------+----------+\n",
            "\n"
          ]
        }
      ],
      "source": [
        "from pyspark.sql.functions import udf, col, rand\n",
        "from pyspark.sql.types import StringType\n",
        "\n",
        "# Map numeric labels to string labels (based on trained StringIndexer order)\n",
        "label_mapping = {0.0: \"Cao\", 1.0: \"Trung bình\", 2.0: \"Thấp\"}\n",
        "map_label_udf = udf(lambda x: label_mapping.get(x, \"Không rõ\"), StringType())\n",
        "\n",
        "# Get 10 random samples from test set\n",
        "sample_test = test_data.orderBy(rand()).limit(10)\n",
        "\n",
        "# Determine the best model\n",
        "if best_model[\"name\"] == \"Random Forest\":\n",
        "    best_model_object = best_rf_model\n",
        "elif best_model[\"name\"] == \"Logistic Regression\":\n",
        "    best_model_object = best_lr_model\n",
        "else:\n",
        "    raise ValueError(\"Không xác định được mô hình tốt nhất!\")\n",
        "\n",
        "# Make predictions\n",
        "sample_predictions = best_model_object.transform(sample_test)\n",
        "\n",
        "# Add true and predicted labels in string format\n",
        "sample_with_labels = (\n",
        "    sample_predictions\n",
        "    .withColumn(\"Label_thật\", map_label_udf(col(\"label\")))\n",
        "    .withColumn(\"Dự_đoán\", map_label_udf(col(\"prediction\")))\n",
        ")\n",
        "\n",
        "# Display key columns\n",
        "columns_to_show = [\n",
        "    \"city1\", \"city2\", \"passengers\", \"fare\", \"nsmiles\",\n",
        "    \"large_ms\", \"lf_ms\", \"fare_lg\", \"fare_low\",\n",
        "    \"Label_thật\", \"Dự_đoán\"\n",
        "]\n",
        "\n",
        "print(f\"\\n Dự đoán 10 mẫu ngẫu nhiên bằng mô hình tốt nhất: {best_model['name']}\")\n",
        "sample_with_labels.select(columns_to_show).show(truncate=False)\n"
      ],
      "id": "38653a7b"
    }
  ],
  "metadata": {
    "kernelspec": {
      "display_name": "Python 3",
      "language": "python",
      "name": "python3"
    },
    "language_info": {
      "codemirror_mode": {
        "name": "ipython",
        "version": 3
      },
      "file_extension": ".py",
      "mimetype": "text/x-python",
      "name": "python",
      "nbconvert_exporter": "python",
      "pygments_lexer": "ipython3",
      "version": "3.9.8"
    },
    "colab": {
      "provenance": [],
      "toc_visible": true,
      "include_colab_link": true
    }
  },
  "nbformat": 4,
  "nbformat_minor": 5
}