{
 "cells": [
  {
   "cell_type": "markdown",
   "id": "62ccf154",
   "metadata": {},
   "source": [
    "<a href=\"https://colab.research.google.com/github/duonghieu7104/Trend-Analysis-Aviation-Industry-US/blob/main/notebook/Market_Share.ipynb\" target=\"_parent\"><img src=\"https://colab.research.google.com/assets/colab-badge.svg\" alt=\"Open In Colab\"/></a>"
   ]
  },
  {
   "cell_type": "code",
   "execution_count": 187,
   "id": "dcaaa02b",
   "metadata": {},
   "outputs": [],
   "source": [
    "from pyspark.sql import SparkSession\n",
    "from pyspark.sql.functions import col, when, isnan, count, mean, stddev, sum\n",
    "from pyspark.ml.feature import VectorAssembler, StringIndexer, StandardScaler\n",
    "from pyspark.ml.regression import LinearRegression, RandomForestRegressor, GBTRegressor\n",
    "from pyspark.ml.evaluation import RegressionEvaluator\n",
    "from pyspark.ml import Pipeline\n",
    "import matplotlib.pyplot as plt\n",
    "import seaborn as sns\n",
    "from pyspark.ml.tuning import ParamGridBuilder, CrossValidator, TrainValidationSplit"
   ]
  },
  {
   "cell_type": "code",
   "execution_count": 188,
   "id": "3363dee7",
   "metadata": {},
   "outputs": [],
   "source": [
    "spark = SparkSession.builder \\\n",
    "    .appName(\"Airline Market Share Prediction\") \\\n",
    "    .config(\"spark.driver.memory\", \"4g\") \\\n",
    "    .getOrCreate()"
   ]
  },
  {
   "cell_type": "code",
   "execution_count": 189,
   "id": "f264f1c3",
   "metadata": {},
   "outputs": [
    {
     "name": "stdout",
     "output_type": "stream",
     "text": [
      "Dataset downloaded to: C:\\Users\\PC\\.cache\\kagglehub\\datasets\\bhavikjikadara\\us-airline-flight-routes-and-fares-1993-2024\\versions\\1\n"
     ]
    }
   ],
   "source": [
    "import kagglehub\n",
    "path = kagglehub.dataset_download(\"bhavikjikadara/us-airline-flight-routes-and-fares-1993-2024\")\n",
    "print(f\"Dataset downloaded to: {path}\")"
   ]
  },
  {
   "cell_type": "code",
   "execution_count": 190,
   "id": "191d5d05",
   "metadata": {},
   "outputs": [],
   "source": [
    "df = (\n",
    "    spark.read\n",
    "    .option(\"header\", \"true\")\n",
    "    .option(\"inferSchema\", \"true\")\n",
    "    .option(\"quote\", '\"')           # rất quan trọng: nhận diện text trong ngoặc kép\n",
    "    .option(\"escape\", '\"')          # escape ký tự \"\n",
    "    .option(\"multiLine\", \"true\")    # xử lý text có xuống dòng\n",
    "    .option(\"mode\", \"PERMISSIVE\")   # không drop dòng lỗi\n",
    "    .option(\"nullValue\", \"\")\n",
    "    .option(\"nanValue\", \"NaN\")\n",
    "    .option(\"emptyValue\", \"\")\n",
    "    .csv(f\"{path}/*.csv\")\n",
    ")"
   ]
  },
  {
   "cell_type": "code",
   "execution_count": 191,
   "id": "487aec37",
   "metadata": {},
   "outputs": [
    {
     "name": "stdout",
     "output_type": "stream",
     "text": [
      "root\n",
      " |-- tbl: string (nullable = true)\n",
      " |-- Year: integer (nullable = true)\n",
      " |-- quarter: integer (nullable = true)\n",
      " |-- citymarketid_1: integer (nullable = true)\n",
      " |-- citymarketid_2: integer (nullable = true)\n",
      " |-- city1: string (nullable = true)\n",
      " |-- city2: string (nullable = true)\n",
      " |-- airportid_1: integer (nullable = true)\n",
      " |-- airportid_2: integer (nullable = true)\n",
      " |-- airport_1: string (nullable = true)\n",
      " |-- airport_2: string (nullable = true)\n",
      " |-- nsmiles: integer (nullable = true)\n",
      " |-- passengers: integer (nullable = true)\n",
      " |-- fare: double (nullable = true)\n",
      " |-- carrier_lg: string (nullable = true)\n",
      " |-- large_ms: double (nullable = true)\n",
      " |-- fare_lg: double (nullable = true)\n",
      " |-- carrier_low: string (nullable = true)\n",
      " |-- lf_ms: double (nullable = true)\n",
      " |-- fare_low: double (nullable = true)\n",
      " |-- Geocoded_City1: string (nullable = true)\n",
      " |-- Geocoded_City2: string (nullable = true)\n",
      " |-- tbl1apk: string (nullable = true)\n",
      "\n",
      "\n",
      "Số dòng: 245955\n",
      "Số cột: 23\n"
     ]
    }
   ],
   "source": [
    "df.printSchema()\n",
    "print(f\"\\nSố dòng: {df.count()}\")\n",
    "print(f\"Số cột: {len(df.columns)}\")"
   ]
  },
  {
   "cell_type": "code",
   "execution_count": 192,
   "id": "9e50b36c",
   "metadata": {},
   "outputs": [
    {
     "name": "stdout",
     "output_type": "stream",
     "text": [
      "+-------+----+-------+--------------+--------------+--------------------+--------------------+-----------+-----------+---------+---------+-------+----------+------+----------+--------+-------+-----------+------+--------+--------------+--------------+--------------------+\n",
      "|    tbl|Year|quarter|citymarketid_1|citymarketid_2|               city1|               city2|airportid_1|airportid_2|airport_1|airport_2|nsmiles|passengers|  fare|carrier_lg|large_ms|fare_lg|carrier_low| lf_ms|fare_low|Geocoded_City1|Geocoded_City2|             tbl1apk|\n",
      "+-------+----+-------+--------------+--------------+--------------------+--------------------+-----------+-----------+---------+---------+-------+----------+------+----------+--------+-------+-----------+------+--------+--------------+--------------+--------------------+\n",
      "|Table1a|2021|      3|         30135|         33195|Allentown/Bethleh...|Tampa, FL (Metrop...|      10135|      14112|      ABE|      PIE|    970|       180| 81.43|        G4|     1.0|  81.43|         G4|   1.0|   81.43|          NULL|          NULL|202131013514112AB...|\n",
      "|Table1a|2021|      3|         30135|         33195|Allentown/Bethleh...|Tampa, FL (Metrop...|      10135|      15304|      ABE|      TPA|    970|        19|208.93|        DL|  0.4659| 219.98|         UA|0.1193|  154.11|          NULL|          NULL|202131013515304AB...|\n",
      "|Table1a|2021|      3|         30140|         30194|     Albuquerque, NM|Dallas/Fort Worth...|      10140|      11259|      ABQ|      DAL|    580|       204|184.56|        WN|  0.9968| 184.44|         WN|0.9968|  184.44|          NULL|          NULL|202131014011259AB...|\n",
      "|Table1a|2021|      3|         30140|         30194|     Albuquerque, NM|Dallas/Fort Worth...|      10140|      11298|      ABQ|      DFW|    580|       264|182.64|        AA|  0.9774| 183.09|         AA|0.9774|  183.09|          NULL|          NULL|202131014011298AB...|\n",
      "|Table1a|2021|      3|         30140|         30466|     Albuquerque, NM|         Phoenix, AZ|      10140|      14107|      ABQ|      PHX|    328|       398|177.11|        WN|  0.6061| 184.49|         AA|0.3939|  165.77|          NULL|          NULL|202131014014107AB...|\n",
      "+-------+----+-------+--------------+--------------+--------------------+--------------------+-----------+-----------+---------+---------+-------+----------+------+----------+--------+-------+-----------+------+--------+--------------+--------------+--------------------+\n",
      "only showing top 5 rows\n",
      "\n"
     ]
    }
   ],
   "source": [
    "df.show(5)\n"
   ]
  },
  {
   "cell_type": "code",
   "execution_count": 193,
   "id": "cd6ade17",
   "metadata": {},
   "outputs": [
    {
     "name": "stdout",
     "output_type": "stream",
     "text": [
      "+---+----+-------+--------------+--------------+-----+-----+-----------+-----------+---------+---------+-------+----------+----+----------+--------+-------+-----------+-----+--------+--------------+--------------+-------+\n",
      "|tbl|Year|quarter|citymarketid_1|citymarketid_2|city1|city2|airportid_1|airportid_2|airport_1|airport_2|nsmiles|passengers|fare|carrier_lg|large_ms|fare_lg|carrier_low|lf_ms|fare_low|Geocoded_City1|Geocoded_City2|tbl1apk|\n",
      "+---+----+-------+--------------+--------------+-----+-----+-----------+-----------+---------+---------+-------+----------+----+----------+--------+-------+-----------+-----+--------+--------------+--------------+-------+\n",
      "|  0|   0|      0|             0|             0|    0|    0|          0|          0|        0|        0|      0|         0|   0|      1540|    1540|   1540|       1612| 1612|    1612|         39206|         39206|      0|\n",
      "+---+----+-------+--------------+--------------+-----+-----+-----------+-----------+---------+---------+-------+----------+----+----------+--------+-------+-----------+-----+--------+--------------+--------------+-------+\n",
      "\n"
     ]
    }
   ],
   "source": [
    "df.select([count(when(col(c).isNull(), c)).alias(c) for c in df.columns]).show()\n"
   ]
  },
  {
   "cell_type": "code",
   "execution_count": 194,
   "id": "34e28e2f",
   "metadata": {},
   "outputs": [
    {
     "name": "stdout",
     "output_type": "stream",
     "text": [
      "+-------+------------------+-----------------+------------------+-----------------+-------------------+\n",
      "|summary|        passengers|             fare|          large_ms|          nsmiles|              lf_ms|\n",
      "+-------+------------------+-----------------+------------------+-----------------+-------------------+\n",
      "|  count|            245955|           245955|            244415|           245955|             244343|\n",
      "|   mean| 299.4767945355858|218.9795867943276|0.6652516330831235|1189.812319326706|0.45043751243130975|\n",
      "| stddev|511.38948561649295|82.37248581123856|0.2246346557290856|703.1434716080329| 0.3326690289129114|\n",
      "|    min|                 0|             50.0|            0.0038|              109|               0.01|\n",
      "|    max|              8301|           3377.0|               1.0|             2724|                1.0|\n",
      "+-------+------------------+-----------------+------------------+-----------------+-------------------+\n",
      "\n"
     ]
    }
   ],
   "source": [
    "df.select('passengers', 'fare', 'large_ms', 'nsmiles', 'lf_ms').describe().show()"
   ]
  },
  {
   "cell_type": "code",
   "execution_count": 195,
   "id": "3b3e8eb8",
   "metadata": {},
   "outputs": [
    {
     "name": "stdout",
     "output_type": "stream",
     "text": [
      "\n",
      "Kích thước dữ liệu sau khi loại bỏ dòng lỗi: 244415 rows, 23 columns\n"
     ]
    }
   ],
   "source": [
    "df_clean = df.filter(col('large_ms').isNotNull())\n",
    "print(f\"\\nKích thước dữ liệu sau khi loại bỏ dòng lỗi: {df_clean.count()} rows, {len(df_clean.columns)} columns\")"
   ]
  },
  {
   "cell_type": "code",
   "execution_count": 196,
   "id": "133aa8a1",
   "metadata": {},
   "outputs": [
    {
     "name": "stdout",
     "output_type": "stream",
     "text": [
      "Số dòng sau khi làm sạch: 244415\n"
     ]
    }
   ],
   "source": [
    "df_clean = df_clean.filter((col('large_ms') >= 0) & (col('large_ms') <= 1))\n",
    "print(f\"Số dòng sau khi làm sạch: {df_clean.count()}\")"
   ]
  },
  {
   "cell_type": "code",
   "execution_count": 197,
   "id": "bd9564d6",
   "metadata": {},
   "outputs": [],
   "source": [
    "df_clean = df_clean.filter(\n",
    "    (col('passengers') > 0) & \n",
    "    (col('fare') > 0) & \n",
    "    (col('nsmiles') > 0)\n",
    ")"
   ]
  },
  {
   "cell_type": "code",
   "execution_count": 198,
   "id": "86f95396",
   "metadata": {},
   "outputs": [],
   "source": [
    "df_clean = df_clean.dropna(subset=['carrier_low'])\n"
   ]
  },
  {
   "cell_type": "code",
   "execution_count": 199,
   "id": "e528d01f",
   "metadata": {},
   "outputs": [
    {
     "name": "stdout",
     "output_type": "stream",
     "text": [
      "+---------+----------+-------------+--------------------+--------------------+-----------+-----------+-----------------+-----------------+---------------+---------------+-------------+----------------+----------+----------------+--------------+-------------+-----------------+-----------+--------------+--------------------+--------------------+-------------+\n",
      "|tbl_nulls|Year_nulls|quarter_nulls|citymarketid_1_nulls|citymarketid_2_nulls|city1_nulls|city2_nulls|airportid_1_nulls|airportid_2_nulls|airport_1_nulls|airport_2_nulls|nsmiles_nulls|passengers_nulls|fare_nulls|carrier_lg_nulls|large_ms_nulls|fare_lg_nulls|carrier_low_nulls|lf_ms_nulls|fare_low_nulls|Geocoded_City1_nulls|Geocoded_City2_nulls|tbl1apk_nulls|\n",
      "+---------+----------+-------------+--------------------+--------------------+-----------+-----------+-----------------+-----------------+---------------+---------------+-------------+----------------+----------+----------------+--------------+-------------+-----------------+-----------+--------------+--------------------+--------------------+-------------+\n",
      "|        0|         0|            0|                   0|                   0|          0|          0|                0|                0|              0|              0|            0|               0|         0|               0|             0|            0|                0|          0|             0|               38294|               38294|            0|\n",
      "+---------+----------+-------------+--------------------+--------------------+-----------+-----------+-----------------+-----------------+---------------+---------------+-------------+----------------+----------+----------------+--------------+-------------+-----------------+-----------+--------------+--------------------+--------------------+-------------+\n",
      "\n"
     ]
    }
   ],
   "source": [
    "\n",
    "df_clean.select([\n",
    "    sum(col(c).isNull().cast(\"int\")).alias(c + \"_nulls\") for c in df_clean.columns\n",
    "]).show()"
   ]
  },
  {
   "cell_type": "code",
   "execution_count": 200,
   "id": "8fde4ce7",
   "metadata": {},
   "outputs": [
    {
     "name": "stdout",
     "output_type": "stream",
     "text": [
      "Số dòng còn lại: 237985\n"
     ]
    }
   ],
   "source": [
    "print(f\"Số dòng còn lại: {df_clean.count()}\")\n"
   ]
  },
  {
   "cell_type": "code",
   "execution_count": 201,
   "id": "c6542149",
   "metadata": {},
   "outputs": [],
   "source": [
    "df_features = df_clean.withColumn(\n",
    "    'revenue', col('passengers') * col('fare')\n",
    ").withColumn(\n",
    "    'fare_per_mile', col('fare') / col('nsmiles')\n",
    ").withColumn(\n",
    "    'fare_difference', col('fare') - col('fare_low')\n",
    ").withColumn(\n",
    "    'is_largest_cheapest', \n",
    "    when(col('carrier_lg') == col('carrier_low'), 1).otherwise(0)\n",
    ")"
   ]
  },
  {
   "cell_type": "code",
   "execution_count": 202,
   "id": "8b379f41",
   "metadata": {},
   "outputs": [],
   "source": [
    "numeric_features = [\n",
    "    'passengers', 'fare', 'nsmiles', 'lf_ms',\n",
    "    'fare_low', 'revenue', 'fare_per_mile', 'fare_difference',\n",
    "    'Year', 'quarter'\n",
    "]"
   ]
  },
  {
   "cell_type": "code",
   "execution_count": 203,
   "id": "6fb512bf",
   "metadata": {},
   "outputs": [],
   "source": [
    "categorical_features = ['carrier_lg', 'carrier_low']"
   ]
  },
  {
   "cell_type": "code",
   "execution_count": 204,
   "id": "f00163be",
   "metadata": {},
   "outputs": [],
   "source": [
    "indexers = [\n",
    "    StringIndexer(inputCol=col, outputCol=col+\"_indexed\", handleInvalid=\"keep\")\n",
    "    for col in categorical_features\n",
    "]"
   ]
  },
  {
   "cell_type": "code",
   "execution_count": 205,
   "id": "d727f4a4",
   "metadata": {},
   "outputs": [
    {
     "name": "stdout",
     "output_type": "stream",
     "text": [
      "root\n",
      " |-- tbl: string (nullable = true)\n",
      " |-- Year: integer (nullable = true)\n",
      " |-- quarter: integer (nullable = true)\n",
      " |-- citymarketid_1: integer (nullable = true)\n",
      " |-- citymarketid_2: integer (nullable = true)\n",
      " |-- city1: string (nullable = true)\n",
      " |-- city2: string (nullable = true)\n",
      " |-- airportid_1: integer (nullable = true)\n",
      " |-- airportid_2: integer (nullable = true)\n",
      " |-- airport_1: string (nullable = true)\n",
      " |-- airport_2: string (nullable = true)\n",
      " |-- nsmiles: integer (nullable = true)\n",
      " |-- passengers: integer (nullable = true)\n",
      " |-- fare: double (nullable = true)\n",
      " |-- carrier_lg: string (nullable = true)\n",
      " |-- large_ms: double (nullable = true)\n",
      " |-- fare_lg: double (nullable = true)\n",
      " |-- carrier_low: string (nullable = true)\n",
      " |-- lf_ms: double (nullable = true)\n",
      " |-- fare_low: double (nullable = true)\n",
      " |-- Geocoded_City1: string (nullable = true)\n",
      " |-- Geocoded_City2: string (nullable = true)\n",
      " |-- tbl1apk: string (nullable = true)\n",
      " |-- revenue: double (nullable = true)\n",
      " |-- fare_per_mile: double (nullable = true)\n",
      " |-- fare_difference: double (nullable = true)\n",
      " |-- is_largest_cheapest: integer (nullable = false)\n",
      "\n"
     ]
    }
   ],
   "source": [
    "df_features.printSchema()"
   ]
  },
  {
   "cell_type": "code",
   "execution_count": 206,
   "id": "4d8e7195",
   "metadata": {},
   "outputs": [],
   "source": [
    "feature_cols = numeric_features + [col+\"_indexed\" for col in categorical_features]\n",
    "feature_cols.append('is_largest_cheapest')"
   ]
  },
  {
   "cell_type": "code",
   "execution_count": 207,
   "id": "41eca034",
   "metadata": {},
   "outputs": [],
   "source": [
    "assembler = VectorAssembler(\n",
    "    inputCols=feature_cols,\n",
    "    outputCol=\"features_raw\"\n",
    ")"
   ]
  },
  {
   "cell_type": "code",
   "execution_count": 208,
   "id": "83389462",
   "metadata": {},
   "outputs": [],
   "source": [
    "scaler = StandardScaler(\n",
    "    inputCol=\"features_raw\",\n",
    "    outputCol=\"features\",\n",
    "    withStd=True,\n",
    "    withMean=True\n",
    ")"
   ]
  },
  {
   "cell_type": "code",
   "execution_count": 209,
   "id": "4ca37332",
   "metadata": {},
   "outputs": [
    {
     "name": "stdout",
     "output_type": "stream",
     "text": [
      "\n",
      "=== CHIA DỮ LIỆU ===\n",
      "Số dòng train: 190123\n",
      "Số dòng test: 47862\n"
     ]
    }
   ],
   "source": [
    "train_data, test_data = df_features.randomSplit([0.8, 0.2], seed=42)\n",
    "\n",
    "print(f\"\\n=== CHIA DỮ LIỆU ===\")\n",
    "print(f\"Số dòng train: {train_data.count()}\")\n",
    "print(f\"Số dòng test: {test_data.count()}\")"
   ]
  },
  {
   "cell_type": "code",
   "execution_count": 210,
   "id": "71f950d1",
   "metadata": {},
   "outputs": [],
   "source": [
    "lr = LinearRegression(\n",
    "    featuresCol=\"features\",\n",
    "    labelCol=\"large_ms\",\n",
    "    maxIter=100,\n",
    "    regParam=0.1,\n",
    "    elasticNetParam=0.5\n",
    ")"
   ]
  },
  {
   "cell_type": "code",
   "execution_count": 211,
   "id": "5e867cb4",
   "metadata": {},
   "outputs": [],
   "source": [
    "pipeline_lr = Pipeline(stages=indexers + [assembler, scaler, lr])\n",
    "model_lr = pipeline_lr.fit(train_data)\n",
    "predictions_lr = model_lr.transform(test_data)"
   ]
  },
  {
   "cell_type": "code",
   "execution_count": 212,
   "id": "f5d07a29",
   "metadata": {},
   "outputs": [],
   "source": [
    "rf = RandomForestRegressor(\n",
    "    featuresCol=\"features\",\n",
    "    labelCol=\"large_ms\",\n",
    "    numTrees=100,\n",
    "    maxDepth=10,\n",
    "    seed=42\n",
    ")"
   ]
  },
  {
   "cell_type": "code",
   "execution_count": 213,
   "id": "4248db11",
   "metadata": {},
   "outputs": [],
   "source": [
    "pipeline_rf = Pipeline(stages=indexers + [assembler, scaler, rf])\n",
    "model_rf = pipeline_rf.fit(train_data)\n",
    "predictions_rf = model_rf.transform(test_data)"
   ]
  },
  {
   "cell_type": "code",
   "execution_count": 214,
   "id": "79340dd3",
   "metadata": {},
   "outputs": [],
   "source": [
    "gbt = GBTRegressor(\n",
    "    featuresCol=\"features\",\n",
    "    labelCol=\"large_ms\",\n",
    "    maxIter=100,\n",
    "    maxDepth=5,\n",
    "    seed=42\n",
    ")"
   ]
  },
  {
   "cell_type": "code",
   "execution_count": 215,
   "id": "7fd40436",
   "metadata": {},
   "outputs": [],
   "source": [
    "\n",
    "pipeline_gbt = Pipeline(stages=indexers + [assembler, scaler, gbt])\n",
    "model_gbt = pipeline_gbt.fit(train_data)\n",
    "predictions_gbt = model_gbt.transform(test_data)"
   ]
  },
  {
   "cell_type": "code",
   "execution_count": 216,
   "id": "80c3af7c",
   "metadata": {},
   "outputs": [],
   "source": [
    "evaluator_rmse = RegressionEvaluator(\n",
    "    labelCol=\"large_ms\",\n",
    "    predictionCol=\"prediction\",\n",
    "    metricName=\"rmse\"\n",
    ")\n",
    "\n",
    "evaluator_r2 = RegressionEvaluator(\n",
    "    labelCol=\"large_ms\",\n",
    "    predictionCol=\"prediction\",\n",
    "    metricName=\"r2\"\n",
    ")\n",
    "\n",
    "evaluator_mae = RegressionEvaluator(\n",
    "    labelCol=\"large_ms\",\n",
    "    predictionCol=\"prediction\",\n",
    "    metricName=\"mae\"\n",
    ")"
   ]
  },
  {
   "cell_type": "code",
   "execution_count": 217,
   "id": "8718aeaf",
   "metadata": {},
   "outputs": [
    {
     "name": "stdout",
     "output_type": "stream",
     "text": [
      "\n",
      "Linear Regression:\n",
      "  RMSE: 0.1943\n",
      "  R2: 0.2376\n",
      "  MAE: 0.1699\n",
      "\n",
      "Random Forest:\n",
      "  RMSE: 0.0840\n",
      "  R2: 0.8573\n",
      "  MAE: 0.0554\n",
      "\n",
      "Gradient Boosted Trees:\n",
      "  RMSE: 0.0765\n",
      "  R2: 0.8818\n",
      "  MAE: 0.0481\n"
     ]
    }
   ],
   "source": [
    "print(\"\\nLinear Regression:\")\n",
    "print(f\"  RMSE: {evaluator_rmse.evaluate(predictions_lr):.4f}\")\n",
    "print(f\"  R2: {evaluator_r2.evaluate(predictions_lr):.4f}\")\n",
    "print(f\"  MAE: {evaluator_mae.evaluate(predictions_lr):.4f}\")\n",
    "\n",
    "print(\"\\nRandom Forest:\")\n",
    "print(f\"  RMSE: {evaluator_rmse.evaluate(predictions_rf):.4f}\")\n",
    "print(f\"  R2: {evaluator_r2.evaluate(predictions_rf):.4f}\")\n",
    "print(f\"  MAE: {evaluator_mae.evaluate(predictions_rf):.4f}\")\n",
    "\n",
    "print(\"\\nGradient Boosted Trees:\")\n",
    "print(f\"  RMSE: {evaluator_rmse.evaluate(predictions_gbt):.4f}\")\n",
    "print(f\"  R2: {evaluator_r2.evaluate(predictions_gbt):.4f}\")\n",
    "print(f\"  MAE: {evaluator_mae.evaluate(predictions_gbt):.4f}\")"
   ]
  },
  {
   "cell_type": "code",
   "execution_count": 218,
   "id": "480a267b",
   "metadata": {},
   "outputs": [
    {
     "name": "stdout",
     "output_type": "stream",
     "text": [
      "+-------------------+--------------------+\n",
      "|            feature|          importance|\n",
      "+-------------------+--------------------+\n",
      "|              lf_ms|  0.6691844630064311|\n",
      "|    fare_difference| 0.13569947965126553|\n",
      "|            nsmiles| 0.06421050930453445|\n",
      "|      fare_per_mile| 0.03515753599119153|\n",
      "|is_largest_cheapest|0.034181782479342816|\n",
      "|            revenue| 0.01794006182416434|\n",
      "|         passengers|0.016684549979397834|\n",
      "| carrier_lg_indexed|0.010819914920363834|\n",
      "|               Year|0.006604698071603944|\n",
      "|carrier_low_indexed|0.004857337121019847|\n",
      "|               fare|0.002854490995978...|\n",
      "|           fare_low|0.001720933992446...|\n",
      "|            quarter|8.424266225933034E-5|\n",
      "+-------------------+--------------------+\n",
      "\n"
     ]
    }
   ],
   "source": [
    "rf_model = model_rf.stages[-1]\n",
    "feature_importance = rf_model.featureImportances.toArray()\n",
    "\n",
    "feature_names = feature_cols\n",
    "importance_df = spark.createDataFrame(\n",
    "    [(name, float(imp)) for name, imp in zip(feature_names, feature_importance)],\n",
    "    ['feature', 'importance']\n",
    ").orderBy(col('importance').desc())\n",
    "\n",
    "importance_df.show(20)"
   ]
  },
  {
   "cell_type": "code",
   "execution_count": 219,
   "id": "73cb55b1",
   "metadata": {},
   "outputs": [
    {
     "name": "stdout",
     "output_type": "stream",
     "text": [
      "+--------+------------------+----------+------+-------+----------+\n",
      "|large_ms|        prediction|passengers|  fare|nsmiles|carrier_lg|\n",
      "+--------+------------------+----------+------+-------+----------+\n",
      "|    0.85|0.8534900135796164|       133|275.63|    654|        UA|\n",
      "|    0.37|0.5309484391287608|         4|267.08|   1974|        US|\n",
      "|    0.26|0.4312600977159158|        68|258.75|   1670|        DL|\n",
      "|    0.83|0.8495292097959413|        57|139.36|   1123|        WN|\n",
      "|    0.66| 0.646960262991727|         4|223.75|   1861|        NW|\n",
      "|     0.8|0.7667079022924445|         7| 326.4|   1861|        DL|\n",
      "|    0.94|0.9354262355257376|       888| 86.67|    677|        WN|\n",
      "|    0.53|0.4827445549495522|        23|289.51|   1504|        UA|\n",
      "|     0.5|0.4973493884381909|        26|222.54|    963|        UA|\n",
      "|    0.44|0.5055744906018458|        71|204.62|    963|        UA|\n",
      "+--------+------------------+----------+------+-------+----------+\n",
      "only showing top 10 rows\n",
      "\n"
     ]
    }
   ],
   "source": [
    "predictions_rf.select(\n",
    "    'large_ms', 'prediction', \n",
    "    'passengers', 'fare', 'nsmiles', 'carrier_lg'\n",
    ").show(10)"
   ]
  },
  {
   "cell_type": "code",
   "execution_count": 221,
   "id": "353b6692",
   "metadata": {},
   "outputs": [],
   "source": [
    "lr = LinearRegression(featuresCol=\"features\", labelCol=\"large_ms\", maxIter=100)"
   ]
  },
  {
   "cell_type": "code",
   "execution_count": 222,
   "id": "b917b667",
   "metadata": {},
   "outputs": [],
   "source": [
    "paramGrid_lr = ParamGridBuilder() \\\n",
    "    .addGrid(lr.regParam, [0.0, 0.01, 0.1, 0.5, 1.0]) \\\n",
    "    .addGrid(lr.elasticNetParam, [0.0, 0.25, 0.5, 0.75, 1.0]) \\\n",
    "    .addGrid(lr.maxIter, [50, 100, 200]) \\\n",
    "    .build()"
   ]
  },
  {
   "cell_type": "code",
   "execution_count": 223,
   "id": "9d1265fd",
   "metadata": {},
   "outputs": [],
   "source": [
    "# Cross-validator\n",
    "cv_lr = CrossValidator(\n",
    "    estimator=Pipeline(stages=indexers + [assembler, scaler, lr]),\n",
    "    estimatorParamMaps=paramGrid_lr,\n",
    "    evaluator=evaluator_rmse,\n",
    "    numFolds=3,  # 3-fold cross-validation\n",
    "    parallelism=2,\n",
    "    seed=42\n",
    ")"
   ]
  },
  {
   "cell_type": "code",
   "execution_count": 224,
   "id": "785b7fbd",
   "metadata": {},
   "outputs": [],
   "source": [
    "cv_model_lr = cv_lr.fit(train_data)"
   ]
  },
  {
   "cell_type": "code",
   "execution_count": 225,
   "id": "78110811",
   "metadata": {},
   "outputs": [
    {
     "name": "stdout",
     "output_type": "stream",
     "text": [
      "Best parameters cho Linear Regression:\n",
      "  regParam: 0.0\n",
      "  elasticNetParam: 0.0\n",
      "  maxIter: 50\n",
      "\n"
     ]
    }
   ],
   "source": [
    "best_lr_model = cv_model_lr.bestModel.stages[-1]\n",
    "print(\"Best parameters cho Linear Regression:\")\n",
    "print(f\"  regParam: {best_lr_model.getRegParam()}\")\n",
    "print(f\"  elasticNetParam: {best_lr_model.getElasticNetParam()}\")\n",
    "print(f\"  maxIter: {best_lr_model.getMaxIter()}\\n\")"
   ]
  },
  {
   "cell_type": "code",
   "execution_count": 226,
   "id": "92c4947d",
   "metadata": {},
   "outputs": [
    {
     "name": "stdout",
     "output_type": "stream",
     "text": [
      "Kết quả trên Test Set:\n",
      "  RMSE: 0.1721\n",
      "  R²: 0.4013\n",
      "  MAE: 0.1381\n",
      "\n"
     ]
    }
   ],
   "source": [
    "predictions_lr = cv_model_lr.transform(test_data)\n",
    "print(\"Kết quả trên Test Set:\")\n",
    "print(f\"  RMSE: {evaluator_rmse.evaluate(predictions_lr):.4f}\")\n",
    "print(f\"  R²: {evaluator_r2.evaluate(predictions_lr):.4f}\")\n",
    "print(f\"  MAE: {evaluator_mae.evaluate(predictions_lr):.4f}\\n\")"
   ]
  },
  {
   "cell_type": "code",
   "execution_count": 227,
   "id": "7b0d5317",
   "metadata": {},
   "outputs": [
    {
     "name": "stdout",
     "output_type": "stream",
     "text": [
      "Cross-Validation Scores (RMSE):\n",
      "  Config 1: 0.1725\n",
      "  Config 2: 0.1725\n",
      "  Config 3: 0.1725\n",
      "  Config 4: 0.1725\n",
      "  Config 5: 0.1725\n"
     ]
    }
   ],
   "source": [
    "# Cross-validation scores\n",
    "cv_scores_lr = cv_model_lr.avgMetrics\n",
    "print(\"Cross-Validation Scores (RMSE):\")\n",
    "for idx, score in enumerate(cv_scores_lr[:5]):  # Top 5\n",
    "    print(f\"  Config {idx+1}: {score:.4f}\")\n"
   ]
  },
  {
   "cell_type": "code",
   "execution_count": 228,
   "id": "733811d0",
   "metadata": {},
   "outputs": [],
   "source": [
    "rf = RandomForestRegressor(featuresCol=\"features\", labelCol=\"large_ms\", seed=42)\n",
    "paramGrid_rf = ParamGridBuilder() \\\n",
    "    .addGrid(rf.numTrees, [50, 100, 150]) \\\n",
    "    .addGrid(rf.maxDepth, [5, 10, 15, 20]) \\\n",
    "    .addGrid(rf.minInstancesPerNode, [1, 5, 10]) \\\n",
    "    .addGrid(rf.maxBins, [32, 64]) \\\n",
    "    .build()"
   ]
  },
  {
   "cell_type": "code",
   "execution_count": 229,
   "id": "02a8f09e",
   "metadata": {},
   "outputs": [],
   "source": [
    "# TrainValidationSplit (nhanh hơn CrossValidator cho RF)\n",
    "tvs_rf = TrainValidationSplit(\n",
    "    estimator=Pipeline(stages=indexers + [assembler, scaler, rf]),\n",
    "    estimatorParamMaps=paramGrid_rf,\n",
    "    evaluator=evaluator_rmse,\n",
    "    trainRatio=0.8,  # 80% train, 20% validation\n",
    "    parallelism=2,\n",
    "    seed=42\n",
    ")"
   ]
  },
  {
   "cell_type": "code",
   "execution_count": 230,
   "id": "b572f0fd",
   "metadata": {},
   "outputs": [],
   "source": [
    "tvs_model_rf = tvs_rf.fit(train_data)"
   ]
  },
  {
   "cell_type": "code",
   "execution_count": 231,
   "id": "fcd4b5b0",
   "metadata": {},
   "outputs": [
    {
     "name": "stdout",
     "output_type": "stream",
     "text": [
      "Best parameters cho Random Forest:\n",
      "  numTrees: 150\n",
      "  maxDepth: 20\n",
      "  minInstancesPerNode: 1\n",
      "  maxBins: 64\n",
      "\n"
     ]
    }
   ],
   "source": [
    "# Best parameters\n",
    "best_rf_model = tvs_model_rf.bestModel.stages[-1]\n",
    "print(\"Best parameters cho Random Forest:\")\n",
    "print(f\"  numTrees: {best_rf_model.getNumTrees}\")\n",
    "print(f\"  maxDepth: {best_rf_model.getMaxDepth()}\")\n",
    "print(f\"  minInstancesPerNode: {best_rf_model.getMinInstancesPerNode()}\")\n",
    "print(f\"  maxBins: {best_rf_model.getMaxBins()}\\n\")"
   ]
  },
  {
   "cell_type": "code",
   "execution_count": 232,
   "id": "10a8063f",
   "metadata": {},
   "outputs": [
    {
     "name": "stdout",
     "output_type": "stream",
     "text": [
      "Kết quả trên Test Set:\n",
      "  RMSE: 0.0670\n",
      "  R²: 0.9092\n",
      "  MAE: 0.0394\n",
      "\n"
     ]
    }
   ],
   "source": [
    "# Đánh giá trên test set\n",
    "predictions_rf = tvs_model_rf.transform(test_data)\n",
    "print(\"Kết quả trên Test Set:\")\n",
    "print(f\"  RMSE: {evaluator_rmse.evaluate(predictions_rf):.4f}\")\n",
    "print(f\"  R²: {evaluator_r2.evaluate(predictions_rf):.4f}\")\n",
    "print(f\"  MAE: {evaluator_mae.evaluate(predictions_rf):.4f}\\n\")"
   ]
  },
  {
   "cell_type": "code",
   "execution_count": 233,
   "id": "fb852620",
   "metadata": {},
   "outputs": [],
   "source": [
    "# GBT với hyperparameter tuning\n",
    "gbt = GBTRegressor(featuresCol=\"features\", labelCol=\"large_ms\", seed=42)\n",
    "\n",
    "# Param grid cho GBT\n",
    "paramGrid_gbt = ParamGridBuilder() \\\n",
    "    .addGrid(gbt.maxIter, [50, 100, 150]) \\\n",
    "    .addGrid(gbt.maxDepth, [3, 5, 7]) \\\n",
    "    .addGrid(gbt.stepSize, [0.01, 0.1, 0.2]) \\\n",
    "    .addGrid(gbt.subsamplingRate, [0.8, 1.0]) \\\n",
    "    .build()"
   ]
  },
  {
   "cell_type": "code",
   "execution_count": 234,
   "id": "0842316f",
   "metadata": {},
   "outputs": [],
   "source": [
    "# TrainValidationSplit cho GBT\n",
    "tvs_gbt = TrainValidationSplit(\n",
    "    estimator=Pipeline(stages=indexers + [assembler, scaler, gbt]),\n",
    "    estimatorParamMaps=paramGrid_gbt,\n",
    "    evaluator=evaluator_rmse,\n",
    "    trainRatio=0.8,\n",
    "    parallelism=2,\n",
    "    seed=42\n",
    ")"
   ]
  },
  {
   "cell_type": "code",
   "execution_count": 235,
   "id": "a879228e",
   "metadata": {},
   "outputs": [],
   "source": [
    "tvs_model_gbt = tvs_gbt.fit(train_data)\n"
   ]
  },
  {
   "cell_type": "code",
   "execution_count": 236,
   "id": "f651118e",
   "metadata": {},
   "outputs": [
    {
     "name": "stdout",
     "output_type": "stream",
     "text": [
      "Best parameters cho GBT:\n",
      "  maxIter: 150\n",
      "  maxDepth: 7\n",
      "  stepSize: 0.1\n",
      "  subsamplingRate: 1.0\n",
      "\n"
     ]
    }
   ],
   "source": [
    "# Best parameters\n",
    "best_gbt_model = tvs_model_gbt.bestModel.stages[-1]\n",
    "print(\"Best parameters cho GBT:\")\n",
    "print(f\"  maxIter: {best_gbt_model.getMaxIter()}\")\n",
    "print(f\"  maxDepth: {best_gbt_model.getMaxDepth()}\")\n",
    "print(f\"  stepSize: {best_gbt_model.getStepSize()}\")\n",
    "print(f\"  subsamplingRate: {best_gbt_model.getSubsamplingRate()}\\n\")"
   ]
  },
  {
   "cell_type": "code",
   "execution_count": 237,
   "id": "bd6065ed",
   "metadata": {},
   "outputs": [
    {
     "name": "stdout",
     "output_type": "stream",
     "text": [
      "Kết quả trên Test Set:\n",
      "  RMSE: 0.0695\n",
      "  R²: 0.9024\n",
      "  MAE: 0.0429\n",
      "\n"
     ]
    }
   ],
   "source": [
    "# Đánh giá trên test set\n",
    "predictions_gbt = tvs_model_gbt.transform(test_data)\n",
    "print(\"Kết quả trên Test Set:\")\n",
    "print(f\"  RMSE: {evaluator_rmse.evaluate(predictions_gbt):.4f}\")\n",
    "print(f\"  R²: {evaluator_r2.evaluate(predictions_gbt):.4f}\")\n",
    "print(f\"  MAE: {evaluator_mae.evaluate(predictions_gbt):.4f}\\n\")"
   ]
  }
 ],
 "metadata": {
  "kernelspec": {
   "display_name": "Python 3",
   "language": "python",
   "name": "python3"
  },
  "language_info": {
   "codemirror_mode": {
    "name": "ipython",
    "version": 3
   },
   "file_extension": ".py",
   "mimetype": "text/x-python",
   "name": "python",
   "nbconvert_exporter": "python",
   "pygments_lexer": "ipython3",
   "version": "3.9.8"
  }
 },
 "nbformat": 4,
 "nbformat_minor": 5
}
